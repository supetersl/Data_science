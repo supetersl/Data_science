{
 "cells": [
  {
   "cell_type": "markdown",
   "metadata": {},
   "source": [
    "# Выбор локации для скважины"
   ]
  },
  {
   "cell_type": "markdown",
   "metadata": {},
   "source": [
    "Допустим, вы работаете в добывающей компании «ГлавРосГосНефть». Нужно решить, где бурить новую скважину.\n",
    "\n",
    "Вам предоставлены пробы нефти в трёх регионах: в каждом 10 000 месторождений, где измерили качество нефти и объём её запасов. Постройте модель машинного обучения, которая поможет определить регион, где добыча принесёт наибольшую прибыль. Проанализируйте возможную прибыль и риски техникой *Bootstrap.*\n",
    "\n",
    "Шаги для выбора локации:\n",
    "\n",
    "- В избранном регионе ищут месторождения, для каждого определяют значения признаков;\n",
    "- Строят модель и оценивают объём запасов;\n",
    "- Выбирают месторождения с самым высокими оценками значений. Количество месторождений зависит от бюджета компании и стоимости разработки одной скважины;\n",
    "- Прибыль равна суммарной прибыли отобранных месторождений."
   ]
  },
  {
   "cell_type": "code",
   "execution_count": 1,
   "metadata": {},
   "outputs": [],
   "source": [
    "#загрузка библиотек\n",
    "import pandas as pd\n",
    "from sklearn.preprocessing import MinMaxScaler\n",
    "from sklearn.linear_model import LinearRegression\n",
    "from sklearn.metrics import mean_squared_error\n",
    "from sklearn.model_selection import train_test_split\n",
    "import numpy as np\n",
    "import scipy.stats as st"
   ]
  },
  {
   "cell_type": "markdown",
   "metadata": {},
   "source": [
    "## Загрузка и подготовка данных"
   ]
  },
  {
   "cell_type": "code",
   "execution_count": 2,
   "metadata": {},
   "outputs": [],
   "source": [
    "try:\n",
    "    d0 = pd.read_csv('datasets/geo_data_0.csv')\n",
    "    d1 = pd.read_csv('datasets/geo_data_1.csv')\n",
    "    d2 = pd.read_csv('datasets/geo_data_2.csv')\n",
    "except:\n",
    "    d0 = pd.read_csv('/datasets/geo_data_0.csv')\n",
    "    d1 = pd.read_csv('/datasets/geo_data_1.csv')\n",
    "    d2 = pd.read_csv('/datasets/geo_data_2.csv')\n",
    "    \n",
    "data = [d0, d1, d2]"
   ]
  },
  {
   "cell_type": "code",
   "execution_count": 3,
   "metadata": {},
   "outputs": [],
   "source": [
    "#Проведем краткое описание датасета\n",
    "def describe(d):\n",
    "    print('Имя датасета', [x for x in globals() if globals()[x] is d][0])\n",
    "    print('Размерность', d.shape)\n",
    "    print('Количество NA', d.isna().sum().sum())\n",
    "    print('Всего дубликатов', d.duplicated().sum())\n",
    "    print('Не уникальных названий скважин', d['id'].duplicated().sum())\n",
    "    print('Описание датасета')\n",
    "    print(d.describe())"
   ]
  },
  {
   "cell_type": "code",
   "execution_count": 4,
   "metadata": {},
   "outputs": [
    {
     "name": "stdout",
     "output_type": "stream",
     "text": [
      "Имя датасета d0\n",
      "Размерность (100000, 5)\n",
      "Количество NA 0\n",
      "Всего дубликатов 0\n",
      "Не уникальных названий скважин 10\n",
      "Описание датасета\n",
      "                  f0             f1             f2        product\n",
      "count  100000.000000  100000.000000  100000.000000  100000.000000\n",
      "mean        0.500419       0.250143       2.502647      92.500000\n",
      "std         0.871832       0.504433       3.248248      44.288691\n",
      "min        -1.408605      -0.848218     -12.088328       0.000000\n",
      "25%        -0.072580      -0.200881       0.287748      56.497507\n",
      "50%         0.502360       0.250252       2.515969      91.849972\n",
      "75%         1.073581       0.700646       4.715088     128.564089\n",
      "max         2.362331       1.343769      16.003790     185.364347\n",
      "--------------\n",
      "Имя датасета d1\n",
      "Размерность (100000, 5)\n",
      "Количество NA 0\n",
      "Всего дубликатов 0\n",
      "Не уникальных названий скважин 4\n",
      "Описание датасета\n",
      "                  f0             f1             f2        product\n",
      "count  100000.000000  100000.000000  100000.000000  100000.000000\n",
      "mean        1.141296      -4.796579       2.494541      68.825000\n",
      "std         8.965932       5.119872       1.703572      45.944423\n",
      "min       -31.609576     -26.358598      -0.018144       0.000000\n",
      "25%        -6.298551      -8.267985       1.000021      26.953261\n",
      "50%         1.153055      -4.813172       2.011479      57.085625\n",
      "75%         8.621015      -1.332816       3.999904     107.813044\n",
      "max        29.421755      18.734063       5.019721     137.945408\n",
      "--------------\n",
      "Имя датасета d2\n",
      "Размерность (100000, 5)\n",
      "Количество NA 0\n",
      "Всего дубликатов 0\n",
      "Не уникальных названий скважин 4\n",
      "Описание датасета\n",
      "                  f0             f1             f2        product\n",
      "count  100000.000000  100000.000000  100000.000000  100000.000000\n",
      "mean        0.002023      -0.002081       2.495128      95.000000\n",
      "std         1.732045       1.730417       3.473445      44.749921\n",
      "min        -8.760004      -7.084020     -11.970335       0.000000\n",
      "25%        -1.162288      -1.174820       0.130359      59.450441\n",
      "50%         0.009424      -0.009482       2.484236      94.925613\n",
      "75%         1.158535       1.163678       4.858794     130.595027\n",
      "max         7.238262       7.844801      16.739402     190.029838\n",
      "--------------\n"
     ]
    }
   ],
   "source": [
    "for s in data:\n",
    "    describe(s)\n",
    "    print('--------------')\n"
   ]
  },
  {
   "cell_type": "markdown",
   "metadata": {},
   "source": [
    "Выводы по краткому анализу:\n",
    "1. Все данные заполнены\n",
    "2. Есть очень небольшие повторения по названием скважин. Я буду считать, что это ошибка ввода и не буду исправлять\n",
    "3. Все данные требуют нормирования: имеется разброс между минимальными и максимальными значениями показателей"
   ]
  },
  {
   "cell_type": "markdown",
   "metadata": {},
   "source": [
    "## Обучение и проверка модели"
   ]
  },
  {
   "cell_type": "code",
   "execution_count": 5,
   "metadata": {},
   "outputs": [],
   "source": [
    "def train_val_model(d, report):\n",
    "    \n",
    "    features, target = d.drop(['product', 'id'], axis=1), d[\"product\"]\n",
    "    features_train, features_valid, target_train, target_valid = train_test_split(features, \n",
    "                                                                                  target, \n",
    "                                                                                  test_size=0.25, \n",
    "                                                                                  random_state=12345)\n",
    "    #нормализуекм данные, не смешивая выборки\n",
    "    scaler = MinMaxScaler()\n",
    "    \n",
    "    #Закомментил и исправил ниже в соответствии с замечаниями\n",
    "    #features_train = scaler.fit_transform(features_train)\n",
    "    #features_valid = scaler.fit_transform(features_valid)\n",
    "    \n",
    "    scaler.fit(features_train)\n",
    "    features_train = scaler.transform(features_train)\n",
    "    features_valid = scaler.transform(features_valid)\n",
    "    \n",
    "    model = LinearRegression()\n",
    "    model.fit(features_train, target_train)\n",
    "    predictions = model.predict(features_valid)\n",
    "    predictions = pd.Series(predictions)\n",
    "    rmse = (mean_squared_error(predictions, target_valid))**.5\n",
    "    average_product = sum(predictions) / len(predictions)\n",
    "    \n",
    "    if report == True:\n",
    "        print(\"RMSE: {0:.2f}\".format(rmse))\n",
    "        print(\"Average product: {0:.2f}\".format(average_product))\n",
    "    \n",
    "    return (predictions, target_valid.reset_index(drop=True))\n",
    "    "
   ]
  },
  {
   "cell_type": "code",
   "execution_count": 6,
   "metadata": {},
   "outputs": [
    {
     "name": "stdout",
     "output_type": "stream",
     "text": [
      "Имя датасета d0\n",
      "RMSE: 37.58\n",
      "Average product: 92.59\n",
      "--------------\n",
      "Имя датасета d1\n",
      "RMSE: 0.89\n",
      "Average product: 68.73\n",
      "--------------\n",
      "Имя датасета d2\n",
      "RMSE: 40.03\n",
      "Average product: 94.97\n",
      "--------------\n"
     ]
    }
   ],
   "source": [
    "for s in data:\n",
    "    print('Имя датасета', [x for x in globals() if globals()[x] is s][0])\n",
    "    train_val_model(s, True)\n",
    "    print('--------------')"
   ]
  },
  {
   "cell_type": "markdown",
   "metadata": {},
   "source": [
    "Вывод: лучше всего мы спрогнозировали датасет d1, т.к. у него наименьший RMSE"
   ]
  },
  {
   "cell_type": "markdown",
   "metadata": {},
   "source": [
    "## Подготовка к расчёту прибыли"
   ]
  },
  {
   "cell_type": "code",
   "execution_count": 14,
   "metadata": {},
   "outputs": [
    {
     "name": "stdout",
     "output_type": "stream",
     "text": [
      "Точка безубыточности : 111.11\n"
     ]
    }
   ],
   "source": [
    "#Сохраним в переменные\n",
    "predictions = []\n",
    "targets = []\n",
    "for s in data:\n",
    "    predictions.append(train_val_model(s, False)[0])\n",
    "    targets.append(train_val_model(s, False)[1])\n",
    "\n",
    "\n",
    "#Условия задачи\n",
    "BUDGET = 10000000000\n",
    "BARREL_COST = 450*1000\n",
    "\n",
    "print('Точка безубыточности : {0:.2f}'.format(BUDGET/BARREL_COST/200))\n",
    "\n",
    "#Вывод: необходимо добывать не менее 111.11 баррелей, чтобы \"выйти в ноль\""
   ]
  },
  {
   "cell_type": "code",
   "execution_count": 9,
   "metadata": {},
   "outputs": [
    {
     "name": "stdout",
     "output_type": "stream",
     "text": [
      "Имя датасета d0\n",
      "Среднее значение в регионе : 92.50 баррелей\n",
      "Точка безубыточности : 111.11 баррелей\n",
      "--------------\n",
      "Имя датасета d1\n",
      "Среднее значение в регионе : 68.83 баррелей\n",
      "Точка безубыточности : 111.11 баррелей\n",
      "--------------\n",
      "Имя датасета d2\n",
      "Среднее значение в регионе : 95.00 баррелей\n",
      "Точка безубыточности : 111.11 баррелей\n",
      "--------------\n"
     ]
    }
   ],
   "source": [
    "# Сравним синтетически посчитанную точку безубыточности со средним значением в каждом регионе\n",
    "for s in data:\n",
    "    print('Имя датасета', [x for x in globals() if globals()[x] is s][0])\n",
    "    print('Среднее значение в регионе : {0:.2f}'.format(s['product'].mean()), 'баррелей')\n",
    "    print('Точка безубыточности : {0:.2f}'.format(BUDGET/BARREL_COST/200), 'баррелей')\n",
    "    print('--------------')"
   ]
  },
  {
   "cell_type": "markdown",
   "metadata": {},
   "source": [
    "Вывод: По всем регионам среднее значение по скважине меньше точки безубыточности."
   ]
  },
  {
   "cell_type": "markdown",
   "metadata": {},
   "source": [
    "## Расчёт прибыли и рисков "
   ]
  },
  {
   "cell_type": "code",
   "execution_count": 11,
   "metadata": {},
   "outputs": [],
   "source": [
    "def profit(predictions, target):\n",
    "    top_preds = predictions.sort_values(ascending=False)\n",
    "    top_target = target[top_preds.index][:200]\n",
    "    profit = top_target.sum() * BARREL_COST\n",
    "    return profit - BUDGET\n"
   ]
  },
  {
   "cell_type": "code",
   "execution_count": 12,
   "metadata": {},
   "outputs": [],
   "source": [
    "def interval_risk(predictions, target):\n",
    "    state = np.random.RandomState(12345)\n",
    "    revenue = []\n",
    "    for _ in range(1000):\n",
    "        target_sample = target.sample(500, replace=True, random_state=state)\n",
    "        predictions_sample = predictions[target_sample.index]\n",
    "        revenue.append(profit(predictions_sample, target_sample))   \n",
    "    \n",
    "    revenue = pd.Series(revenue)\n",
    "    low = revenue.quantile(0.025)\n",
    "    high= revenue.quantile(0.975)\n",
    "    \n",
    "    mean_revenue = int(sum(revenue) / len(revenue))\n",
    "    risk = st.percentileofscore(revenue, 0)\n",
    "\n",
    "    return ((low, high), mean_revenue, risk)\n"
   ]
  },
  {
   "cell_type": "code",
   "execution_count": 13,
   "metadata": {},
   "outputs": [
    {
     "name": "stdout",
     "output_type": "stream",
     "text": [
      "data 0:\n",
      "Mean: 425938526\n",
      "95% confidence interval: (-102090094.83793654, 947976353.3583689)\n",
      "Risk of loss: 6.0\n",
      "-----------------------------------------\n",
      "\n",
      "\n",
      "data 1:\n",
      "Mean: 515222773\n",
      "95% confidence interval: (68873225.37050176, 931547591.2570494)\n",
      "Risk of loss: 1.0\n",
      "-----------------------------------------\n",
      "\n",
      "\n",
      "data 2:\n",
      "Mean: 435008362\n",
      "95% confidence interval: (-128880547.32978901, 969706954.1802661)\n",
      "Risk of loss: 6.4\n",
      "-----------------------------------------\n",
      "\n",
      "\n"
     ]
    }
   ],
   "source": [
    "\n",
    "for i in range(3):\n",
    "    interval, mean_revenue, risk = interval_risk(predictions[i], targets[i])\n",
    "    print(f\"data {i}:\")\n",
    "    print(f\"Mean: {mean_revenue}\")\n",
    "    print(f\"95% confidence interval: {interval}\")\n",
    "    print(f\"Risk of loss: {risk}\")\n",
    "    print(\"-----------------------------------------\\n\\n\")\n",
    "    "
   ]
  },
  {
   "cell_type": "markdown",
   "metadata": {},
   "source": [
    "Вывод:\n",
    "1. Больше всего прогнозируемая средняя прибыль по датасету 1, с наименьшим риском. Этот регион и необходимо выбрать\n",
    "2. По датасету 1 с 95% вероятностью можно сказать, что прибыль будет находиться в интервале 68873225.37 до 931547591.25\n",
    "3. По датасетам 0 и 2 доверительный интервал от глубоких убытков до большой прибыли не дает возможности полноценно спронозировать работу. Поэтому эти регионы либо следует уточнить, либо исключить из дальнейшего рассмотрения."
   ]
  },
  {
   "cell_type": "markdown",
   "metadata": {},
   "source": [
    "## Чек-лист готовности проекта"
   ]
  },
  {
   "cell_type": "markdown",
   "metadata": {},
   "source": [
    "Поставьте 'x' в выполненных пунктах. Далее нажмите Shift+Enter."
   ]
  },
  {
   "cell_type": "markdown",
   "metadata": {},
   "source": [
    "- [x]  Jupyter Notebook открыт\n",
    "- [X]  Весь код выполняется без ошибок\n",
    "- [X]  Ячейки с кодом расположены в порядке исполнения\n",
    "- [X]  Выполнен шаг 1: данные подготовлены\n",
    "- [X]  Выполнен шаг 2: модели обучены и проверены\n",
    "    - [X]  Данные корректно разбиты на обучающую и валидационную выборки\n",
    "    - [X]  Модели обучены, предсказания сделаны\n",
    "    - [X]  Предсказания и правильные ответы на валидационной выборке сохранены\n",
    "    - [X]  На экране напечатаны результаты\n",
    "    - [X]  Сделаны выводы\n",
    "- [X]  Выполнен шаг 3: проведена подготовка к расчёту прибыли\n",
    "    - [X]  Для всех ключевых значений созданы константы Python\n",
    "    - [X]  Посчитано минимальное среднее количество продукта в месторождениях региона, достаточное для разработки\n",
    "    - [X]  По предыдущему пункту сделаны выводы\n",
    "    - [X]  Написана функция расчёта прибыли\n",
    "- [X]  Выполнен шаг 4: посчитаны риски и прибыль\n",
    "    - [X]  Проведена процедура *Bootstrap*\n",
    "    - [X]  Все параметры бутстрепа соответствуют условию\n",
    "    - [X]  Найдены все нужные величины\n",
    "    - [X]  Предложен регион для разработки месторождения\n",
    "    - [X]  Выбор региона обоснован"
   ]
  },
  {
   "cell_type": "code",
   "execution_count": null,
   "metadata": {},
   "outputs": [],
   "source": []
  }
 ],
 "metadata": {
  "ExecuteTimeLog": [
   {
    "duration": 1166,
    "start_time": "2022-10-31T17:47:51.930Z"
   },
   {
    "duration": 1531,
    "start_time": "2022-10-31T17:47:53.098Z"
   },
   {
    "duration": 4,
    "start_time": "2022-10-31T17:47:54.631Z"
   },
   {
    "duration": 297,
    "start_time": "2022-10-31T17:47:54.636Z"
   },
   {
    "duration": 6,
    "start_time": "2022-10-31T17:51:32.766Z"
   },
   {
    "duration": 410,
    "start_time": "2022-10-31T17:51:35.833Z"
   },
   {
    "duration": 1030,
    "start_time": "2022-10-31T17:53:13.808Z"
   },
   {
    "duration": 75,
    "start_time": "2022-10-31T17:55:12.002Z"
   },
   {
    "duration": 5,
    "start_time": "2022-10-31T17:55:26.178Z"
   },
   {
    "duration": 406,
    "start_time": "2022-10-31T17:55:28.852Z"
   },
   {
    "duration": 6,
    "start_time": "2022-10-31T17:55:51.751Z"
   },
   {
    "duration": 405,
    "start_time": "2022-10-31T17:55:53.736Z"
   },
   {
    "duration": 19,
    "start_time": "2022-10-31T17:58:00.754Z"
   },
   {
    "duration": 6,
    "start_time": "2022-10-31T17:58:30.286Z"
   },
   {
    "duration": 5,
    "start_time": "2022-10-31T18:00:29.151Z"
   },
   {
    "duration": 123,
    "start_time": "2022-10-31T18:00:37.817Z"
   },
   {
    "duration": 6,
    "start_time": "2022-10-31T18:00:42.625Z"
   },
   {
    "duration": 8,
    "start_time": "2022-10-31T18:10:39.070Z"
   },
   {
    "duration": 7,
    "start_time": "2022-10-31T18:10:46.473Z"
   },
   {
    "duration": 902,
    "start_time": "2022-10-31T18:11:25.438Z"
   },
   {
    "duration": 78,
    "start_time": "2022-10-31T18:11:57.376Z"
   },
   {
    "duration": 1022,
    "start_time": "2022-10-31T18:12:02.511Z"
   },
   {
    "duration": 9,
    "start_time": "2022-10-31T18:12:37.245Z"
   },
   {
    "duration": 8,
    "start_time": "2022-10-31T18:12:59.201Z"
   },
   {
    "duration": 10,
    "start_time": "2022-10-31T18:13:24.804Z"
   },
   {
    "duration": 8,
    "start_time": "2022-10-31T18:14:18.357Z"
   },
   {
    "duration": 11,
    "start_time": "2022-10-31T18:14:42.741Z"
   },
   {
    "duration": 9,
    "start_time": "2022-10-31T18:14:53.522Z"
   },
   {
    "duration": 25,
    "start_time": "2022-10-31T18:15:11.469Z"
   },
   {
    "duration": 4,
    "start_time": "2022-10-31T18:17:40.076Z"
   },
   {
    "duration": 4,
    "start_time": "2022-10-31T18:17:41.950Z"
   },
   {
    "duration": 26,
    "start_time": "2022-10-31T18:17:50.981Z"
   },
   {
    "duration": 18,
    "start_time": "2022-10-31T18:18:52.781Z"
   },
   {
    "duration": 3,
    "start_time": "2022-10-31T18:19:06.432Z"
   },
   {
    "duration": 5,
    "start_time": "2022-10-31T18:19:07.240Z"
   },
   {
    "duration": 5022,
    "start_time": "2022-10-31T18:19:08.526Z"
   },
   {
    "duration": 1021,
    "start_time": "2022-11-01T11:36:03.114Z"
   },
   {
    "duration": 1702,
    "start_time": "2022-11-01T11:36:04.136Z"
   },
   {
    "duration": 4,
    "start_time": "2022-11-01T11:36:05.839Z"
   },
   {
    "duration": 251,
    "start_time": "2022-11-01T11:36:05.845Z"
   },
   {
    "duration": 5,
    "start_time": "2022-11-01T11:36:06.098Z"
   },
   {
    "duration": 384,
    "start_time": "2022-11-01T11:36:06.104Z"
   },
   {
    "duration": 915,
    "start_time": "2022-11-01T11:36:15.363Z"
   },
   {
    "duration": 1006,
    "start_time": "2022-11-01T11:36:39.772Z"
   },
   {
    "duration": 9,
    "start_time": "2022-11-01T11:59:21.728Z"
   },
   {
    "duration": 4,
    "start_time": "2022-11-01T12:05:05.295Z"
   },
   {
    "duration": 3,
    "start_time": "2022-11-01T12:07:41.546Z"
   },
   {
    "duration": 7,
    "start_time": "2022-11-01T12:07:42.492Z"
   },
   {
    "duration": 4028,
    "start_time": "2022-11-01T12:07:45.492Z"
   },
   {
    "duration": 886,
    "start_time": "2022-11-01T12:08:32.093Z"
   }
  ],
  "kernelspec": {
   "display_name": "Python 3 (ipykernel)",
   "language": "python",
   "name": "python3"
  },
  "language_info": {
   "codemirror_mode": {
    "name": "ipython",
    "version": 3
   },
   "file_extension": ".py",
   "mimetype": "text/x-python",
   "name": "python",
   "nbconvert_exporter": "python",
   "pygments_lexer": "ipython3",
   "version": "3.9.12"
  },
  "toc": {
   "base_numbering": 1,
   "nav_menu": {},
   "number_sections": true,
   "sideBar": true,
   "skip_h1_title": true,
   "title_cell": "Table of Contents",
   "title_sidebar": "Contents",
   "toc_cell": false,
   "toc_position": {},
   "toc_section_display": true,
   "toc_window_display": false
  }
 },
 "nbformat": 4,
 "nbformat_minor": 2
}
