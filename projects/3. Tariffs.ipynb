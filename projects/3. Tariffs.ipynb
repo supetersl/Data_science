{
 "cells": [
  {
   "cell_type": "markdown",
   "metadata": {},
   "source": [
    "# Рекомендация тарифов"
   ]
  },
  {
   "cell_type": "markdown",
   "metadata": {},
   "source": [
    "В вашем распоряжении данные о поведении клиентов, которые уже перешли на эти тарифы (из проекта курса «Статистический анализ данных»). Нужно построить модель для задачи классификации, которая выберет подходящий тариф. Предобработка данных не понадобится — вы её уже сделали.\n",
    "\n",
    "Постройте модель с максимально большим значением *accuracy*. Чтобы сдать проект успешно, нужно довести долю правильных ответов по крайней мере до 0.75. Проверьте *accuracy* на тестовой выборке самостоятельно."
   ]
  },
  {
   "cell_type": "markdown",
   "metadata": {},
   "source": [
    "\n",
    "<div class=\"alert alert-block alert-info\">\n",
    "Оператор мобильной связи «Мегалайн» выяснил: многие клиенты пользуются архивными тарифами. Они хотят построить систему, способную проанализировать поведение клиентов и предложить пользователям новый тариф: «Смарт» или «Ультра».\n",
    "В вашем распоряжении данные о поведении клиентов, которые уже перешли на эти тарифы (из проекта курса «Статистический анализ данных»). Нужно построить модель для задачи классификации, которая выберет подходящий тариф. Этим я займусь в исследовании\n",
    "</div>\n",
    "\n"
   ]
  },
  {
   "cell_type": "markdown",
   "metadata": {},
   "source": [
    "## Откройте и изучите файл"
   ]
  },
  {
   "cell_type": "code",
   "execution_count": 3,
   "metadata": {},
   "outputs": [],
   "source": [
    "import pandas as pd\n",
    "from sklearn.model_selection import train_test_split\n",
    "from sklearn.tree import DecisionTreeClassifier\n",
    "from sklearn.metrics import accuracy_score\n",
    "from sklearn.ensemble import RandomForestClassifier\n",
    "from sklearn.linear_model import LogisticRegression \n",
    "from matplotlib import pyplot as plt\n",
    "from sklearn import tree\n",
    "from sklearn.dummy import DummyClassifier"
   ]
  },
  {
   "cell_type": "code",
   "execution_count": 4,
   "metadata": {},
   "outputs": [
    {
     "data": {
      "text/html": [
       "<div>\n",
       "<style scoped>\n",
       "    .dataframe tbody tr th:only-of-type {\n",
       "        vertical-align: middle;\n",
       "    }\n",
       "\n",
       "    .dataframe tbody tr th {\n",
       "        vertical-align: top;\n",
       "    }\n",
       "\n",
       "    .dataframe thead th {\n",
       "        text-align: right;\n",
       "    }\n",
       "</style>\n",
       "<table border=\"1\" class=\"dataframe\">\n",
       "  <thead>\n",
       "    <tr style=\"text-align: right;\">\n",
       "      <th></th>\n",
       "      <th>calls</th>\n",
       "      <th>minutes</th>\n",
       "      <th>messages</th>\n",
       "      <th>mb_used</th>\n",
       "      <th>is_ultra</th>\n",
       "    </tr>\n",
       "  </thead>\n",
       "  <tbody>\n",
       "    <tr>\n",
       "      <th>2984</th>\n",
       "      <td>68.0</td>\n",
       "      <td>515.74</td>\n",
       "      <td>4.0</td>\n",
       "      <td>25125.71</td>\n",
       "      <td>1</td>\n",
       "    </tr>\n",
       "    <tr>\n",
       "      <th>1682</th>\n",
       "      <td>89.0</td>\n",
       "      <td>595.42</td>\n",
       "      <td>47.0</td>\n",
       "      <td>17013.70</td>\n",
       "      <td>0</td>\n",
       "    </tr>\n",
       "    <tr>\n",
       "      <th>1748</th>\n",
       "      <td>87.0</td>\n",
       "      <td>697.23</td>\n",
       "      <td>0.0</td>\n",
       "      <td>8335.70</td>\n",
       "      <td>0</td>\n",
       "    </tr>\n",
       "    <tr>\n",
       "      <th>1084</th>\n",
       "      <td>94.0</td>\n",
       "      <td>615.52</td>\n",
       "      <td>39.0</td>\n",
       "      <td>12728.96</td>\n",
       "      <td>0</td>\n",
       "    </tr>\n",
       "    <tr>\n",
       "      <th>1290</th>\n",
       "      <td>88.0</td>\n",
       "      <td>573.46</td>\n",
       "      <td>54.0</td>\n",
       "      <td>8714.69</td>\n",
       "      <td>0</td>\n",
       "    </tr>\n",
       "    <tr>\n",
       "      <th>2820</th>\n",
       "      <td>51.0</td>\n",
       "      <td>391.22</td>\n",
       "      <td>0.0</td>\n",
       "      <td>23062.38</td>\n",
       "      <td>0</td>\n",
       "    </tr>\n",
       "    <tr>\n",
       "      <th>2847</th>\n",
       "      <td>66.0</td>\n",
       "      <td>387.07</td>\n",
       "      <td>96.0</td>\n",
       "      <td>18931.48</td>\n",
       "      <td>0</td>\n",
       "    </tr>\n",
       "    <tr>\n",
       "      <th>1650</th>\n",
       "      <td>77.0</td>\n",
       "      <td>481.43</td>\n",
       "      <td>85.0</td>\n",
       "      <td>9765.00</td>\n",
       "      <td>1</td>\n",
       "    </tr>\n",
       "    <tr>\n",
       "      <th>244</th>\n",
       "      <td>156.0</td>\n",
       "      <td>1058.22</td>\n",
       "      <td>59.0</td>\n",
       "      <td>18932.66</td>\n",
       "      <td>1</td>\n",
       "    </tr>\n",
       "    <tr>\n",
       "      <th>1083</th>\n",
       "      <td>82.0</td>\n",
       "      <td>600.61</td>\n",
       "      <td>57.0</td>\n",
       "      <td>11957.52</td>\n",
       "      <td>0</td>\n",
       "    </tr>\n",
       "  </tbody>\n",
       "</table>\n",
       "</div>"
      ],
      "text/plain": [
       "      calls  minutes  messages   mb_used  is_ultra\n",
       "2984   68.0   515.74       4.0  25125.71         1\n",
       "1682   89.0   595.42      47.0  17013.70         0\n",
       "1748   87.0   697.23       0.0   8335.70         0\n",
       "1084   94.0   615.52      39.0  12728.96         0\n",
       "1290   88.0   573.46      54.0   8714.69         0\n",
       "2820   51.0   391.22       0.0  23062.38         0\n",
       "2847   66.0   387.07      96.0  18931.48         0\n",
       "1650   77.0   481.43      85.0   9765.00         1\n",
       "244   156.0  1058.22      59.0  18932.66         1\n",
       "1083   82.0   600.61      57.0  11957.52         0"
      ]
     },
     "execution_count": 4,
     "metadata": {},
     "output_type": "execute_result"
    }
   ],
   "source": [
    "#Откроем файл и посмотрим 10 случайных строк\n",
    "df = pd.read_csv('/datasets/users_behavior.csv')\n",
    "df.sample(10)"
   ]
  },
  {
   "cell_type": "code",
   "execution_count": 5,
   "metadata": {},
   "outputs": [
    {
     "name": "stdout",
     "output_type": "stream",
     "text": [
      "<class 'pandas.core.frame.DataFrame'>\n",
      "RangeIndex: 3214 entries, 0 to 3213\n",
      "Data columns (total 5 columns):\n",
      " #   Column    Non-Null Count  Dtype  \n",
      "---  ------    --------------  -----  \n",
      " 0   calls     3214 non-null   float64\n",
      " 1   minutes   3214 non-null   float64\n",
      " 2   messages  3214 non-null   float64\n",
      " 3   mb_used   3214 non-null   float64\n",
      " 4   is_ultra  3214 non-null   int64  \n",
      "dtypes: float64(4), int64(1)\n",
      "memory usage: 125.7 KB\n"
     ]
    }
   ],
   "source": [
    "#посмотрим описание\n",
    "# Все данные заполнены, Nan нет. Все форматы данных адекватны.\n",
    "\n",
    "df.info() "
   ]
  },
  {
   "cell_type": "code",
   "execution_count": 6,
   "metadata": {},
   "outputs": [
    {
     "data": {
      "text/html": [
       "<div>\n",
       "<style scoped>\n",
       "    .dataframe tbody tr th:only-of-type {\n",
       "        vertical-align: middle;\n",
       "    }\n",
       "\n",
       "    .dataframe tbody tr th {\n",
       "        vertical-align: top;\n",
       "    }\n",
       "\n",
       "    .dataframe thead th {\n",
       "        text-align: right;\n",
       "    }\n",
       "</style>\n",
       "<table border=\"1\" class=\"dataframe\">\n",
       "  <thead>\n",
       "    <tr style=\"text-align: right;\">\n",
       "      <th></th>\n",
       "      <th>calls</th>\n",
       "      <th>minutes</th>\n",
       "      <th>messages</th>\n",
       "      <th>mb_used</th>\n",
       "      <th>is_ultra</th>\n",
       "    </tr>\n",
       "  </thead>\n",
       "  <tbody>\n",
       "    <tr>\n",
       "      <th>count</th>\n",
       "      <td>3214.000000</td>\n",
       "      <td>3214.000000</td>\n",
       "      <td>3214.000000</td>\n",
       "      <td>3214.000000</td>\n",
       "      <td>3214.000000</td>\n",
       "    </tr>\n",
       "    <tr>\n",
       "      <th>mean</th>\n",
       "      <td>63.038892</td>\n",
       "      <td>438.208787</td>\n",
       "      <td>38.281269</td>\n",
       "      <td>17207.673836</td>\n",
       "      <td>0.306472</td>\n",
       "    </tr>\n",
       "    <tr>\n",
       "      <th>std</th>\n",
       "      <td>33.236368</td>\n",
       "      <td>234.569872</td>\n",
       "      <td>36.148326</td>\n",
       "      <td>7570.968246</td>\n",
       "      <td>0.461100</td>\n",
       "    </tr>\n",
       "    <tr>\n",
       "      <th>min</th>\n",
       "      <td>0.000000</td>\n",
       "      <td>0.000000</td>\n",
       "      <td>0.000000</td>\n",
       "      <td>0.000000</td>\n",
       "      <td>0.000000</td>\n",
       "    </tr>\n",
       "    <tr>\n",
       "      <th>25%</th>\n",
       "      <td>40.000000</td>\n",
       "      <td>274.575000</td>\n",
       "      <td>9.000000</td>\n",
       "      <td>12491.902500</td>\n",
       "      <td>0.000000</td>\n",
       "    </tr>\n",
       "    <tr>\n",
       "      <th>50%</th>\n",
       "      <td>62.000000</td>\n",
       "      <td>430.600000</td>\n",
       "      <td>30.000000</td>\n",
       "      <td>16943.235000</td>\n",
       "      <td>0.000000</td>\n",
       "    </tr>\n",
       "    <tr>\n",
       "      <th>75%</th>\n",
       "      <td>82.000000</td>\n",
       "      <td>571.927500</td>\n",
       "      <td>57.000000</td>\n",
       "      <td>21424.700000</td>\n",
       "      <td>1.000000</td>\n",
       "    </tr>\n",
       "    <tr>\n",
       "      <th>max</th>\n",
       "      <td>244.000000</td>\n",
       "      <td>1632.060000</td>\n",
       "      <td>224.000000</td>\n",
       "      <td>49745.730000</td>\n",
       "      <td>1.000000</td>\n",
       "    </tr>\n",
       "  </tbody>\n",
       "</table>\n",
       "</div>"
      ],
      "text/plain": [
       "             calls      minutes     messages       mb_used     is_ultra\n",
       "count  3214.000000  3214.000000  3214.000000   3214.000000  3214.000000\n",
       "mean     63.038892   438.208787    38.281269  17207.673836     0.306472\n",
       "std      33.236368   234.569872    36.148326   7570.968246     0.461100\n",
       "min       0.000000     0.000000     0.000000      0.000000     0.000000\n",
       "25%      40.000000   274.575000     9.000000  12491.902500     0.000000\n",
       "50%      62.000000   430.600000    30.000000  16943.235000     0.000000\n",
       "75%      82.000000   571.927500    57.000000  21424.700000     1.000000\n",
       "max     244.000000  1632.060000   224.000000  49745.730000     1.000000"
      ]
     },
     "execution_count": 6,
     "metadata": {},
     "output_type": "execute_result"
    }
   ],
   "source": [
    "df.describe()"
   ]
  },
  {
   "cell_type": "code",
   "execution_count": 16,
   "metadata": {},
   "outputs": [
    {
     "data": {
      "text/html": [
       "<div>\n",
       "<style scoped>\n",
       "    .dataframe tbody tr th:only-of-type {\n",
       "        vertical-align: middle;\n",
       "    }\n",
       "\n",
       "    .dataframe tbody tr th {\n",
       "        vertical-align: top;\n",
       "    }\n",
       "\n",
       "    .dataframe thead th {\n",
       "        text-align: right;\n",
       "    }\n",
       "</style>\n",
       "<table border=\"1\" class=\"dataframe\">\n",
       "  <thead>\n",
       "    <tr style=\"text-align: right;\">\n",
       "      <th></th>\n",
       "      <th>calls</th>\n",
       "      <th>minutes</th>\n",
       "      <th>messages</th>\n",
       "      <th>mb_used</th>\n",
       "      <th>is_ultra</th>\n",
       "    </tr>\n",
       "  </thead>\n",
       "  <tbody>\n",
       "    <tr>\n",
       "      <th>calls</th>\n",
       "      <td>1.000000</td>\n",
       "      <td>0.982083</td>\n",
       "      <td>0.177385</td>\n",
       "      <td>0.286442</td>\n",
       "      <td>0.207122</td>\n",
       "    </tr>\n",
       "    <tr>\n",
       "      <th>minutes</th>\n",
       "      <td>0.982083</td>\n",
       "      <td>1.000000</td>\n",
       "      <td>0.173110</td>\n",
       "      <td>0.280967</td>\n",
       "      <td>0.206955</td>\n",
       "    </tr>\n",
       "    <tr>\n",
       "      <th>messages</th>\n",
       "      <td>0.177385</td>\n",
       "      <td>0.173110</td>\n",
       "      <td>1.000000</td>\n",
       "      <td>0.195721</td>\n",
       "      <td>0.203830</td>\n",
       "    </tr>\n",
       "    <tr>\n",
       "      <th>mb_used</th>\n",
       "      <td>0.286442</td>\n",
       "      <td>0.280967</td>\n",
       "      <td>0.195721</td>\n",
       "      <td>1.000000</td>\n",
       "      <td>0.198568</td>\n",
       "    </tr>\n",
       "    <tr>\n",
       "      <th>is_ultra</th>\n",
       "      <td>0.207122</td>\n",
       "      <td>0.206955</td>\n",
       "      <td>0.203830</td>\n",
       "      <td>0.198568</td>\n",
       "      <td>1.000000</td>\n",
       "    </tr>\n",
       "  </tbody>\n",
       "</table>\n",
       "</div>"
      ],
      "text/plain": [
       "             calls   minutes  messages   mb_used  is_ultra\n",
       "calls     1.000000  0.982083  0.177385  0.286442  0.207122\n",
       "minutes   0.982083  1.000000  0.173110  0.280967  0.206955\n",
       "messages  0.177385  0.173110  1.000000  0.195721  0.203830\n",
       "mb_used   0.286442  0.280967  0.195721  1.000000  0.198568\n",
       "is_ultra  0.207122  0.206955  0.203830  0.198568  1.000000"
      ]
     },
     "execution_count": 16,
     "metadata": {},
     "output_type": "execute_result"
    }
   ],
   "source": [
    "#Посмотрим корреляцию признаков. Сильная зависимость наблюдается между показателями calls и minutes. \n",
    "#Очевидно, что должна быть некторая связь между количеством  звонков и количеством минут. Больше корреляций не обнаружено. \n",
    "df.corr()"
   ]
  },
  {
   "cell_type": "code",
   "execution_count": 15,
   "metadata": {},
   "outputs": [
    {
     "data": {
      "text/plain": [
       "0    2229\n",
       "1     985\n",
       "Name: is_ultra, dtype: int64"
      ]
     },
     "execution_count": 15,
     "metadata": {},
     "output_type": "execute_result"
    }
   ],
   "source": [
    "# Посмотрим соотношение классов. Соотношение 0,44\n",
    "df.is_ultra.value_counts()"
   ]
  },
  {
   "cell_type": "markdown",
   "metadata": {},
   "source": [
    "## Разбейте данные на выборки"
   ]
  },
  {
   "cell_type": "code",
   "execution_count": 22,
   "metadata": {},
   "outputs": [],
   "source": [
    "#Сначала разобъем датасет на тестовую и тренировочную выборки (60/40)\n",
    "y = df_train.drop('is_ultra', axis=1)\n",
    "df_train, df_test = train_test_split(df, test_size=0.4, random_state=12345)\n",
    "features_train = df_train.drop('is_ultra', axis=1)\n",
    "target_train = df_train['is_ultra']\n",
    "\n",
    "#Тестовую разобьем на валидационную и тестовую 50/50\n",
    "features_t = df_test.drop('is_ultra', axis=1)\n",
    "target_t = df_test['is_ultra']\n",
    "\n",
    "#Сохраним долю классов в выборках\n",
    "features_test, features_valid, target_test, target_valid = train_test_split(features_t, target_t, test_size=0.5, random_state=12345, stratify=target_t)"
   ]
  },
  {
   "cell_type": "markdown",
   "metadata": {},
   "source": [
    "## Исследуйте модели"
   ]
  },
  {
   "cell_type": "markdown",
   "metadata": {},
   "source": [
    "Для прогнозирования будем использовать следующие модели:\n",
    "1. Дерево решений (с 5 разными глубинами)\n",
    "2. Случайный лес (от 50 до 500 деревьев в каждом глубина от 2 до 30)\n",
    "3. Логистическую регрессию.\n"
   ]
  },
  {
   "cell_type": "markdown",
   "metadata": {},
   "source": [
    "#### DecisionTreeClassifier "
   ]
  },
  {
   "cell_type": "code",
   "execution_count": 44,
   "metadata": {},
   "outputs": [
    {
     "name": "stdout",
     "output_type": "stream",
     "text": [
      "Accuracy лучшей модели: 0.7853810264385692 DecisionTreeClassifier(max_depth=4, random_state=12345)\n"
     ]
    }
   ],
   "source": [
    "best_model_DecisionTreeClassifier = None\n",
    "best_result_DecisionTreeClassifier = 0\n",
    "for depth in range(1, 6):\n",
    "\tmodel = DecisionTreeClassifier(random_state=12345, max_depth=depth) \n",
    "\tmodel.fit(features_train, target_train) \n",
    "\tpredictions = model.predict(features_valid) \n",
    "\tresult = accuracy_score(target_valid, predictions) \n",
    "\tif result > best_result_DecisionTreeClassifier:\n",
    "\t\tbest_model_DecisionTreeClassifier = model\n",
    "\t\tbest_result_DecisionTreeClassifier = result\n",
    "        \n",
    "print(\"Accuracy лучшей модели:\", best_result_DecisionTreeClassifier, best_model_DecisionTreeClassifier)"
   ]
  },
  {
   "cell_type": "markdown",
   "metadata": {},
   "source": [
    "#### RandomForestClassifier"
   ]
  },
  {
   "cell_type": "code",
   "execution_count": 52,
   "metadata": {},
   "outputs": [
    {
     "name": "stdout",
     "output_type": "stream",
     "text": [
      "Accuracy наилучшей модели на валидационной выборке: 0.7947122861586314 RandomForestClassifier(max_depth=50, n_estimators=12, random_state=12345)\n"
     ]
    }
   ],
   "source": [
    "best_model_RandomForestClassifier = None\n",
    "best_result_RandomForestClassifier = 0\n",
    "for est in range(2, 30, 2):\n",
    "    for depth in range(50, 551, 50):\n",
    "        model = RandomForestClassifier(random_state=12345, n_estimators=est, max_depth=depth) \n",
    "        model.fit(features_train, target_train) \n",
    "        predictions = model.predict(features_valid) \n",
    "        result = accuracy_score(target_valid, predictions) \n",
    "        if result > best_result_RandomForestClassifier:\n",
    "            best_model_RandomForestClassifier = model \n",
    "            best_result_RandomForestClassifier = result\n",
    "\n",
    "print(\"Accuracy наилучшей модели на валидационной выборке:\", best_result_RandomForestClassifier, best_model_RandomForestClassifier)"
   ]
  },
  {
   "cell_type": "markdown",
   "metadata": {},
   "source": [
    "#### LogisticRegression "
   ]
  },
  {
   "cell_type": "code",
   "execution_count": 53,
   "metadata": {},
   "outputs": [
    {
     "name": "stdout",
     "output_type": "stream",
     "text": [
      "Accuracy модели на валидационной выборке: 0.7916018662519441 LogisticRegression(max_iter=1000, random_state=12345)\n"
     ]
    }
   ],
   "source": [
    "model = LogisticRegression(random_state = 12345, solver = 'lbfgs', max_iter = 1000)\n",
    "model.fit(features_train, target_train) \n",
    "predictions = model.predict(features_valid) \n",
    "result_LogisticRegression = accuracy_score(target_valid, predictions)\n",
    "best_model_LogisticRegression = model\n",
    "print(\"Accuracy модели на валидационной выборке:\", result, best_model_LogisticRegression)    "
   ]
  },
  {
   "cell_type": "markdown",
   "metadata": {},
   "source": [
    "## Проверьте модель на тестовой выборке"
   ]
  },
  {
   "cell_type": "code",
   "execution_count": 54,
   "metadata": {},
   "outputs": [
    {
     "name": "stdout",
     "output_type": "stream",
     "text": [
      "Accuracy наилучшей модели на тестовой выборке: 0.7791601866251944 RandomForestClassifier(max_depth=50, n_estimators=12, random_state=12345)\n"
     ]
    }
   ],
   "source": [
    "#Лучшая модель - RandomForestClassifier\n",
    "predictions = best_model_RandomForestClassifier.predict(features_test) \n",
    "result_best = accuracy_score(target_test, predictions) \n",
    "print(\"Accuracy наилучшей модели на тестовой выборке:\", result_best, best_model_RandomForestClassifier)"
   ]
  },
  {
   "cell_type": "code",
   "execution_count": 55,
   "metadata": {},
   "outputs": [
    {
     "name": "stdout",
     "output_type": "stream",
     "text": [
      "Accuracy DecisionTreeClassifier на тестовой выборке: 0.7682737169517885 DecisionTreeClassifier(max_depth=4, random_state=12345)\n",
      "Accuracy LogisticRegression на тестовой выборке: 0.6905132192846034 LogisticRegression(max_iter=1000, random_state=12345)\n"
     ]
    }
   ],
   "source": [
    "#Посмотрим другие модели, может, они улучшились на тестовой выборке.\n",
    "#DecisionTreeClassifier\n",
    "predictions = best_model_DecisionTreeClassifier.predict(features_test) \n",
    "result = accuracy_score(target_test, predictions) \n",
    "print(\"Accuracy DecisionTreeClassifier на тестовой выборке:\", result, best_model_DecisionTreeClassifier)\n",
    "\n",
    "predictions = best_model_LogisticRegression.predict(features_test) \n",
    "result = accuracy_score(target_test, predictions) \n",
    "print(\"Accuracy LogisticRegression на тестовой выборке:\", result, best_model_LogisticRegression)"
   ]
  },
  {
   "cell_type": "markdown",
   "metadata": {},
   "source": [
    "#### Вывод: Лучшая модель - RandomForestClassifier(max_depth=50, n_estimators=12, random_state=12345)"
   ]
  },
  {
   "cell_type": "code",
   "execution_count": 56,
   "metadata": {},
   "outputs": [
    {
     "data": {
      "image/png": "[encoded data removed]",
      "text/plain": [
       "<Figure size 1296x720 with 1 Axes>"
      ]
     },
     "metadata": {
      "needs_background": "light"
     },
     "output_type": "display_data"
    }
   ],
   "source": [
    "#Результат на тестовой выборке получился лучше, чем на валидационной. Построим одно из деревьев решений для наглядности.\n",
    "\n",
    "plt.figure(figsize=(18,10))\n",
    "tree.plot_tree(best_model_RandomForestClassifier.estimators_[1])\n",
    "plt.show()"
   ]
  },
  {
   "cell_type": "markdown",
   "metadata": {},
   "source": [
    "## (бонус) Проверьте модели на адекватность"
   ]
  },
  {
   "cell_type": "code",
   "execution_count": 57,
   "metadata": {},
   "outputs": [
    {
     "data": {
      "text/html": [
       "<div>\n",
       "<style scoped>\n",
       "    .dataframe tbody tr th:only-of-type {\n",
       "        vertical-align: middle;\n",
       "    }\n",
       "\n",
       "    .dataframe tbody tr th {\n",
       "        vertical-align: top;\n",
       "    }\n",
       "\n",
       "    .dataframe thead th {\n",
       "        text-align: right;\n",
       "    }\n",
       "</style>\n",
       "<table border=\"1\" class=\"dataframe\">\n",
       "  <thead>\n",
       "    <tr style=\"text-align: right;\">\n",
       "      <th></th>\n",
       "      <th>strategy</th>\n",
       "      <th>value</th>\n",
       "      <th>best</th>\n",
       "    </tr>\n",
       "  </thead>\n",
       "  <tbody>\n",
       "    <tr>\n",
       "      <th>0</th>\n",
       "      <td>most_frequent</td>\n",
       "      <td>0.695179</td>\n",
       "      <td>0.77916</td>\n",
       "    </tr>\n",
       "    <tr>\n",
       "      <th>1</th>\n",
       "      <td>prior</td>\n",
       "      <td>0.695179</td>\n",
       "      <td>0.77916</td>\n",
       "    </tr>\n",
       "    <tr>\n",
       "      <th>2</th>\n",
       "      <td>stratified</td>\n",
       "      <td>0.578538</td>\n",
       "      <td>0.77916</td>\n",
       "    </tr>\n",
       "    <tr>\n",
       "      <th>3</th>\n",
       "      <td>uniform</td>\n",
       "      <td>0.505443</td>\n",
       "      <td>0.77916</td>\n",
       "    </tr>\n",
       "  </tbody>\n",
       "</table>\n",
       "</div>"
      ],
      "text/plain": [
       "        strategy     value     best\n",
       "0  most_frequent  0.695179  0.77916\n",
       "1          prior  0.695179  0.77916\n",
       "2     stratified  0.578538  0.77916\n",
       "3        uniform  0.505443  0.77916"
      ]
     },
     "execution_count": 57,
     "metadata": {},
     "output_type": "execute_result"
    }
   ],
   "source": [
    "#Проверим лучшие модели средними данными на тестовой выборке\n",
    "# Будем использовать DummyClassifier в качестве простейшей модели, которую обычно используют для сравнения\n",
    "\n",
    "strategy = ['most_frequent', 'prior', 'stratified', 'uniform']\n",
    "ind_vmen = pd.DataFrame()\n",
    "\n",
    "for i in range(len(strategy)):\n",
    "    dummy = DummyClassifier(strategy=strategy[i] ,random_state=12345)    \n",
    "    dummy.fit(features_train, target_train)\n",
    "    predictions = dummy.predict(features_test)\n",
    "    result = accuracy_score(target_test, predictions)\n",
    "    ind_vmen.loc[i,'strategy'] = strategy[i]\n",
    "    ind_vmen.loc[i,'value'] = result\n",
    "    ind_vmen.loc[i,'best'] = result_best\n",
    "\n",
    "ind_vmen"
   ]
  },
  {
   "cell_type": "markdown",
   "metadata": {},
   "source": [
    "### Общий вывод:\n",
    "1. Мы использовали 3 модели. Лучшие результаты у RandomForestClassifier со следующими гиперпараметрами max_depth=50, n_estimators=12, random_state=12345\n",
    "2. Значения метрик на валидационной выборке получились выше, чем на тестовой, хоть мы и сбалансировали классы.\n",
    "3. Проверка лучшей модели на адекватность была осуществлена методом классификации DummyClassifier. Он показал, что качество нашей модели лучше качества самых примитивных вариантов, можно признать модель рабочей. Качество мождели - вполне приемлемо, но можно и лучше "
   ]
  },
  {
   "cell_type": "markdown",
   "metadata": {},
   "source": [
    "# <font color='orange'>Рекомендации 🔥</font>\n",
    "* Анализ данных на python и pandas https://www.youtube.com/watch?v=dd3RcafdOQk&t=82s\n",
    "* Как обучается Дерево решений https://www.youtube.com/watch?v=j8L07nuns2Y\n",
    "* Случайный лес https://www.youtube.com/watch?v=EhJPSV-Jr_0\n",
    "* Линейная регрессия https://www.youtube.com/watch?v=QZJ94igWVxQ&t=49s\n",
    "* Логистическая регрессия https://www.youtube.com/watch?v=49ck7kCyxr4\n",
    "* Курс \"Введение в машинное обучение\" https://stepik.org/course/4852\n",
    "* В нашем деле нужно быть всегда в курсе всех новинок, новостей и тд, вот тут публикуют новости в области DS: https://www.infoq.com/data-analysis/news/\n",
    "* Всем аналитикам данных рекомендую книгу Даниела Канемана \"Думай медленно, решай быстро\""
   ]
  }
 ],
 "metadata": {
  "ExecuteTimeLog": [
   {
    "duration": 93,
    "start_time": "2022-09-26T18:01:54.668Z"
   },
   {
    "duration": 43,
    "start_time": "2022-09-26T18:07:40.148Z"
   },
   {
    "duration": 1648,
    "start_time": "2022-09-26T18:08:28.537Z"
   },
   {
    "duration": 148,
    "start_time": "2022-09-26T18:08:34.364Z"
   },
   {
    "duration": 16,
    "start_time": "2022-09-26T18:08:36.899Z"
   },
   {
    "duration": 30,
    "start_time": "2022-09-26T18:08:37.718Z"
   },
   {
    "duration": 16,
    "start_time": "2022-09-26T18:08:41.857Z"
   },
   {
    "duration": 13,
    "start_time": "2022-09-26T18:12:30.524Z"
   },
   {
    "duration": 13,
    "start_time": "2022-09-26T18:12:33.873Z"
   },
   {
    "duration": 11,
    "start_time": "2022-09-26T18:12:37.092Z"
   },
   {
    "duration": 15,
    "start_time": "2022-09-26T18:12:51.434Z"
   },
   {
    "duration": 11,
    "start_time": "2022-09-26T18:13:14.951Z"
   },
   {
    "duration": 87,
    "start_time": "2022-09-26T18:13:29.349Z"
   },
   {
    "duration": 7,
    "start_time": "2022-09-26T18:13:38.951Z"
   },
   {
    "duration": 6,
    "start_time": "2022-09-26T18:15:06.315Z"
   },
   {
    "duration": 11,
    "start_time": "2022-09-26T18:16:57.102Z"
   },
   {
    "duration": 9,
    "start_time": "2022-09-26T18:21:26.966Z"
   },
   {
    "duration": 4,
    "start_time": "2022-09-26T18:21:34.705Z"
   },
   {
    "duration": 39,
    "start_time": "2022-09-26T18:21:53.184Z"
   },
   {
    "duration": 6,
    "start_time": "2022-09-26T18:22:37.934Z"
   },
   {
    "duration": 11,
    "start_time": "2022-09-26T18:25:26.989Z"
   },
   {
    "duration": 11,
    "start_time": "2022-09-26T18:26:21.347Z"
   },
   {
    "duration": 34,
    "start_time": "2022-09-26T18:26:29.686Z"
   },
   {
    "duration": 876,
    "start_time": "2022-09-26T18:26:35.007Z"
   },
   {
    "duration": 3318,
    "start_time": "2022-09-26T18:28:50.643Z"
   },
   {
    "duration": 27,
    "start_time": "2022-09-26T18:29:09.503Z"
   },
   {
    "duration": 13,
    "start_time": "2022-09-26T18:30:51.226Z"
   },
   {
    "duration": 14,
    "start_time": "2022-09-26T18:30:59.966Z"
   },
   {
    "duration": 13,
    "start_time": "2022-09-26T18:31:01.799Z"
   },
   {
    "duration": 20698,
    "start_time": "2022-09-26T18:31:18.221Z"
   },
   {
    "duration": 22004,
    "start_time": "2022-09-26T18:31:51.498Z"
   },
   {
    "duration": 22,
    "start_time": "2022-09-26T18:37:06.456Z"
   },
   {
    "duration": 12,
    "start_time": "2022-09-26T18:39:09.911Z"
   },
   {
    "duration": 37,
    "start_time": "2022-09-26T18:39:22.548Z"
   },
   {
    "duration": 3536,
    "start_time": "2022-09-26T18:39:26.418Z"
   },
   {
    "duration": 38,
    "start_time": "2022-09-26T18:39:29.956Z"
   },
   {
    "duration": 10,
    "start_time": "2022-09-26T18:39:32.778Z"
   },
   {
    "duration": 11,
    "start_time": "2022-09-26T18:39:35.928Z"
   },
   {
    "duration": 21568,
    "start_time": "2022-09-26T18:39:36.869Z"
   },
   {
    "duration": 29,
    "start_time": "2022-09-26T18:40:10.923Z"
   },
   {
    "duration": 4,
    "start_time": "2022-09-26T18:40:23.339Z"
   },
   {
    "duration": 13,
    "start_time": "2022-09-26T18:41:02.097Z"
   },
   {
    "duration": 12,
    "start_time": "2022-09-26T18:41:03.711Z"
   },
   {
    "duration": 44,
    "start_time": "2022-09-26T18:41:12.408Z"
   },
   {
    "duration": 3496,
    "start_time": "2022-09-26T18:41:13.315Z"
   },
   {
    "duration": 29,
    "start_time": "2022-09-26T18:41:16.813Z"
   },
   {
    "duration": 28,
    "start_time": "2022-09-26T18:41:22.215Z"
   },
   {
    "duration": 10,
    "start_time": "2022-09-26T18:41:23.776Z"
   },
   {
    "duration": 10,
    "start_time": "2022-09-26T18:41:25.155Z"
   },
   {
    "duration": 21488,
    "start_time": "2022-09-26T18:42:07.374Z"
   },
   {
    "duration": 30,
    "start_time": "2022-09-26T18:42:38.977Z"
   },
   {
    "duration": 10089,
    "start_time": "2022-09-26T18:51:46.023Z"
   },
   {
    "duration": 28,
    "start_time": "2022-09-26T18:52:07.025Z"
   },
   {
    "duration": 10,
    "start_time": "2022-09-26T18:52:12.892Z"
   },
   {
    "duration": 10,
    "start_time": "2022-09-26T18:52:14.711Z"
   },
   {
    "duration": 21435,
    "start_time": "2022-09-26T18:52:18.097Z"
   },
   {
    "duration": 21,
    "start_time": "2022-09-26T18:53:53.380Z"
   }
  ],
  "kernelspec": {
   "display_name": "Python 3 (ipykernel)",
   "language": "python",
   "name": "python3"
  },
  "language_info": {
   "codemirror_mode": {
    "name": "ipython",
    "version": 3
   },
   "file_extension": ".py",
   "mimetype": "text/x-python",
   "name": "python",
   "nbconvert_exporter": "python",
   "pygments_lexer": "ipython3",
   "version": "3.9.12"
  },
  "toc": {
   "base_numbering": 1,
   "nav_menu": {},
   "number_sections": true,
   "sideBar": true,
   "skip_h1_title": true,
   "title_cell": "Table of Contents",
   "title_sidebar": "Contents",
   "toc_cell": false,
   "toc_position": {},
   "toc_section_display": true,
   "toc_window_display": false
  }
 },
 "nbformat": 4,
 "nbformat_minor": 2
}
