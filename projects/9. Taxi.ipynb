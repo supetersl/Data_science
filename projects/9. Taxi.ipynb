{
 "cells": [
  {
   "cell_type": "markdown",
   "id": "3d10ce36",
   "metadata": {},
   "source": [
    "# Временные ряды"
   ]
  },
  {
   "cell_type": "markdown",
   "id": "544efd9a",
   "metadata": {},
   "source": [
    "### 1. Задание"
   ]
  },
  {
   "cell_type": "markdown",
   "id": "e15a2456",
   "metadata": {},
   "source": [
    "Компания «Чётенькое такси» собрала исторические данные о заказах такси в аэропортах. Чтобы привлекать больше водителей в период пиковой нагрузки, нужно спрогнозировать количество заказов такси на следующий час. Постройте модель для такого предсказания.\n",
    "Значение метрики RMSE на тестовой выборке должно быть не больше 48."
   ]
  },
  {
   "cell_type": "markdown",
   "id": "b93bb7d4",
   "metadata": {},
   "source": [
    "### 2. Импорт и подготовка данных"
   ]
  },
  {
   "cell_type": "code",
   "execution_count": 116,
   "id": "142ae0ae",
   "metadata": {},
   "outputs": [],
   "source": [
    "import pandas as pd\n",
    "import matplotlib.pyplot as plt\n",
    "from statsmodels.tsa.seasonal import seasonal_decompose\n",
    "import pandas as pd\n",
    "from sklearn.model_selection import train_test_split\n",
    "from sklearn.metrics import mean_squared_error\n",
    "from sklearn.linear_model import LinearRegression\n",
    "from sklearn.model_selection import GridSearchCV\n",
    "from sklearn.linear_model import LinearRegression, Ridge, Lasso\n",
    "from sklearn.ensemble import RandomForestRegressor, AdaBoostRegressor\n",
    "from sklearn.model_selection import TimeSeriesSplit\n",
    "import ast"
   ]
  },
  {
   "cell_type": "code",
   "execution_count": 117,
   "id": "70fdb9a9",
   "metadata": {},
   "outputs": [
    {
     "data": {
      "text/html": [
       "<div>\n",
       "<style scoped>\n",
       "    .dataframe tbody tr th:only-of-type {\n",
       "        vertical-align: middle;\n",
       "    }\n",
       "\n",
       "    .dataframe tbody tr th {\n",
       "        vertical-align: top;\n",
       "    }\n",
       "\n",
       "    .dataframe thead th {\n",
       "        text-align: right;\n",
       "    }\n",
       "</style>\n",
       "<table border=\"1\" class=\"dataframe\">\n",
       "  <thead>\n",
       "    <tr style=\"text-align: right;\">\n",
       "      <th></th>\n",
       "      <th>datetime</th>\n",
       "      <th>num_orders</th>\n",
       "    </tr>\n",
       "  </thead>\n",
       "  <tbody>\n",
       "    <tr>\n",
       "      <th>0</th>\n",
       "      <td>2018-03-01 00:00:00</td>\n",
       "      <td>9</td>\n",
       "    </tr>\n",
       "    <tr>\n",
       "      <th>1</th>\n",
       "      <td>2018-03-01 00:10:00</td>\n",
       "      <td>14</td>\n",
       "    </tr>\n",
       "    <tr>\n",
       "      <th>2</th>\n",
       "      <td>2018-03-01 00:20:00</td>\n",
       "      <td>28</td>\n",
       "    </tr>\n",
       "    <tr>\n",
       "      <th>3</th>\n",
       "      <td>2018-03-01 00:30:00</td>\n",
       "      <td>20</td>\n",
       "    </tr>\n",
       "    <tr>\n",
       "      <th>4</th>\n",
       "      <td>2018-03-01 00:40:00</td>\n",
       "      <td>32</td>\n",
       "    </tr>\n",
       "  </tbody>\n",
       "</table>\n",
       "</div>"
      ],
      "text/plain": [
       "              datetime  num_orders\n",
       "0  2018-03-01 00:00:00           9\n",
       "1  2018-03-01 00:10:00          14\n",
       "2  2018-03-01 00:20:00          28\n",
       "3  2018-03-01 00:30:00          20\n",
       "4  2018-03-01 00:40:00          32"
      ]
     },
     "execution_count": 117,
     "metadata": {},
     "output_type": "execute_result"
    }
   ],
   "source": [
    "try:\n",
    "    data = pd.read_csv('/datasets/taxi.csv')\n",
    "except:\n",
    "    data = pd.read_csv('datasets/taxi.csv')\n",
    "\n",
    "data.head(5)"
   ]
  },
  {
   "cell_type": "code",
   "execution_count": 118,
   "id": "8f57f684",
   "metadata": {},
   "outputs": [
    {
     "name": "stdout",
     "output_type": "stream",
     "text": [
      "<class 'pandas.core.frame.DataFrame'>\n",
      "RangeIndex: 26496 entries, 0 to 26495\n",
      "Data columns (total 2 columns):\n",
      " #   Column      Non-Null Count  Dtype \n",
      "---  ------      --------------  ----- \n",
      " 0   datetime    26496 non-null  object\n",
      " 1   num_orders  26496 non-null  int64 \n",
      "dtypes: int64(1), object(1)\n",
      "memory usage: 414.1+ KB\n"
     ]
    }
   ],
   "source": [
    "#Датасет простой, но посмотреть не помешает\n",
    "data.info()"
   ]
  },
  {
   "cell_type": "code",
   "execution_count": 119,
   "id": "c78f51b8",
   "metadata": {},
   "outputs": [],
   "source": [
    "#Преобразуем столбец datetime в формат datetime\n",
    "data['datetime'] = pd.to_datetime(data['datetime'])"
   ]
  },
  {
   "cell_type": "code",
   "execution_count": 120,
   "id": "9a1e60f8",
   "metadata": {},
   "outputs": [],
   "source": [
    "#Сделаем столбец индексом\n",
    "data.set_index('datetime', inplace = True)"
   ]
  },
  {
   "cell_type": "code",
   "execution_count": 121,
   "id": "a72c7352",
   "metadata": {},
   "outputs": [
    {
     "name": "stdout",
     "output_type": "stream",
     "text": [
      "True\n"
     ]
    }
   ],
   "source": [
    "#Упорядочим по датам\n",
    "data = data.sort_index(ascending = True)\n",
    "print(data.index.is_monotonic_increasing)"
   ]
  },
  {
   "cell_type": "code",
   "execution_count": 122,
   "id": "dd9becf4",
   "metadata": {},
   "outputs": [
    {
     "name": "stdout",
     "output_type": "stream",
     "text": [
      "Данные находятся в периоде с  2018-03-01 00:00:00  по  2018-08-31 23:50:00\n"
     ]
    }
   ],
   "source": [
    "print('Данные находятся в периоде с ', str(data.index.min()), ' по ', str(data.index.max()))"
   ]
  },
  {
   "cell_type": "code",
   "execution_count": 123,
   "id": "80de96e1",
   "metadata": {},
   "outputs": [],
   "source": [
    "#Сформируем графики среднего и суммарного количества заказов понедельно\n",
    "#plt.figure(figsize=(8,5))\n",
    "#plt.subplot(121)\n",
    "#data.resample('1w').mean().plot(ax=plt.gca())\n",
    "#plt.title('Среднее количество за неделю',fontsize=10, ha='center')\n",
    "#plt.subplot(122)\n",
    "#data.resample('1w').sum().plot(ax=plt.gca())\n",
    "#plt.title('Сумма за неделю' ,fontsize=10, ha='center')"
   ]
  },
  {
   "cell_type": "code",
   "execution_count": 124,
   "id": "f3c18a33",
   "metadata": {},
   "outputs": [],
   "source": [
    "#Сделам ресемплирование по часу и по дням, для исследования сезонностей\n",
    "data = data.resample('1h').sum()\n",
    "data_week = data.resample('1d').sum()"
   ]
  },
  {
   "cell_type": "code",
   "execution_count": 125,
   "id": "9f2ca70e",
   "metadata": {},
   "outputs": [],
   "source": [
    "decomposed = seasonal_decompose(data)\n",
    "decomposed_week = seasonal_decompose(data_week)"
   ]
  },
  {
   "cell_type": "code",
   "execution_count": 136,
   "id": "c2443433",
   "metadata": {},
   "outputs": [
    {
     "data": {
      "image/png": "[encoded data removed]",
      "text/plain": [
       "<Figure size 432x576 with 4 Axes>"
      ]
     },
     "metadata": {
      "needs_background": "light"
     },
     "output_type": "display_data"
    }
   ],
   "source": [
    "plt.figure(figsize=(6, 8))\n",
    "\n",
    "plt.subplot(411)\n",
    "decomposed.trend.plot(ax=plt.gca())\n",
    "plt.title('Trend')\n",
    "\n",
    "plt.subplot(412)\n",
    "decomposed.seasonal['2018-04-01':'2018-04-10'].plot(ax=plt.gca())\n",
    "plt.title('Seasonality_hour')\n",
    "\n",
    "plt.subplot(413)\n",
    "decomposed_week.seasonal['2018-01-01':'2018-04-01'].plot(ax=plt.gca())\n",
    "plt.title('Seasonality_week')\n",
    "\n",
    "plt.subplot(414)\n",
    "decomposed.resid.plot(ax=plt.gca())\n",
    "plt.title('Residuals')\n",
    "plt.tight_layout()"
   ]
  },
  {
   "cell_type": "markdown",
   "id": "42012e2f",
   "metadata": {},
   "source": [
    "Вывод: существует суточная и недельная сезонность, причем, что удивительно для такси, колебания идеальные"
   ]
  },
  {
   "cell_type": "markdown",
   "id": "d3d4142f",
   "metadata": {},
   "source": [
    "### 3. Прогнозирование данных"
   ]
  },
  {
   "cell_type": "code",
   "execution_count": 127,
   "id": "59f41474",
   "metadata": {},
   "outputs": [],
   "source": [
    "def make_features(d, max_lag, rolling_mean_size):\n",
    "    #data['month'] = data.index.month\n",
    "    #data['day'] = data.index.day\n",
    "    d['dayofweek'] = d.index.dayofweek\n",
    "    d['hour'] = d.index.hour\n",
    "\n",
    "    for lag in range(1, max_lag + 1):\n",
    "        d['lag_{}'.format(lag)] = d['num_orders'].shift(lag)\n",
    "        d['rolling_mean'] = d['num_orders'].shift().rolling(rolling_mean_size).mean()\n",
    "    return d   "
   ]
  },
  {
   "cell_type": "code",
   "execution_count": 129,
   "id": "558dd902",
   "metadata": {},
   "outputs": [],
   "source": [
    "def grid_search(param, t,v):\n",
    "    X_train, y_train = t.drop('num_orders', axis=1), t['num_orders']\n",
    "    X_valid, y_valid = v.drop('num_orders', axis=1), v['num_orders']\n",
    "    tscv = TimeSeriesSplit(n_splits=5)\n",
    "    GridModel = GridSearchCV(estimator=param['model'], param_grid=param['params'], cv=tscv, scoring='neg_mean_squared_error', verbose=0)\n",
    "    GridModel.fit(X_train, y_train)\n",
    "    \n",
    "    #Проверим на валидационной выборке\n",
    "    model = param['model']\n",
    "    model.set_params(**GridModel.best_params_)\n",
    "    model.fit(X_train, y_train)\n",
    "    pred = model.predict(X_valid)\n",
    "    score = mean_squared_error(y_valid, pred)**0.5\n",
    "    \n",
    "    return score, GridModel.best_params_"
   ]
  },
  {
   "cell_type": "code",
   "execution_count": 130,
   "id": "4b9fc4dc",
   "metadata": {},
   "outputs": [],
   "source": [
    "#Функция поиска по таблицам с разными max_lag, rolling_mean_size \n",
    "def models_search(param, d1, table, num):\n",
    "    n = len(d1)\n",
    "    for i in range(len(param)):\n",
    "        best_score = 1000\n",
    "        best_model = \"\"\n",
    "        tr, test = train_test_split(table, shuffle=False, test_size=0.1, random_state = 42)\n",
    "        \n",
    "        #В задании сказано, что тестовая 10%, поэтому, чтобы не нарушать условия, для valid выбрал 20% тестовой \n",
    "        train, valid = train_test_split(tr, shuffle=False, test_size=0.2, random_state = 42)\n",
    "        \n",
    "        train = train.dropna()\n",
    "        test = test.dropna()\n",
    "        valid = valid.dropna()\n",
    "        \n",
    "        score, best_p = grid_search(param[i], train, valid)\n",
    "                \n",
    "        d1.loc[i+n, 'model'] = param[i]['name']\n",
    "        d1.loc[i+n, 'score_valid'] = score\n",
    "        d1.loc[i+n, 'params'] = str(best_p)\n",
    "        d1.loc[i+n, 'table'] = num"
   ]
  },
  {
   "cell_type": "code",
   "execution_count": 131,
   "id": "21295085",
   "metadata": {},
   "outputs": [],
   "source": [
    "\n",
    "#RandomForestRegressor()\n",
    "p1 = {'model':RandomForestRegressor(),\n",
    "      'name': 'RandomForestRegressor',\n",
    "      'params': {'n_estimators': [10, 20, 50, 100],  \n",
    "                 'max_features': ['sqrt'],\n",
    "                 'random_state': [42]}}\n",
    "\n",
    "\n",
    "#Lasso()\n",
    "p2 = {'model': Lasso(),\n",
    "      'name': 'Lasso',\n",
    "      'params': {'alpha': [0.1, 1.5, 10, 20, 100, 300]}}\n",
    "\n",
    "\n",
    "#AdaBoostRegressor()\n",
    "p3 = {'model':AdaBoostRegressor(),\n",
    "      'name': 'AdaBoostRegressor',\n",
    "      'params':{'learning_rate': [0.01, 0.1, 0.3, 0.8, 1],\n",
    "                         'loss': ['linear', 'square', 'exponential']}}\n",
    "\n",
    "\n",
    "param = [p1, p2, p3]\n"
   ]
  },
  {
   "cell_type": "code",
   "execution_count": 132,
   "id": "bd5b4ae9",
   "metadata": {
    "scrolled": false
   },
   "outputs": [
    {
     "name": "stdout",
     "output_type": "stream",
     "text": [
      "(4416, 52)\n",
      "(4416, 28)\n"
     ]
    }
   ],
   "source": [
    "#Сформирум 2 таблицы с данными с разными max_lag, rolling_mean_size\n",
    "s = data.copy()\n",
    "s = make_features(s, 24, 168)\n",
    "data = make_features(data, 48, 336)\n",
    "\n",
    "#Проверим, что все корректно сформировалось, и таблицы разные\n",
    "print(data.shape)\n",
    "print(s.shape)"
   ]
  },
  {
   "cell_type": "code",
   "execution_count": 133,
   "id": "a9a76881",
   "metadata": {},
   "outputs": [],
   "source": [
    "d1 = pd.DataFrame()\n",
    "models_search(param, d1, s, 1)\n",
    "models_search(param, d1, data, 2)\n"
   ]
  },
  {
   "cell_type": "code",
   "execution_count": 134,
   "id": "a32ff914",
   "metadata": {},
   "outputs": [
    {
     "data": {
      "text/html": [
       "<div>\n",
       "<style scoped>\n",
       "    .dataframe tbody tr th:only-of-type {\n",
       "        vertical-align: middle;\n",
       "    }\n",
       "\n",
       "    .dataframe tbody tr th {\n",
       "        vertical-align: top;\n",
       "    }\n",
       "\n",
       "    .dataframe thead th {\n",
       "        text-align: right;\n",
       "    }\n",
       "</style>\n",
       "<table border=\"1\" class=\"dataframe\">\n",
       "  <thead>\n",
       "    <tr style=\"text-align: right;\">\n",
       "      <th></th>\n",
       "      <th>model</th>\n",
       "      <th>score_valid</th>\n",
       "      <th>params</th>\n",
       "      <th>table</th>\n",
       "    </tr>\n",
       "  </thead>\n",
       "  <tbody>\n",
       "    <tr>\n",
       "      <th>0</th>\n",
       "      <td>RandomForestRegressor</td>\n",
       "      <td>32.507446</td>\n",
       "      <td>{'max_features': 'sqrt', 'n_estimators': 100, ...</td>\n",
       "      <td>1.0</td>\n",
       "    </tr>\n",
       "    <tr>\n",
       "      <th>1</th>\n",
       "      <td>Lasso</td>\n",
       "      <td>33.026531</td>\n",
       "      <td>{'alpha': 1.5}</td>\n",
       "      <td>1.0</td>\n",
       "    </tr>\n",
       "    <tr>\n",
       "      <th>2</th>\n",
       "      <td>AdaBoostRegressor</td>\n",
       "      <td>33.620640</td>\n",
       "      <td>{'learning_rate': 1, 'loss': 'linear'}</td>\n",
       "      <td>1.0</td>\n",
       "    </tr>\n",
       "    <tr>\n",
       "      <th>3</th>\n",
       "      <td>RandomForestRegressor</td>\n",
       "      <td>32.846661</td>\n",
       "      <td>{'max_features': 'sqrt', 'n_estimators': 100, ...</td>\n",
       "      <td>2.0</td>\n",
       "    </tr>\n",
       "    <tr>\n",
       "      <th>4</th>\n",
       "      <td>Lasso</td>\n",
       "      <td>30.399213</td>\n",
       "      <td>{'alpha': 10}</td>\n",
       "      <td>2.0</td>\n",
       "    </tr>\n",
       "    <tr>\n",
       "      <th>5</th>\n",
       "      <td>AdaBoostRegressor</td>\n",
       "      <td>32.386924</td>\n",
       "      <td>{'learning_rate': 1, 'loss': 'linear'}</td>\n",
       "      <td>2.0</td>\n",
       "    </tr>\n",
       "  </tbody>\n",
       "</table>\n",
       "</div>"
      ],
      "text/plain": [
       "                   model  score_valid  \\\n",
       "0  RandomForestRegressor    32.507446   \n",
       "1                  Lasso    33.026531   \n",
       "2      AdaBoostRegressor    33.620640   \n",
       "3  RandomForestRegressor    32.846661   \n",
       "4                  Lasso    30.399213   \n",
       "5      AdaBoostRegressor    32.386924   \n",
       "\n",
       "                                              params  table  \n",
       "0  {'max_features': 'sqrt', 'n_estimators': 100, ...    1.0  \n",
       "1                                     {'alpha': 1.5}    1.0  \n",
       "2             {'learning_rate': 1, 'loss': 'linear'}    1.0  \n",
       "3  {'max_features': 'sqrt', 'n_estimators': 100, ...    2.0  \n",
       "4                                      {'alpha': 10}    2.0  \n",
       "5             {'learning_rate': 1, 'loss': 'linear'}    2.0  "
      ]
     },
     "execution_count": 134,
     "metadata": {},
     "output_type": "execute_result"
    }
   ],
   "source": [
    "d1"
   ]
  },
  {
   "cell_type": "markdown",
   "id": "821603e7",
   "metadata": {},
   "source": [
    "Вывод: лучшая модель на train - Lasso с параметрами \"{'alpha': 10}\" на таблице с max_lag=48, rolling_mean_size = 336"
   ]
  },
  {
   "cell_type": "code",
   "execution_count": 135,
   "id": "b2c47baa",
   "metadata": {},
   "outputs": [
    {
     "name": "stdout",
     "output_type": "stream",
     "text": [
      "RMSE на тестовой выборке 42.647966575516435\n"
     ]
    }
   ],
   "source": [
    "tr, test = train_test_split(data, shuffle=False, test_size=0.1, random_state = 42)       \n",
    "train, valid = train_test_split(tr, shuffle=False, test_size=0.2, random_state = 42)        \n",
    "train = train.dropna()\n",
    "test = test.dropna()\n",
    "X_train, y_train = train.drop('num_orders', axis=1), train['num_orders']\n",
    "X_test, y_test = test.drop('num_orders', axis=1), test['num_orders']\n",
    "model = Lasso()\n",
    "model.set_params(**ast.literal_eval(d1['params'][4]))\n",
    "model.fit(X_train, y_train)\n",
    "pred = model.predict(X_test)\n",
    "rmse_test = mean_squared_error(y_test, pred)**0.5\n",
    "print('RMSE на тестовой выборке', rmse_test)"
   ]
  },
  {
   "cell_type": "markdown",
   "id": "35228e86",
   "metadata": {},
   "source": [
    "Выводы: \n",
    "1. Есть резервы к улучшению  - увеличение max_lag, rolling_mean_size в таблице с данными\n",
    "2. Лучшая модель Lasso с параметрами \"{'alpha': 10}\". Хорошие результаты модели достигаются на данных с большим  max_lag, rolling_mean_size. \n",
    "3. По условиям задачи RMSE на тестовой выборке должен быть не более 48, в данном случае, он достигается"
   ]
  }
 ],
 "metadata": {
  "kernelspec": {
   "display_name": "Python 3 (ipykernel)",
   "language": "python",
   "name": "python3"
  },
  "language_info": {
   "codemirror_mode": {
    "name": "ipython",
    "version": 3
   },
   "file_extension": ".py",
   "mimetype": "text/x-python",
   "name": "python",
   "nbconvert_exporter": "python",
   "pygments_lexer": "ipython3",
   "version": "3.9.12"
  },
  "toc": {
   "base_numbering": 1,
   "nav_menu": {},
   "number_sections": true,
   "sideBar": true,
   "skip_h1_title": true,
   "title_cell": "Table of Contents",
   "title_sidebar": "Contents",
   "toc_cell": false,
   "toc_position": {},
   "toc_section_display": true,
   "toc_window_display": false
  }
 },
 "nbformat": 4,
 "nbformat_minor": 5
}
