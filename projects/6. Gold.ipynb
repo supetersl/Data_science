{
 "cells": [
  {
   "cell_type": "markdown",
   "metadata": {},
   "source": [
    "# Восстановление золота из руды"
   ]
  },
  {
   "cell_type": "markdown",
   "metadata": {},
   "source": [
    "Подготовьте прототип модели машинного обучения для «Цифры». Компания разрабатывает решения для эффективной работы промышленных предприятий.\n",
    "\n",
    "Модель должна предсказать коэффициент восстановления золота из золотосодержащей руды. Используйте данные с параметрами добычи и очистки. \n",
    "\n",
    "Модель поможет оптимизировать производство, чтобы не запускать предприятие с убыточными характеристиками.\n",
    "\n",
    "Вам нужно:\n",
    "\n",
    "1. Подготовить данные;\n",
    "2. Провести исследовательский анализ данных;\n",
    "3. Построить и обучить модель.\n",
    "\n",
    "Чтобы выполнить проект, обращайтесь к библиотекам *pandas*, *matplotlib* и *sklearn.* Вам поможет их документация."
   ]
  },
  {
   "cell_type": "markdown",
   "metadata": {},
   "source": [
    "## 1. Подготовка данных"
   ]
  },
  {
   "cell_type": "code",
   "execution_count": 83,
   "metadata": {},
   "outputs": [],
   "source": [
    "# необходимые библиотеки\n",
    "import pandas as pd\n",
    "from sklearn.metrics import mean_absolute_error\n",
    "import seaborn as sns\n",
    "import matplotlib.pyplot as plt\n",
    "import numpy as np\n",
    "import re\n",
    "from sklearn.model_selection import KFold, cross_validate, GridSearchCV\n",
    "from sklearn.tree import DecisionTreeRegressor\n",
    "from sklearn.ensemble import RandomForestRegressor\n",
    "from sklearn.metrics import make_scorer\n",
    "from sklearn.linear_model import Ridge\n",
    "from sklearn.linear_model import LinearRegression\n",
    "from sklearn.dummy import DummyRegressor\n",
    "\n",
    "import warnings\n",
    "warnings.simplefilter(action='ignore', category=FutureWarning)"
   ]
  },
  {
   "cell_type": "code",
   "execution_count": 84,
   "metadata": {},
   "outputs": [],
   "source": [
    "try:\n",
    "    df_full = pd.read_csv('datasets/gold_recovery_full_new.csv')\n",
    "    df_test = pd.read_csv('datasets/gold_recovery_test_new.csv')\n",
    "    df_train = pd.read_csv('datasets/gold_recovery_train_new.csv')\n",
    "except:\n",
    "    df_full = pd.read_csv('datasets/gold_recovery_full_new.csv')\n",
    "    df_test = pd.read_csv('datasets/gold_recovery_test_new.csv')\n",
    "    df_train = pd.read_csv('datasets/gold_recovery_train_new.csv')\n",
    "    \n",
    "data = [df_full, df_test, df_train]\n"
   ]
  },
  {
   "cell_type": "code",
   "execution_count": 85,
   "metadata": {},
   "outputs": [],
   "source": [
    "names = ['Полные данные', 'Тестовая выборка','Тренировочная выборка']"
   ]
  },
  {
   "cell_type": "markdown",
   "metadata": {},
   "source": [
    "### 1.1. Описание данных"
   ]
  },
  {
   "cell_type": "code",
   "execution_count": 86,
   "metadata": {},
   "outputs": [],
   "source": [
    "#Проведем краткое описание датасета\n",
    "def describe(d, n):\n",
    "    print('* Имя датасета', n)\n",
    "    print('* Размерность', d.shape)\n",
    "    print('* Количество NA', d.isna().sum().sum())\n",
    "    print('* Всего дубликатов', d.duplicated().sum())\n",
    "    print('* Информация по столбцам')\n",
    "    print(d.info())\n",
    "    print('* Столбцы с Nan - ', len(d.columns[d.isna().any()]), 'шт' )\n",
    "    print(d.columns[d.isna().any()])"
   ]
  },
  {
   "cell_type": "code",
   "execution_count": 87,
   "metadata": {},
   "outputs": [],
   "source": [
    "for i in range(len(data)):\n",
    "    describe(data[i], names[i])\n",
    "    print('-----------------------------------------------------------------------------------------------------')"
   ]
  },
  {
   "cell_type": "code",
   "execution_count": 88,
   "metadata": {},
   "outputs": [],
   "source": [
    "#Посмотрим, каких столбцов не хватает в тестовой выборке по сравнению с тренировочной\n",
    "list_columns = [i for i in df_train.columns if i not in df_test.columns]\n",
    "w0 = []\n",
    "w1 = []\n",
    "w2 = []\n",
    "for i in list_columns:\n",
    "    w = list(map(str,i.split(\".\")))\n",
    "    if w[0] not in w0:\n",
    "        w0.append(w[0]) \n",
    "    if w[1] not in w1:\n",
    "        w1.append(w[1]) \n",
    "    if w[2] not in w2:\n",
    "        w2.append(w[2]) \n",
    "print('Не заполнено этапов - ', len(w0), ', а именно', w0)\n",
    "print('Не заполнено типов параметра - ', len(w1), ', а именно', w1)\n",
    "print('Не заполнено названий параметра - ', len(w2), ', а именно', w2)\n",
    "print('----------------------------------------')\n",
    "print(list_columns)"
   ]
  },
  {
   "cell_type": "markdown",
   "metadata": {},
   "source": [
    "Выводы:\n",
    " 1. Имеется большое количество пропусков, по разным столбцам.\n",
    " 2. Разное количестdо столбцов по выборке Train и Test (отличется на 30+ штук). Отсутствуют как расчетные, так и выходные данные по всем этапам. Я бы отметил отсутствие 2 наиболее значимых столбцов - final.output.recovery и rougher.output.recovery, которые по условиям задачи являются целевыми.\n",
    " 3. Столбец data во всех датасетах надо привести к типу data"
   ]
  },
  {
   "cell_type": "markdown",
   "metadata": {},
   "source": [
    "### 1.2. Проверка правильности расчета эффективности обогащения золота"
   ]
  },
  {
   "cell_type": "code",
   "execution_count": 89,
   "metadata": {},
   "outputs": [],
   "source": [
    "rec = data[2]['rougher.output.recovery']\n",
    "\n",
    "F = data[2]['rougher.input.feed_au'] #F — доля золота в сырье/концентрате до флотации/очистки;\n",
    "C = data[2]['rougher.output.concentrate_au'] #C — доля золота в концентрате после флотации/очистки;\n",
    "T = data[2]['rougher.output.tail_au'] #T — доля золота в отвальных хвостах после флотации/очистки.\n",
    "\n",
    "rec_hat = (C*(F-T))/(F*(C-T))*100\n",
    "print('MAE', mean_absolute_error(rec.dropna(), rec_hat.dropna()))"
   ]
  },
  {
   "cell_type": "markdown",
   "metadata": {},
   "source": [
    "Вывод: расчет эффективности обогащения произведен верно"
   ]
  },
  {
   "cell_type": "markdown",
   "metadata": {},
   "source": [
    "### 1.3. Заполнение Nan и изменение типа даты"
   ]
  },
  {
   "cell_type": "code",
   "execution_count": 90,
   "metadata": {},
   "outputs": [],
   "source": [
    "for i in range(len(data)):\n",
    "    data[i] = data[i].fillna(method='ffill')\n",
    "    data[i][\"date\"] = pd.to_datetime(data[i][\"date\"]) "
   ]
  },
  {
   "cell_type": "code",
   "execution_count": 91,
   "metadata": {},
   "outputs": [],
   "source": [
    "for d in data:\n",
    "    print('Количество NA', d.isna().sum().sum())"
   ]
  },
  {
   "cell_type": "markdown",
   "metadata": {},
   "source": [
    "## 2. Анализ данных"
   ]
  },
  {
   "cell_type": "markdown",
   "metadata": {},
   "source": [
    "### 2.1 Концентрация металлов на различных этапах очистки"
   ]
  },
  {
   "cell_type": "code",
   "execution_count": 92,
   "metadata": {},
   "outputs": [],
   "source": [
    "met = ['_au', '_pb', '_ag']\n",
    "level = ['rougher.input.feed', 'rougher.output.concentrate', 'primary_cleaner.output.concentrate', 'final.output.concentrate']\n",
    "d = pd.DataFrame()\n",
    "for i in range(len(met)):\n",
    "    for j in level:\n",
    "        d.loc[i, 'id'] = met[i]\n",
    "        d.loc[i, j] = round(data[0][j+met[i]].mean(), 2)    "
   ]
  },
  {
   "cell_type": "markdown",
   "metadata": {},
   "source": [
    "Вывод: концентрация золота и свинца растет с ростом очистки, а по серебру - сначала растет, а потом начинает падать"
   ]
  },
  {
   "cell_type": "code",
   "execution_count": 94,
   "metadata": {},
   "outputs": [
    {
     "data": {
      "image/png": "[encoded data removed]"
     },
     "metadata": {
      "needs_background": "light"
     },
     "output_type": "display_data"
    },
    {
     "data": {
      "image/png": "[encoded data removed]"
     },
     "metadata": {
      "needs_background": "light"
     },
     "output_type": "display_data"
    },
    {
     "data": {
      "image/png": "[encoded data removed]"
     },
     "metadata": {
      "needs_background": "light"
     },
     "output_type": "display_data"
    }
   ],
   "source": [
    "for j in range(len(met)):\n",
    "    fig, ax = plt.subplots(1,4,figsize=(20,5))\n",
    "    for i in range(len(level)):\n",
    "        ax[i].hist(x=data[0][level[i]+met[j]], bins = 30, alpha=0.7)\n",
    "        ax[i].set_title(level[i]+met[j])\n",
    "    plt.show()"
   ]
  },
  {
   "cell_type": "markdown",
   "metadata": {},
   "source": [
    "### 2.2 Размер гранул сырья на обучающей и тестовой выборке"
   ]
  },
  {
   "cell_type": "code",
   "execution_count": 95,
   "metadata": {},
   "outputs": [
    {
     "data": {},
     "execution_count": 95,
     "metadata": {},
     "output_type": "execute_result"
    },
    {
     "data": {
      "image/png": "[encoded data removed]"
     },
     "metadata": {
      "needs_background": "light"
     },
     "output_type": "display_data"
    }
   ],
   "source": [
    "for i in range(1, len(data)):\n",
    "    sns.distplot(data[i]['rougher.input.feed_size'], hist = False, kde = True, label = names[i])\n",
    "\n",
    "plt.legend(prop={'size': 9})\n",
    "plt.title('Размер гранул')   "
   ]
  },
  {
   "cell_type": "markdown",
   "metadata": {},
   "source": [
    "Вывод: Распределение размера гранул на обеих выборках почти идентичны. Следует заметить, что график смещен влево, что говорит о наличии выбросов"
   ]
  },
  {
   "cell_type": "markdown",
   "metadata": {},
   "source": [
    "### 2.3 Суммарная концентрация всех веществ на разных стадиях"
   ]
  },
  {
   "cell_type": "code",
   "execution_count": 96,
   "metadata": {},
   "outputs": [
    {
     "data": {},
     "execution_count": 96,
     "metadata": {},
     "output_type": "execute_result"
    }
   ],
   "source": [
    "#Создадим списки, чтобы дальше использовать их для простоты кода\n",
    "level = ['rougher.input.feed', 'rougher.output.concentrate','primary_cleaner.output.concentrate', 'final.output.concentrate']\n",
    "lev_names = ['сырье', 'конц. после флотации', 'конц. после первичной очистки', 'финальный конц.']\n",
    "met = ['_au', '_pb', '_ag']\n",
    "\n",
    "#создадим таблицу\n",
    "d1 = pd.DataFrame()\n",
    "for i in range(len(level)):\n",
    "    d1[lev_names[i]] = data[0][[level[i]+met[0],level[i]+met[1],level[i]+met[2]]].sum(axis=1)\n",
    "\n",
    "d1.head(10)"
   ]
  },
  {
   "cell_type": "code",
   "execution_count": 97,
   "metadata": {},
   "outputs": [
    {
     "data": {
      "image/png": "[encoded data removed]"
     },
     "metadata": {
      "needs_background": "light"
     },
     "output_type": "display_data"
    }
   ],
   "source": [
    "fig, ax = plt.subplots(1,4,figsize=(20,5))\n",
    "for i in range(len(level)):\n",
    "    ax[i].hist(x=d1[lev_names[i]], bins = 30)\n",
    "    ax[i].set_title(lev_names[i])\n",
    "plt.show()"
   ]
  },
  {
   "cell_type": "markdown",
   "metadata": {},
   "source": [
    "Вывод: данные сильно скошены. Много нулевых значений. Для дальнейшей обработки необходимо сформировать \"ящик с усами\". Видно также, что присутствует достаточно много нулевых значений. "
   ]
  },
  {
   "cell_type": "code",
   "execution_count": 98,
   "metadata": {},
   "outputs": [
    {
     "data": {},
     "execution_count": 98,
     "metadata": {},
     "output_type": "execute_result"
    },
    {
     "data": {
      "image/png": "[encoded data removed]"
     },
     "metadata": {
      "needs_background": "light"
     },
     "output_type": "display_data"
    }
   ],
   "source": [
    "plt.figure(figsize=(12,6))\n",
    "sns.boxplot(data=d1)\n",
    "plt.title('Диаграммы размаха', fontsize=15)\n",
    "plt.ylabel('Концентрат',fontsize=12)\n",
    "plt.ylim([5, 70])"
   ]
  },
  {
   "cell_type": "code",
   "execution_count": 99,
   "metadata": {},
   "outputs": [],
   "source": [
    "#Мне видится, что если концентрация на каком-либо этапе по металлу равна нулю, то эту строку всю можно считать ошибкой. \n",
    "#Ненулевые значения удалять не будем, т.к. мы тогда потеряем часть признаков. Делаем это на тренировочной и на тестовой выборке. \n",
    "\n",
    "for m in met:\n",
    "    met_columns = [i+m for i in level] \n",
    "    data[2] = data[2][data[2][met_columns].min(axis=1) > 0]\n",
    "    cc = [j for j in met_columns if j in data[1].columns.to_list()] # выберем только те столбцы из  met_columns, которые есть в test\n",
    "    data[1] = data[1][data[1][cc].min(axis=1) > 0]\n",
    "    "
   ]
  },
  {
   "cell_type": "code",
   "execution_count": 100,
   "metadata": {},
   "outputs": [],
   "source": [
    "#Примечание. Практика показала, концентрация по разным металлам отсутствует в одних и тех же строках. \n",
    "#См. пример строки 22\n",
    "for m in met:\n",
    "    print(df_train[[i+m for i in level]].iloc[22],'\\n')"
   ]
  },
  {
   "cell_type": "markdown",
   "metadata": {},
   "source": [
    "## 3. Модель"
   ]
  },
  {
   "cell_type": "markdown",
   "metadata": {},
   "source": [
    "### 3.1. Функции ошибок"
   ]
  },
  {
   "cell_type": "code",
   "execution_count": 101,
   "metadata": {},
   "outputs": [],
   "source": [
    "def sMAPE(y_true,y_pred):\n",
    "    smape = abs(y_true - y_pred)/((abs(y_true)+abs(y_pred))/2)*100   \n",
    "    smape = smape.fillna(value=0)    \n",
    "    return sum(smape)/len(smape)"
   ]
  },
  {
   "cell_type": "code",
   "execution_count": 102,
   "metadata": {},
   "outputs": [],
   "source": [
    "def final_sMAPE(sMAPE_rougher,sMAPE_final):\n",
    "    return (0.25*sMAPE_rougher + 0.75*sMAPE_final)"
   ]
  },
  {
   "cell_type": "markdown",
   "metadata": {},
   "source": [
    "### 3.2. Прогноз показателей"
   ]
  },
  {
   "cell_type": "code",
   "execution_count": 103,
   "metadata": {},
   "outputs": [],
   "source": [
    "#Добавим target столбцы в тестовый датасет, т.к. в train они и так есть\n",
    "data[1]= data[1].merge(data[0][['date', 'rougher.output.recovery', 'final.output.recovery']], \n",
    "                       how = 'left', on = 'date')"
   ]
  },
  {
   "cell_type": "code",
   "execution_count": 104,
   "metadata": {},
   "outputs": [],
   "source": [
    "#Сделаем датаесты train, test одинаковыми по количеству столбцов\n",
    "data[2] = data[2][data[1].columns]"
   ]
  },
  {
   "cell_type": "code",
   "execution_count": 105,
   "metadata": {},
   "outputs": [],
   "source": [
    "# Создадим  features и target\n",
    "target_train_rougher, target_train_final = data[2]['rougher.output.recovery'], data[2]['final.output.recovery']\n",
    "#Для прогнозирования грубой очистки нужны только сведения по грубой очистке\n",
    "rougher = [x for x in data[1].columns.to_list() if re.search('rougher', x)]\n",
    "features_train_rougher = data[2][rougher].drop(['rougher.output.recovery'], axis=1) \n",
    "features_train_final = data[2].drop(['rougher.output.recovery', 'final.output.recovery', 'date'], axis=1) \n",
    "\n",
    "\n",
    "target_test_rougher, target_test_final = data[1]['rougher.output.recovery'], data[1]['final.output.recovery']\n",
    "features_test_rougher = data[1][rougher].drop(['rougher.output.recovery'], axis=1) \n",
    "features_test_final = data[1].drop(['rougher.output.recovery', 'final.output.recovery', 'date'], axis=1) "
   ]
  },
  {
   "cell_type": "code",
   "execution_count": 106,
   "metadata": {},
   "outputs": [],
   "source": [
    "#Сформируем функцию подбора параметров\n",
    "def grid_search(param, X,y):\n",
    "    \n",
    "    cv = KFold(5, shuffle=True, random_state=42)\n",
    "    scorer = make_scorer(sMAPE, greater_is_better=False)\n",
    "    GridModel = GridSearchCV(estimator=param['model'], param_grid=param['params'], cv=cv, scoring=scorer, verbose=0)\n",
    "    GridModel.fit(X, y)\n",
    "    \n",
    "    return GridModel.best_score_, GridModel.best_params_, GridModel.best_estimator_"
   ]
  },
  {
   "cell_type": "code",
   "execution_count": 112,
   "metadata": {},
   "outputs": [],
   "source": [
    "#Сформируем параметры моделей\n",
    "\n",
    "#DecisionTreeRegressor()\n",
    "p1 = {'model':DecisionTreeRegressor(),\n",
    "      'name': 'DecisionTreeRegressor',\n",
    "      'params': {'max_depth': [2, 3, 15, 20],\n",
    "                 'min_samples_split': [2, 4, 6]}}\n",
    "\n",
    "#RandomForestRegressor()\n",
    "p2 = {'model':RandomForestRegressor(),\n",
    "      'name': 'RandomForestRegressor',\n",
    "      'params': {'n_estimators': [10, 20, 50],  \n",
    "                 'max_features': ['sqrt']}}\n",
    "\n",
    "#LinearRegression()\n",
    "p3 = {'model':LinearRegression(),\n",
    "      'name': 'LinearRegression',\n",
    "      'params': {'fit_intercept': [True]}}\n",
    "\n",
    "#Ridge()\n",
    "p4 = {'model': Ridge(),\n",
    "      'name': 'Ridge', \n",
    "      'params': {'alpha': [0.1, 1.5, 10, 20, 300, 500]}}\n",
    "\n",
    "#Dummy() чтобы сравнить все модели о случайным прогнозированием\n",
    "p5 = {'model': DummyRegressor(),\n",
    "      'name': 'Dummy', \n",
    "      'params': {'strategy': ['mean', 'median']}}\n",
    "\n",
    "\n",
    "param = [p1, p2, p3, p4, p5]\n",
    "#param = [p3, p4, p5]"
   ]
  },
  {
   "cell_type": "code",
   "execution_count": 113,
   "metadata": {},
   "outputs": [],
   "source": [
    "d2 = pd.DataFrame()\n",
    "best_sMape_r = -1000\n",
    "best_sMape_f = -1000\n",
    "for i in range(len(param)):\n",
    "    print(param[i]['name'])\n",
    "    a,b, model_r = grid_search(param[i], features_train_rougher, target_train_rougher)\n",
    "    d2.loc[i, 'sMape_r'] = a\n",
    "    d2.loc[i, 'model_r'] = param[i]['name'] + str(b)\n",
    "    \n",
    "    c,d, model_f = grid_search(param[i], features_train_final, target_train_final)\n",
    "    d2.loc[i, 'sMape_f'] = c\n",
    "    d2.loc[i, 'model_f'] = param[i]['name'] + str(d)\n",
    "    d2.loc[i, 'sMape_final'] = final_sMAPE(a, c)\n",
    "    \n",
    "    #Функция final_sMAPE - линейная. Мое мнение, что минимального значения она достигает\n",
    "    # при минимальных значения аргументов в нее входящих. Поэтому будем искать минимальные sMape\n",
    "    # по-отдельности\n",
    "    \n",
    "    if a > best_sMape_r:\n",
    "        print()\n",
    "        best_model_r = model_r\n",
    "        best_sMape_r = a\n",
    "        min_r = 'best - '+ param[i]['name'] + str(b)\n",
    "        \n",
    "    if c > best_sMape_f:\n",
    "        best_model_f = model_f\n",
    "        best_sMape_f = c\n",
    "        min_f = 'best - '+ param[i]['name'] + str(d)\n",
    "\n",
    "#Занесем в таблицу последней строкой\n",
    "d2.loc[i+1, 'sMape_r'] = best_sMape_r\n",
    "d2.loc[i+1, 'model_r'] = min_r\n",
    "d2.loc[i+1, 'sMape_f'] = best_sMape_f\n",
    "d2.loc[i+1, 'model_f'] = min_f\n",
    "d2.loc[i+1, 'sMape_final'] = final_sMAPE(best_sMape_r, best_sMape_f) "
   ]
  },
  {
   "cell_type": "markdown",
   "metadata": {},
   "source": [
    "Выводы:\n",
    "1. Лучшее предсказание по rougher и final совпало - RandomForestRegressor{'max_features': 'sqrt', 'n_estimators': 10}.\n",
    "2. Результат получился лучше, чем  Dummy. "
   ]
  },
  {
   "cell_type": "markdown",
   "metadata": {},
   "source": [
    "### 3.3. Прогноз на тестовой выборке"
   ]
  },
  {
   "cell_type": "code",
   "execution_count": 115,
   "metadata": {},
   "outputs": [],
   "source": [
    "y_r = best_model_r.predict(features_test_rougher)\n",
    "y_f = best_model_f.predict(features_test_final)\n",
    "sMape_r = sMAPE(target_test_rougher, y_r)\n",
    "sMape_f = sMAPE(target_test_final, y_f)\n",
    "print('Итоговый sMape = ', final_sMAPE(sMape_r, sMape_f))"
   ]
  },
  {
   "cell_type": "code",
   "execution_count": 116,
   "metadata": {},
   "outputs": [],
   "source": [
    "#Сравним с Dummy, он считался последим, модели остались в памяти\n",
    "y_r = model_r.predict(features_test_rougher)\n",
    "y_f = model_f.predict(features_test_final)\n",
    "sMape_r = sMAPE(target_test_rougher, y_r)\n",
    "sMape_f = sMAPE(target_test_final, y_f)\n",
    "print('Итоговый sMape = ', final_sMAPE(sMape_r, sMape_f))"
   ]
  },
  {
   "cell_type": "markdown",
   "metadata": {},
   "source": [
    "Общие выводы:\n",
    "1. Произвели исследовательский анализ данных, проверили наличие пропусков, дубликатов. \n",
    "2. Обнаружили, что концентрация золота и свинца увеличивается с каждым этапом, а концентрация серебра снижается после флотации.\n",
    "3. Распределения размеров гранул в train и test выборках одинаковы.\n",
    "4. Суммарные распределения концентрации скошены влево, а также имеют множество нулевых значений. Избавились от выбросов.\n",
    "5. Наилучшая модель - RandomForestRegressor, со значением метрики smape 9.3, что лучше, чем у константной модели."
   ]
  },
  {
   "cell_type": "markdown",
   "metadata": {},
   "source": [
    "## Чек-лист готовности проекта"
   ]
  },
  {
   "cell_type": "markdown",
   "metadata": {},
   "source": [
    "- [x]  Jupyter Notebook открыт\n",
    "- [X]  Весь код выполняется без ошибок\n",
    "- [X]  Ячейки с кодом расположены в порядке выполнения\n",
    "- [X]  Выполнен шаг 1: данные подготовлены\n",
    "    - [X]  Проверена формула вычисления эффективности обогащения\n",
    "    - [X]  Проанализированы признаки, недоступные в тестовой выборке\n",
    "    - [X]  Проведена предобработка данных\n",
    "- [X]  Выполнен шаг 2: данные проанализированы\n",
    "    - [X]  Исследовано изменение концентрации элементов на каждом этапе\n",
    "    - [X]  Проанализированы распределения размеров гранул на обучающей и тестовой выборках\n",
    "    - [X]  Исследованы суммарные концентрации\n",
    "- [X]  Выполнен шаг 3: построена модель прогнозирования\n",
    "    - [X]  Написана функция для вычисления итогового *sMAPE*\n",
    "    - [X]  Обучено и проверено несколько моделей\n",
    "    - [X]  Выбрана лучшая модель, её качество проверено на тестовой выборке"
   ]
  }
 ],
 "metadata": {
  "kernelspec": {
   "display_name": "Python 3 (ipykernel)",
   "language": "python",
   "name": "python3"
  },
  "language_info": {
   "codemirror_mode": {
    "name": "ipython",
    "version": 3
   },
   "file_extension": ".py",
   "mimetype": "text/x-python",
   "name": "python",
   "nbconvert_exporter": "python",
   "pygments_lexer": "ipython3",
   "version": "3.9.12"
  },
  "toc": {
   "base_numbering": 1,
   "nav_menu": {},
   "number_sections": true,
   "sideBar": true,
   "skip_h1_title": true,
   "title_cell": "Содержание",
   "title_sidebar": "Contents",
   "toc_cell": true,
   "toc_position": {},
   "toc_section_display": true,
   "toc_window_display": false
  }
 },
 "nbformat": 4,
 "nbformat_minor": 2
}
