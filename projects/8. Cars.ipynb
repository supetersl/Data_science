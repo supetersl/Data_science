{
 "cells": [
  {
   "cell_type": "markdown",
   "id": "6ac99606",
   "metadata": {},
   "source": [
    "# Проект \"Определение стоимости автомобилей\""
   ]
  },
  {
   "cell_type": "markdown",
   "id": "6b883dd5",
   "metadata": {},
   "source": [
    "Сервис по продаже автомобилей с пробегом  разрабатывает приложение, чтобы привлечь новых клиентов. В нём можно будет узнать рыночную стоимость своего автомобиля.\n",
    "Необходимо построить модель, которая умеет её определять. \n",
    "\n",
    "Критерии, которые важны заказчику:\n",
    "качество предсказания;\n",
    "время обучения модели;\n",
    "время предсказания модели."
   ]
  },
  {
   "cell_type": "markdown",
   "id": "f2c950e6",
   "metadata": {},
   "source": [
    "## Загрузка и первоначальный анализ данных"
   ]
  },
  {
   "cell_type": "code",
   "execution_count": 77,
   "id": "a53f8fd5",
   "metadata": {},
   "outputs": [],
   "source": [
    "import pandas as pd\n",
    "from sklearn.model_selection import train_test_split\n",
    "from sklearn.preprocessing import StandardScaler\n",
    "from sklearn.preprocessing import OrdinalEncoder\n",
    "from sklearn.compose import ColumnTransformer\n",
    "from lightgbm import LGBMRegressor\n",
    "from sklearn.metrics import mean_squared_error\n",
    "from sklearn.model_selection import KFold, cross_validate, GridSearchCV\n",
    "import seaborn as sns\n",
    "import matplotlib.pyplot as plt\n",
    "\n",
    "from sklearn.model_selection import KFold, cross_validate, GridSearchCV\n",
    "from sklearn.tree import DecisionTreeRegressor\n",
    "from sklearn.ensemble import RandomForestRegressor\n",
    "from sklearn.linear_model import LinearRegression\n",
    "from catboost import CatBoostRegressor, Pool, CatBoost\n",
    "from lightgbm import LGBMRegressor\n",
    "import warnings\n",
    "warnings.filterwarnings('ignore')\n",
    "import time\n",
    "import ast\n",
    "import numpy as np"
   ]
  },
  {
   "cell_type": "markdown",
   "id": "70541550",
   "metadata": {},
   "source": [
    "### Загрузка данных"
   ]
  },
  {
   "cell_type": "code",
   "execution_count": 78,
   "id": "88061cd3",
   "metadata": {},
   "outputs": [
    {
     "data": {
      "text/html": [
       "<div>\n",
       "<style scoped>\n",
       "    .dataframe tbody tr th:only-of-type {\n",
       "        vertical-align: middle;\n",
       "    }\n",
       "\n",
       "    .dataframe tbody tr th {\n",
       "        vertical-align: top;\n",
       "    }\n",
       "\n",
       "    .dataframe thead th {\n",
       "        text-align: right;\n",
       "    }\n",
       "</style>\n",
       "<table border=\"1\" class=\"dataframe\">\n",
       "  <thead>\n",
       "    <tr style=\"text-align: right;\">\n",
       "      <th></th>\n",
       "      <th>DateCrawled</th>\n",
       "      <th>Price</th>\n",
       "      <th>VehicleType</th>\n",
       "      <th>RegistrationYear</th>\n",
       "      <th>Gearbox</th>\n",
       "      <th>Power</th>\n",
       "      <th>Model</th>\n",
       "      <th>Kilometer</th>\n",
       "      <th>RegistrationMonth</th>\n",
       "      <th>FuelType</th>\n",
       "      <th>Brand</th>\n",
       "      <th>Repaired</th>\n",
       "      <th>DateCreated</th>\n",
       "      <th>NumberOfPictures</th>\n",
       "      <th>PostalCode</th>\n",
       "      <th>LastSeen</th>\n",
       "    </tr>\n",
       "  </thead>\n",
       "  <tbody>\n",
       "    <tr>\n",
       "      <th>0</th>\n",
       "      <td>2016-03-24 11:52:17</td>\n",
       "      <td>480</td>\n",
       "      <td>NaN</td>\n",
       "      <td>1993</td>\n",
       "      <td>manual</td>\n",
       "      <td>0</td>\n",
       "      <td>golf</td>\n",
       "      <td>150000</td>\n",
       "      <td>0</td>\n",
       "      <td>petrol</td>\n",
       "      <td>volkswagen</td>\n",
       "      <td>NaN</td>\n",
       "      <td>2016-03-24 00:00:00</td>\n",
       "      <td>0</td>\n",
       "      <td>70435</td>\n",
       "      <td>2016-04-07 03:16:57</td>\n",
       "    </tr>\n",
       "    <tr>\n",
       "      <th>1</th>\n",
       "      <td>2016-03-24 10:58:45</td>\n",
       "      <td>18300</td>\n",
       "      <td>coupe</td>\n",
       "      <td>2011</td>\n",
       "      <td>manual</td>\n",
       "      <td>190</td>\n",
       "      <td>NaN</td>\n",
       "      <td>125000</td>\n",
       "      <td>5</td>\n",
       "      <td>gasoline</td>\n",
       "      <td>audi</td>\n",
       "      <td>yes</td>\n",
       "      <td>2016-03-24 00:00:00</td>\n",
       "      <td>0</td>\n",
       "      <td>66954</td>\n",
       "      <td>2016-04-07 01:46:50</td>\n",
       "    </tr>\n",
       "    <tr>\n",
       "      <th>2</th>\n",
       "      <td>2016-03-14 12:52:21</td>\n",
       "      <td>9800</td>\n",
       "      <td>suv</td>\n",
       "      <td>2004</td>\n",
       "      <td>auto</td>\n",
       "      <td>163</td>\n",
       "      <td>grand</td>\n",
       "      <td>125000</td>\n",
       "      <td>8</td>\n",
       "      <td>gasoline</td>\n",
       "      <td>jeep</td>\n",
       "      <td>NaN</td>\n",
       "      <td>2016-03-14 00:00:00</td>\n",
       "      <td>0</td>\n",
       "      <td>90480</td>\n",
       "      <td>2016-04-05 12:47:46</td>\n",
       "    </tr>\n",
       "    <tr>\n",
       "      <th>3</th>\n",
       "      <td>2016-03-17 16:54:04</td>\n",
       "      <td>1500</td>\n",
       "      <td>small</td>\n",
       "      <td>2001</td>\n",
       "      <td>manual</td>\n",
       "      <td>75</td>\n",
       "      <td>golf</td>\n",
       "      <td>150000</td>\n",
       "      <td>6</td>\n",
       "      <td>petrol</td>\n",
       "      <td>volkswagen</td>\n",
       "      <td>no</td>\n",
       "      <td>2016-03-17 00:00:00</td>\n",
       "      <td>0</td>\n",
       "      <td>91074</td>\n",
       "      <td>2016-03-17 17:40:17</td>\n",
       "    </tr>\n",
       "    <tr>\n",
       "      <th>4</th>\n",
       "      <td>2016-03-31 17:25:20</td>\n",
       "      <td>3600</td>\n",
       "      <td>small</td>\n",
       "      <td>2008</td>\n",
       "      <td>manual</td>\n",
       "      <td>69</td>\n",
       "      <td>fabia</td>\n",
       "      <td>90000</td>\n",
       "      <td>7</td>\n",
       "      <td>gasoline</td>\n",
       "      <td>skoda</td>\n",
       "      <td>no</td>\n",
       "      <td>2016-03-31 00:00:00</td>\n",
       "      <td>0</td>\n",
       "      <td>60437</td>\n",
       "      <td>2016-04-06 10:17:21</td>\n",
       "    </tr>\n",
       "  </tbody>\n",
       "</table>\n",
       "</div>"
      ],
      "text/plain": [
       "           DateCrawled  Price VehicleType  RegistrationYear Gearbox  Power  \\\n",
       "0  2016-03-24 11:52:17    480         NaN              1993  manual      0   \n",
       "1  2016-03-24 10:58:45  18300       coupe              2011  manual    190   \n",
       "2  2016-03-14 12:52:21   9800         suv              2004    auto    163   \n",
       "3  2016-03-17 16:54:04   1500       small              2001  manual     75   \n",
       "4  2016-03-31 17:25:20   3600       small              2008  manual     69   \n",
       "\n",
       "   Model  Kilometer  RegistrationMonth  FuelType       Brand Repaired  \\\n",
       "0   golf     150000                  0    petrol  volkswagen      NaN   \n",
       "1    NaN     125000                  5  gasoline        audi      yes   \n",
       "2  grand     125000                  8  gasoline        jeep      NaN   \n",
       "3   golf     150000                  6    petrol  volkswagen       no   \n",
       "4  fabia      90000                  7  gasoline       skoda       no   \n",
       "\n",
       "           DateCreated  NumberOfPictures  PostalCode             LastSeen  \n",
       "0  2016-03-24 00:00:00                 0       70435  2016-04-07 03:16:57  \n",
       "1  2016-03-24 00:00:00                 0       66954  2016-04-07 01:46:50  \n",
       "2  2016-03-14 00:00:00                 0       90480  2016-04-05 12:47:46  \n",
       "3  2016-03-17 00:00:00                 0       91074  2016-03-17 17:40:17  \n",
       "4  2016-03-31 00:00:00                 0       60437  2016-04-06 10:17:21  "
      ]
     },
     "execution_count": 78,
     "metadata": {},
     "output_type": "execute_result"
    }
   ],
   "source": [
    "try:\n",
    "    data = pd.read_csv('/datasets/autos.csv')\n",
    "except:\n",
    "    data = pd.read_csv('datasets/autos.csv')\n",
    "\n",
    "#Посмотрим, что там\n",
    "data.head()"
   ]
  },
  {
   "cell_type": "markdown",
   "id": "411cbb3b",
   "metadata": {},
   "source": [
    "### Анализ избыточных данных и информация о датасете"
   ]
  },
  {
   "cell_type": "code",
   "execution_count": 79,
   "id": "08c3a8e3",
   "metadata": {},
   "outputs": [
    {
     "name": "stdout",
     "output_type": "stream",
     "text": [
      "['DateCrawled', 'Price', 'VehicleType', 'RegistrationYear', 'Gearbox', 'Power', 'Model', 'Kilometer', 'RegistrationMonth', 'FuelType', 'Brand', 'Repaired', 'DateCreated', 'NumberOfPictures', 'PostalCode', 'LastSeen']\n"
     ]
    }
   ],
   "source": [
    "print(data.columns.to_list())"
   ]
  },
  {
   "cell_type": "code",
   "execution_count": 80,
   "id": "89459871",
   "metadata": {},
   "outputs": [],
   "source": [
    "#Анализ нужности столбцов\n",
    "\n",
    "#DateCrawled — дата скачивания анкеты из базы - не информативен для задачи\n",
    "#VehicleType — тип автомобильного кузова - влияет на цену\n",
    "#RegistrationYear — год регистрации автомобиля - влияет на цену\n",
    "#Gearbox — тип коробки передач - влияет на цену\n",
    "#Power — мощность (л. с.) - влияет на цену\n",
    "#Model — модель автомобиля - влияет на цену\n",
    "#Kilometer — пробег (км) - влияет на цену\n",
    "#RegistrationMonth — месяц регистрации автомобиля - не принципиально. Оставим год только\n",
    "#FuelType — тип топлива - влияет на цену\n",
    "#Brand — марка автомобиля - влияет на цену\n",
    "#Repaired — была машина в ремонте или нет - влияет на цену\n",
    "#DateCreated — дата создания анкеты - не влияет на цену\n",
    "#NumberOfPictures — количество фотографий автомобиля - влияет на покупку авто, но не на цену\n",
    "#PostalCode — почтовый индекс владельца анкеты (пользователя) - не влияет на цену\n",
    "#LastSeen — дата последней активности пользователя - не влияет на цену\n",
    "\n",
    "cols = ['Price', 'VehicleType', 'RegistrationYear', 'Gearbox', 'Power', 'Model', \n",
    "        'Kilometer', 'FuelType', 'Brand', 'Repaired']\n",
    "df = data[cols]"
   ]
  },
  {
   "cell_type": "code",
   "execution_count": 81,
   "id": "f656c396",
   "metadata": {},
   "outputs": [
    {
     "name": "stdout",
     "output_type": "stream",
     "text": [
      "<class 'pandas.core.frame.DataFrame'>\n",
      "RangeIndex: 354369 entries, 0 to 354368\n",
      "Data columns (total 10 columns):\n",
      " #   Column            Non-Null Count   Dtype \n",
      "---  ------            --------------   ----- \n",
      " 0   Price             354369 non-null  int64 \n",
      " 1   VehicleType       316879 non-null  object\n",
      " 2   RegistrationYear  354369 non-null  int64 \n",
      " 3   Gearbox           334536 non-null  object\n",
      " 4   Power             354369 non-null  int64 \n",
      " 5   Model             334664 non-null  object\n",
      " 6   Kilometer         354369 non-null  int64 \n",
      " 7   FuelType          321474 non-null  object\n",
      " 8   Brand             354369 non-null  object\n",
      " 9   Repaired          283215 non-null  object\n",
      "dtypes: int64(4), object(6)\n",
      "memory usage: 27.0+ MB\n"
     ]
    }
   ],
   "source": [
    "df.info()"
   ]
  },
  {
   "cell_type": "markdown",
   "id": "5ae94d5a",
   "metadata": {},
   "source": [
    "### Анализ данных"
   ]
  },
  {
   "cell_type": "markdown",
   "id": "fad26b8c",
   "metadata": {},
   "source": [
    "#### Столбец Цена"
   ]
  },
  {
   "cell_type": "code",
   "execution_count": 82,
   "id": "b101477f",
   "metadata": {},
   "outputs": [
    {
     "data": {
      "text/plain": [
       "0        10772\n",
       "500       5670\n",
       "1500      5394\n",
       "1000      4649\n",
       "1200      4594\n",
       "         ...  \n",
       "1368         1\n",
       "233          1\n",
       "11080        1\n",
       "16340        1\n",
       "10985        1\n",
       "Name: Price, Length: 3731, dtype: int64"
      ]
     },
     "execution_count": 82,
     "metadata": {},
     "output_type": "execute_result"
    }
   ],
   "source": [
    "df['Price'].value_counts()"
   ]
  },
  {
   "cell_type": "code",
   "execution_count": 83,
   "id": "eb91d9aa",
   "metadata": {},
   "outputs": [
    {
     "name": "stdout",
     "output_type": "stream",
     "text": [
      "В ходе преобразования удалено 10772 строк\n"
     ]
    }
   ],
   "source": [
    "#Уберем нулевые значения по цене. Их нечем заполнить\n",
    "_ = len(df)\n",
    "df = df.query('Price>0')\n",
    "print('В ходе преобразования удалено', (_-len(df)), 'строк')  "
   ]
  },
  {
   "cell_type": "code",
   "execution_count": 84,
   "id": "2e093324",
   "metadata": {},
   "outputs": [],
   "source": [
    "#Удалять выбросы по цене имеет смысл в привязке к модели и марке, заменим Nan в моделях и марках на наименование\n",
    "df['Model'] = data['Model'].fillna('Model_na')\n",
    "df['Brand'] = data['Brand'].fillna('Brand_na')\n",
    "\n",
    "d = pd.DataFrame()\n",
    "s = list()\n",
    "\n",
    "for i in list(df['Brand'].unique()):\n",
    "    _ = list(df.query('Brand==@i')['Model'].unique())\n",
    "    _.insert(0, i)\n",
    "    s.append(_)\n",
    "\n",
    "t_ = 0\n",
    "for i in range(len(s)):\n",
    "    for j in range(1,len(s[i])):\n",
    "        d.loc[t_,'Brand'] = s[i][0]\n",
    "        d.loc[t_,'Model'] = s[i][j]\n",
    "        n1= s[i][0]\n",
    "        n2 =s[i][j]\n",
    "        d.loc[t_,'q1'] = int(df.query('Brand==@n1&Model==@n2')['Price'].quantile([.1]))\n",
    "        d.loc[t_,'q2'] = int(df.query('Brand==@n1&Model==@n2')['Price'].quantile([.9]))\n",
    "        d.loc[t_,'quant'] = len(df.query('Brand==@n1&Model==@n2')) #количество, моржет пригодиться\n",
    "        d.loc[t_, 'vehicle'] = df.query('Brand==@n1&Model==@n2')['VehicleType'].mode()[0] #заодно наиболее частый корпус\n",
    "        d.loc[t_, 'gearbox'] = df.query('Brand==@n1&Model==@n2')['Gearbox'].mode()[0] #коробка\n",
    "        d.loc[t_, 'fueltype'] = df.query('Brand==@n1&Model==@n2')['FuelType'].mode()[0]#тоnливо\n",
    "        d.loc[t_, 'power'] = df.query('Brand==@n1&Model==@n2')['Power'].mean()#занесем среднее значение мощности авто\n",
    "        t_+=1\n",
    "        "
   ]
  },
  {
   "cell_type": "code",
   "execution_count": 85,
   "id": "719f126a",
   "metadata": {},
   "outputs": [
    {
     "name": "stdout",
     "output_type": "stream",
     "text": [
      "В ходе преобразования удалено 70649 строк\n"
     ]
    }
   ],
   "source": [
    "#удалим стоимости, которые являются выбросами, т.к. эти авто нельзя назвать характерной машиной\n",
    "#если сишком дешевая, то, возможно, по цене железа, если слишком дорогая, то сильно модернизированная\n",
    "_ = len(df)\n",
    "for i in range (len(d)):\n",
    "    n1 = d['Brand'][i]\n",
    "    n2 = d['Model'][i]\n",
    "    n3 = d['q1'][i]\n",
    "    n4 = d['q2'][i]\n",
    "    \n",
    "    df = df.query('not(Brand==@n1&Model==@n2&(Price<=@n3 or Price>=@n4))')\n",
    "print('В ходе преобразования удалено', (_-len(df)), 'строк')    "
   ]
  },
  {
   "cell_type": "markdown",
   "id": "6027bb83",
   "metadata": {},
   "source": [
    "#### Прочие столбцы"
   ]
  },
  {
   "cell_type": "code",
   "execution_count": 86,
   "id": "49ac916e",
   "metadata": {},
   "outputs": [
    {
     "data": {
      "text/plain": [
       "Price                   0\n",
       "VehicleType         24860\n",
       "RegistrationYear        0\n",
       "Gearbox             12201\n",
       "Power                   0\n",
       "Model                   0\n",
       "Kilometer               0\n",
       "FuelType            21588\n",
       "Brand                   0\n",
       "Repaired            50176\n",
       "dtype: int64"
      ]
     },
     "execution_count": 86,
     "metadata": {},
     "output_type": "execute_result"
    }
   ],
   "source": [
    "df.isnull().sum()"
   ]
  },
  {
   "cell_type": "markdown",
   "id": "3d0d51c6",
   "metadata": {},
   "source": [
    "1. VehicleType. Восстановим пропущенные значения укажем наиболее частое значение из таблицы по марке и модели.\n",
    "2. Gearbox. Для всех NaN укажем наиболее частое значение из таблицы по марке и модели.\n",
    "3. FuelType - аналогично\n",
    "4. Repaired - поставим по всем значениям, где не указано - 'yes'. "
   ]
  },
  {
   "cell_type": "code",
   "execution_count": 87,
   "id": "5faa82bc",
   "metadata": {},
   "outputs": [],
   "source": [
    "#e = df.copy()"
   ]
  },
  {
   "cell_type": "code",
   "execution_count": 88,
   "id": "298eb74f",
   "metadata": {},
   "outputs": [],
   "source": [
    "df.fillna({'VehicleType':0},inplace=True)\n",
    "df.fillna({'Gearbox':0},inplace=True)\n",
    "df.fillna({'FuelType':0},inplace=True)\n",
    "df.fillna({'Repaired':'yes'},inplace=True)"
   ]
  },
  {
   "cell_type": "code",
   "execution_count": 89,
   "id": "fd2a54c5",
   "metadata": {},
   "outputs": [],
   "source": [
    "def values_character(d, row, col):\n",
    "    val = row[col]\n",
    "    if col == 1: #vehicle\n",
    "        t = 5\n",
    "    elif col== 3:  #gear  \n",
    "        t = 6\n",
    "    elif col== 7:  #fuel  \n",
    "        t = 7    \n",
    "    elif col== 4:  #power  \n",
    "        t = 8    \n",
    "        \n",
    "    if val==0:\n",
    "        n1 = row[8]\n",
    "        n2 = row[5]    \n",
    "        val = d.iloc[:,t][d.query('Brand==@n1&Model==@n2').index[0]] \n",
    "    return val"
   ]
  },
  {
   "cell_type": "code",
   "execution_count": 90,
   "id": "1c207809",
   "metadata": {},
   "outputs": [],
   "source": [
    "df['VehicleType'] = df.apply(lambda row: values_character(d, row, 1), axis=1)\n",
    "df['Gearbox'] = df.apply(lambda row: values_character(d, row, 3), axis=1)\n",
    "df['FuelType'] = df.apply(lambda row: values_character(d, row, 7), axis=1)"
   ]
  },
  {
   "cell_type": "code",
   "execution_count": 91,
   "id": "d2a49b72",
   "metadata": {},
   "outputs": [
    {
     "data": {
      "text/plain": [
       "Price               0\n",
       "VehicleType         0\n",
       "RegistrationYear    0\n",
       "Gearbox             0\n",
       "Power               0\n",
       "Model               0\n",
       "Kilometer           0\n",
       "FuelType            0\n",
       "Brand               0\n",
       "Repaired            0\n",
       "dtype: int64"
      ]
     },
     "execution_count": 91,
     "metadata": {},
     "output_type": "execute_result"
    }
   ],
   "source": [
    "#проверим, что получилось\n",
    "df.isnull().sum()"
   ]
  },
  {
   "cell_type": "code",
   "execution_count": 92,
   "id": "7a7dd327",
   "metadata": {},
   "outputs": [
    {
     "name": "stdout",
     "output_type": "stream",
     "text": [
      "Количество авто с двигателями больше 500 л.с. 308\n",
      "Количество авто с двигателями равными 0 л.с. 26512\n"
     ]
    }
   ],
   "source": [
    "#Посмотрим столбец Power на общую логику\n",
    "print(\"Количество авто с двигателями больше 500 л.с.\", len(df.query('Power>500')))\n",
    "print(\"Количество авто с двигателями равными 0 л.с.\", len(df.query('Power==0')))\n",
    "\n",
    "#Все, что больше 500 удалим, все 0 заменим на среднее по Марке и модели. \n",
    "#Идеально еще и по типу корпуса и топливу, но это будет очень долго\n",
    "#больше изменений делать не будем, т.к. машины есть разные и л.с. тоже разные\n",
    "df = df.query('Power<500')"
   ]
  },
  {
   "cell_type": "code",
   "execution_count": 93,
   "id": "8c88be8b",
   "metadata": {},
   "outputs": [],
   "source": [
    "df['Power'] = df.apply(lambda row: values_character(d, row, 4), axis=1)"
   ]
  },
  {
   "cell_type": "code",
   "execution_count": 94,
   "id": "5eae0de9",
   "metadata": {},
   "outputs": [
    {
     "data": {
      "text/plain": [
       "<AxesSubplot: >"
      ]
     },
     "execution_count": 94,
     "metadata": {},
     "output_type": "execute_result"
    },
    {
     "data": {
      "image/png": "[encoded data removed]",
      "text/plain": [
       "<Figure size 640x480 with 1 Axes>"
      ]
     },
     "metadata": {},
     "output_type": "display_data"
    }
   ],
   "source": [
    "df['Power'].hist(bins=100)"
   ]
  },
  {
   "cell_type": "code",
   "execution_count": 95,
   "id": "dc70e454",
   "metadata": {},
   "outputs": [
    {
     "data": {
      "text/plain": [
       "<AxesSubplot: >"
      ]
     },
     "execution_count": 95,
     "metadata": {},
     "output_type": "execute_result"
    },
    {
     "data": {
      "image/png": "[encoded data removed]",
      "text/plain": [
       "<Figure size 640x480 with 1 Axes>"
      ]
     },
     "metadata": {},
     "output_type": "display_data"
    }
   ],
   "source": [
    "#посмотрим столбец с пробегом\n",
    "df['Kilometer'].hist(bins=100)"
   ]
  },
  {
   "cell_type": "code",
   "execution_count": 96,
   "id": "af393545",
   "metadata": {},
   "outputs": [
    {
     "data": {
      "text/plain": [
       "150000    192363\n",
       "125000     29722\n",
       "100000     11334\n",
       "90000       8691\n",
       "80000       7153\n",
       "70000       5648\n",
       "60000       4556\n",
       "50000       3301\n",
       "5000        3169\n",
       "40000       2376\n",
       "30000       2071\n",
       "20000       1821\n",
       "10000        421\n",
       "Name: Kilometer, dtype: int64"
      ]
     },
     "execution_count": 96,
     "metadata": {},
     "output_type": "execute_result"
    }
   ],
   "source": [
    "df['Kilometer'].value_counts()"
   ]
  },
  {
   "cell_type": "markdown",
   "id": "2253c2da",
   "metadata": {},
   "source": [
    "Вывод: получается, что километраж - категориальный признак, для упрощения в дальнейшем этот столбец категоризируем."
   ]
  },
  {
   "cell_type": "code",
   "execution_count": 97,
   "id": "f2a9d040",
   "metadata": {},
   "outputs": [
    {
     "name": "stdout",
     "output_type": "stream",
     "text": [
      "Количество объявлений с датой выпуска меньше 1900 года 19\n",
      "Количество объявлений с датой выпуска больше последней даты скачивания -  2016 11801\n"
     ]
    }
   ],
   "source": [
    "#Посмотрим год регистрации автомобилей. Этот год должен быть в границах 1900 - дата последнего объявления\n",
    "data['DateCreated']= pd.to_datetime(data['DateCreated'])\n",
    "_= data['DateCreated'].dt.year.max()\n",
    "print('Количество объявлений с датой выпуска меньше 1900 года', len(df.query('RegistrationYear<1900')))\n",
    "print('Количество объявлений с датой выпуска больше последней даты скачивания - ',_, len(df.query('RegistrationYear>@_')))\n",
    "\n",
    "#df['RegistrationYear'].value_counts()"
   ]
  },
  {
   "cell_type": "code",
   "execution_count": 98,
   "id": "92dc32b8",
   "metadata": {},
   "outputs": [
    {
     "data": {
      "text/plain": [
       "2017    8368\n",
       "2018    3381\n",
       "2019      10\n",
       "9999       6\n",
       "5000       5\n",
       "6000       4\n",
       "9000       2\n",
       "5911       2\n",
       "5555       2\n",
       "3000       2\n",
       "4500       2\n",
       "7000       1\n",
       "2500       1\n",
       "2800       1\n",
       "7800       1\n",
       "9450       1\n",
       "2290       1\n",
       "8500       1\n",
       "4800       1\n",
       "3800       1\n",
       "3700       1\n",
       "5900       1\n",
       "5300       1\n",
       "4100       1\n",
       "2200       1\n",
       "8888       1\n",
       "3200       1\n",
       "7100       1\n",
       "Name: RegistrationYear, dtype: int64"
      ]
     },
     "execution_count": 98,
     "metadata": {},
     "output_type": "execute_result"
    }
   ],
   "source": [
    "df.query('RegistrationYear>@_')['RegistrationYear'].value_counts()"
   ]
  },
  {
   "cell_type": "markdown",
   "id": "e3c0b6a3",
   "metadata": {},
   "source": [
    "Вывод: год выпуска очень важен, объявления с датой 2017, 2018, 2019 придется удалить, хоть их и много. Непонятно, что ставить. Прочие даты - явные ошибки, но их немного"
   ]
  },
  {
   "cell_type": "code",
   "execution_count": 99,
   "id": "ea66a06c",
   "metadata": {},
   "outputs": [
    {
     "name": "stdout",
     "output_type": "stream",
     "text": [
      "В ходе преобразования удалено 11820 строк\n"
     ]
    }
   ],
   "source": [
    "#Выше я определил, что дата скачивания базы - 2016, соответственно, даты выпуска больше 2016 никак не могут быть. \n",
    "#Год выпуска меньше 1900 не может быть. Соответственно ставим границы выпуска - 1900-2016  \n",
    "_ = len(df)\n",
    "\n",
    "df = df.query('1900<RegistrationYear<2017')\n",
    "print('В ходе преобразования удалено', (_-len(df)), 'строк')   "
   ]
  },
  {
   "cell_type": "code",
   "execution_count": 100,
   "id": "52ff5772",
   "metadata": {},
   "outputs": [
    {
     "data": {
      "text/html": [
       "<div>\n",
       "<style scoped>\n",
       "    .dataframe tbody tr th:only-of-type {\n",
       "        vertical-align: middle;\n",
       "    }\n",
       "\n",
       "    .dataframe tbody tr th {\n",
       "        vertical-align: top;\n",
       "    }\n",
       "\n",
       "    .dataframe thead th {\n",
       "        text-align: right;\n",
       "    }\n",
       "</style>\n",
       "<table border=\"1\" class=\"dataframe\">\n",
       "  <thead>\n",
       "    <tr style=\"text-align: right;\">\n",
       "      <th></th>\n",
       "      <th>RegistrationYear</th>\n",
       "    </tr>\n",
       "  </thead>\n",
       "  <tbody>\n",
       "    <tr>\n",
       "      <th>1944</th>\n",
       "      <td>1</td>\n",
       "    </tr>\n",
       "    <tr>\n",
       "      <th>1930</th>\n",
       "      <td>1</td>\n",
       "    </tr>\n",
       "    <tr>\n",
       "      <th>1925</th>\n",
       "      <td>1</td>\n",
       "    </tr>\n",
       "    <tr>\n",
       "      <th>1931</th>\n",
       "      <td>1</td>\n",
       "    </tr>\n",
       "    <tr>\n",
       "      <th>1948</th>\n",
       "      <td>1</td>\n",
       "    </tr>\n",
       "    <tr>\n",
       "      <th>1936</th>\n",
       "      <td>1</td>\n",
       "    </tr>\n",
       "    <tr>\n",
       "      <th>1946</th>\n",
       "      <td>1</td>\n",
       "    </tr>\n",
       "  </tbody>\n",
       "</table>\n",
       "</div>"
      ],
      "text/plain": [
       "      RegistrationYear\n",
       "1944                 1\n",
       "1930                 1\n",
       "1925                 1\n",
       "1931                 1\n",
       "1948                 1\n",
       "1936                 1\n",
       "1946                 1"
      ]
     },
     "execution_count": 100,
     "metadata": {},
     "output_type": "execute_result"
    }
   ],
   "source": [
    "#Год выпуска тоже похож на категориальное значение.Уберем совсем униальные, если мх немного\n",
    "_ = pd.DataFrame(df['RegistrationYear'].value_counts())\n",
    "_.query('RegistrationYear==1')"
   ]
  },
  {
   "cell_type": "code",
   "execution_count": 101,
   "id": "07eae5c9",
   "metadata": {},
   "outputs": [],
   "source": [
    "#удалим их\n",
    "_= list(_.query('RegistrationYear==1').index)"
   ]
  },
  {
   "cell_type": "code",
   "execution_count": 102,
   "id": "d05e5a36",
   "metadata": {},
   "outputs": [],
   "source": [
    "df=df.query('RegistrationYear!=@_')"
   ]
  },
  {
   "cell_type": "code",
   "execution_count": 103,
   "id": "a55d5bed",
   "metadata": {},
   "outputs": [
    {
     "name": "stdout",
     "output_type": "stream",
     "text": [
      "Количество совсем уникальных моделей 2\n"
     ]
    }
   ],
   "source": [
    "#Удалим совсем уникальые модели\n",
    "_ = pd.DataFrame(df['Model'].value_counts())\n",
    "print('Количество совсем уникальных моделей', len(_.query('Model==1')))\n",
    "_= list(_.query('Model==1').index)\n",
    "df=df.query('Model!=@_')"
   ]
  },
  {
   "cell_type": "code",
   "execution_count": 104,
   "id": "ecebd267",
   "metadata": {},
   "outputs": [
    {
     "data": {
      "text/plain": [
       "0.7359475574895096"
      ]
     },
     "execution_count": 104,
     "metadata": {},
     "output_type": "execute_result"
    }
   ],
   "source": [
    "#Посмотрим потерю данных после псех перестановок\n",
    "len(df)/len(data)"
   ]
  },
  {
   "cell_type": "markdown",
   "id": "962406ba",
   "metadata": {},
   "source": [
    "Вывод по этапу:\n",
    "1. Была изучена таблица данных.\n",
    "2. Выведены аномальные и пропущенные значения.\n",
    "3. Отобраны небходимые столбцы для обучения модели.\n",
    "4. Заполнены пропуски в столбцах и удалены некорректные значения.\n",
    "5. Постарались сохранить как можно больше данных.Потеря (27%) значительна, но учитывая размер датасета, вполне приемлема"
   ]
  },
  {
   "cell_type": "markdown",
   "id": "a2d6acbc",
   "metadata": {},
   "source": [
    "## Преобразование и кодирование данных"
   ]
  },
  {
   "cell_type": "code",
   "execution_count": 105,
   "id": "f374fb2e",
   "metadata": {},
   "outputs": [],
   "source": [
    "df_train, df_test = train_test_split(df, test_size=0.4, random_state=12345)\n",
    "X_train = df_train.drop('Price', axis=1)\n",
    "y_train = df_train['Price']\n",
    "\n",
    "X_t = df_test.drop('Price', axis=1)\n",
    "y_t = df_test['Price']\n",
    "\n",
    "X_test, X_valid, y_test, y_valid = train_test_split(X_t, y_t, test_size=0.5, random_state=12345)"
   ]
  },
  {
   "cell_type": "code",
   "execution_count": 106,
   "id": "f84c26c0",
   "metadata": {},
   "outputs": [],
   "source": [
    "#X = df.drop(\"Price\", axis=1)\n",
    "#y = df[\"Price\"]\n",
    "#X_train, X_test, y_train, y_test = train_test_split(X, y, test_size=0.2, random_state=12345)"
   ]
  },
  {
   "cell_type": "code",
   "execution_count": 107,
   "id": "21a2077b",
   "metadata": {},
   "outputs": [],
   "source": [
    "numeric_features = ['Power']"
   ]
  },
  {
   "cell_type": "code",
   "execution_count": 108,
   "id": "454a3057",
   "metadata": {},
   "outputs": [],
   "source": [
    "categorical_features = ['VehicleType', 'FuelType','Brand', 'Model','Kilometer', 'RegistrationYear', 'Gearbox','Repaired']"
   ]
  },
  {
   "cell_type": "code",
   "execution_count": 109,
   "id": "c66fca2d",
   "metadata": {},
   "outputs": [],
   "source": [
    "mask_prep = ColumnTransformer(transformers=[(\"categorical\", OrdinalEncoder(), categorical_features),\n",
    "                                            (\"numerical\", StandardScaler(), numeric_features)])"
   ]
  },
  {
   "cell_type": "code",
   "execution_count": 110,
   "id": "ad70ef85",
   "metadata": {},
   "outputs": [],
   "source": [
    "#s = X.columns.get_indexer(categorical_features)"
   ]
  },
  {
   "cell_type": "code",
   "execution_count": 111,
   "id": "ddf4bf0d",
   "metadata": {},
   "outputs": [],
   "source": [
    "X_train_p = pd.DataFrame(mask_prep.fit_transform(X_train))"
   ]
  },
  {
   "cell_type": "code",
   "execution_count": 112,
   "id": "f6440119",
   "metadata": {},
   "outputs": [],
   "source": [
    "X_valid_p = pd.DataFrame(mask_prep.transform(X_valid)) \n",
    "X_test_p = pd.DataFrame(mask_prep.transform(X_test))"
   ]
  },
  {
   "cell_type": "markdown",
   "id": "178c57c0",
   "metadata": {},
   "source": [
    "## Прогнозирование"
   ]
  },
  {
   "cell_type": "code",
   "execution_count": 113,
   "id": "bcb46fda",
   "metadata": {},
   "outputs": [],
   "source": [
    "\n",
    "def exec_time(start, end):\n",
    "    diff_time = end - start\n",
    "    m, s = divmod(diff_time, 60)\n",
    "    h, m = divmod(m, 60)\n",
    "    s,m,h = int(round(s, 0)), int(round(m, 0)), int(round(h, 0))\n",
    "    return s,m,h"
   ]
  },
  {
   "cell_type": "code",
   "execution_count": 114,
   "id": "75c9335e",
   "metadata": {},
   "outputs": [],
   "source": [
    "def grid_search(param, X,y):\n",
    "\n",
    "    cv = KFold(5, shuffle=True, random_state=12345)\n",
    "    GridModel = GridSearchCV(estimator=param['model'], param_grid=param['params'], cv=cv, scoring='neg_mean_squared_error', verbose=0)\n",
    "    GridModel.fit(X, y)\n",
    "    \n",
    "    return (-1*GridModel.best_score_)**0.5, GridModel.best_params_"
   ]
  },
  {
   "cell_type": "markdown",
   "id": "06398550",
   "metadata": {},
   "source": [
    "### Подбор параметров grid_search"
   ]
  },
  {
   "cell_type": "code",
   "execution_count": 115,
   "id": "cd195e35",
   "metadata": {},
   "outputs": [],
   "source": [
    "#Создадим список моделей\n",
    "#LGBMRegressor()\n",
    "p1 = {'learning_rate': [0.1, 0.5],\n",
    "                    'num_leaves': [100, 200], \n",
    "                    'random_state': [12345],\n",
    "                    'force_col_wise': [True],\n",
    "                    'verbose':[0]}\n",
    "\n",
    "p2 = {'model':DecisionTreeRegressor(),\n",
    "      'name': 'DecisionTreeRegressor',\n",
    "      'params': {'max_depth': [2, 3, 15, 20],\n",
    "                 'min_samples_split': [2, 4, 6],\n",
    "                 'criterion': ['squared_error'],\n",
    "                 'random_state': [12345]}}\n",
    "\n",
    "#RandomForestRegressor()\n",
    "p3 = {'model':RandomForestRegressor(),\n",
    "      'name': 'RandomForestRegressor',\n",
    "      'params': {'n_estimators': [10, 20, 50],  \n",
    "                 'max_features': ['sqrt'],\n",
    "                 'criterion': ['squared_error'],\n",
    "                 'random_state': [12345]}}\n",
    "\n",
    "\n",
    "#CatBoostRegressor()\n",
    "p4 = {'learning_rate': [0.1, 0.5, 0.8],\n",
    "      'iterations':[50,100,400],\n",
    "      'random_state': [12345],\n",
    "      'verbose':[0]}\n",
    "\n",
    "\n",
    "\n",
    "\n",
    "param = [p2, p3]"
   ]
  },
  {
   "cell_type": "code",
   "execution_count": 116,
   "id": "cad38b78",
   "metadata": {},
   "outputs": [
    {
     "name": "stdout",
     "output_type": "stream",
     "text": [
      "DecisionTreeRegressor Execution Time: 00:00:22\n",
      "RandomForestRegressor Execution Time: 00:01:41\n",
      "CPU times: total: 2min 2s\n",
      "Wall time: 2min 2s\n"
     ]
    }
   ],
   "source": [
    "%%time\n",
    "#Сначала определим простые модели\n",
    "\n",
    "d1 = pd.DataFrame()\n",
    "for i in range(len(param)):\n",
    "    start = time.time() \n",
    "    score, best_p = grid_search(param[i], X_train_p, y_train)\n",
    "    d1.loc[i, 'model'] = param[i]['name']\n",
    "    d1.loc[i, 'score'] = score\n",
    "    d1.loc[i, 'params'] = str(best_p)\n",
    "    end = time.time()\n",
    "    s,m,h = exec_time(start, end)\n",
    "    print(param[i]['name'], 'Execution Time: ' + \"{0:02d}:{1:02d}:{2:02d}\".format(h, m, s))\n",
    "   "
   ]
  },
  {
   "cell_type": "code",
   "execution_count": 117,
   "id": "e67a7a97",
   "metadata": {},
   "outputs": [
    {
     "name": "stdout",
     "output_type": "stream",
     "text": [
      "\n",
      "bestTest = 1519.251426\n",
      "bestIteration = 49\n",
      "\n",
      "\n",
      "bestTest = 1386.263847\n",
      "bestIteration = 49\n",
      "\n",
      "\n",
      "bestTest = 1383.145224\n",
      "bestIteration = 49\n",
      "\n",
      "\n",
      "bestTest = 1439.470875\n",
      "bestIteration = 99\n",
      "\n",
      "\n",
      "bestTest = 1350.309494\n",
      "bestIteration = 99\n",
      "\n",
      "\n",
      "bestTest = 1348.310346\n",
      "bestIteration = 99\n",
      "\n",
      "\n",
      "bestTest = 1322.571022\n",
      "bestIteration = 399\n",
      "\n",
      "\n",
      "bestTest = 1289.556352\n",
      "bestIteration = 399\n",
      "\n",
      "\n",
      "bestTest = 1307.004999\n",
      "bestIteration = 397\n",
      "\n",
      "Training on fold [0/5]\n",
      "\n",
      "bestTest = 1304.343918\n",
      "bestIteration = 397\n",
      "\n",
      "Training on fold [1/5]\n",
      "\n",
      "bestTest = 1298.19956\n",
      "bestIteration = 394\n",
      "\n",
      "Training on fold [2/5]\n",
      "\n",
      "bestTest = 1290.150928\n",
      "bestIteration = 386\n",
      "\n",
      "Training on fold [3/5]\n",
      "\n",
      "bestTest = 1280.37753\n",
      "bestIteration = 399\n",
      "\n",
      "Training on fold [4/5]\n",
      "\n",
      "bestTest = 1290.378922\n",
      "bestIteration = 399\n",
      "\n",
      "CPU times: total: 26min 50s\n",
      "Wall time: 8min 1s\n"
     ]
    }
   ],
   "source": [
    "%%time\n",
    "#Модель Catboost\n",
    "train_pool = Pool(X_train, y_train, cat_features=X_train.columns.get_indexer(categorical_features))\n",
    "cv = KFold(5, shuffle=True, random_state=12345)\n",
    "model = CatBoostRegressor()\n",
    "grid_search_result = model.grid_search(p4,train_pool, cv=cv, verbose=0 )\n"
   ]
  },
  {
   "cell_type": "code",
   "execution_count": 118,
   "id": "51edd462",
   "metadata": {},
   "outputs": [],
   "source": [
    "#Занесем результат в таблицу\n",
    "d1.loc[2, 'model'] = 'CatBoost'\n",
    "d1.loc[2, 'score'] = pd.DataFrame(grid_search_result['cv_results'])['train-RMSE-mean'].min()\n",
    "d1.loc[2, 'params'] = str(grid_search_result['params'])"
   ]
  },
  {
   "cell_type": "code",
   "execution_count": 119,
   "id": "a98e9919",
   "metadata": {},
   "outputs": [
    {
     "name": "stdout",
     "output_type": "stream",
     "text": [
      "CPU times: total: 1min 43s\n",
      "Wall time: 29.3 s\n"
     ]
    },
    {
     "data": {
      "text/html": [
       "<style>#sk-container-id-3 {color: black;background-color: white;}#sk-container-id-3 pre{padding: 0;}#sk-container-id-3 div.sk-toggleable {background-color: white;}#sk-container-id-3 label.sk-toggleable__label {cursor: pointer;display: block;width: 100%;margin-bottom: 0;padding: 0.3em;box-sizing: border-box;text-align: center;}#sk-container-id-3 label.sk-toggleable__label-arrow:before {content: \"▸\";float: left;margin-right: 0.25em;color: #696969;}#sk-container-id-3 label.sk-toggleable__label-arrow:hover:before {color: black;}#sk-container-id-3 div.sk-estimator:hover label.sk-toggleable__label-arrow:before {color: black;}#sk-container-id-3 div.sk-toggleable__content {max-height: 0;max-width: 0;overflow: hidden;text-align: left;background-color: #f0f8ff;}#sk-container-id-3 div.sk-toggleable__content pre {margin: 0.2em;color: black;border-radius: 0.25em;background-color: #f0f8ff;}#sk-container-id-3 input.sk-toggleable__control:checked~div.sk-toggleable__content {max-height: 200px;max-width: 100%;overflow: auto;}#sk-container-id-3 input.sk-toggleable__control:checked~label.sk-toggleable__label-arrow:before {content: \"▾\";}#sk-container-id-3 div.sk-estimator input.sk-toggleable__control:checked~label.sk-toggleable__label {background-color: #d4ebff;}#sk-container-id-3 div.sk-label input.sk-toggleable__control:checked~label.sk-toggleable__label {background-color: #d4ebff;}#sk-container-id-3 input.sk-hidden--visually {border: 0;clip: rect(1px 1px 1px 1px);clip: rect(1px, 1px, 1px, 1px);height: 1px;margin: -1px;overflow: hidden;padding: 0;position: absolute;width: 1px;}#sk-container-id-3 div.sk-estimator {font-family: monospace;background-color: #f0f8ff;border: 1px dotted black;border-radius: 0.25em;box-sizing: border-box;margin-bottom: 0.5em;}#sk-container-id-3 div.sk-estimator:hover {background-color: #d4ebff;}#sk-container-id-3 div.sk-parallel-item::after {content: \"\";width: 100%;border-bottom: 1px solid gray;flex-grow: 1;}#sk-container-id-3 div.sk-label:hover label.sk-toggleable__label {background-color: #d4ebff;}#sk-container-id-3 div.sk-serial::before {content: \"\";position: absolute;border-left: 1px solid gray;box-sizing: border-box;top: 0;bottom: 0;left: 50%;z-index: 0;}#sk-container-id-3 div.sk-serial {display: flex;flex-direction: column;align-items: center;background-color: white;padding-right: 0.2em;padding-left: 0.2em;position: relative;}#sk-container-id-3 div.sk-item {position: relative;z-index: 1;}#sk-container-id-3 div.sk-parallel {display: flex;align-items: stretch;justify-content: center;background-color: white;position: relative;}#sk-container-id-3 div.sk-item::before, #sk-container-id-3 div.sk-parallel-item::before {content: \"\";position: absolute;border-left: 1px solid gray;box-sizing: border-box;top: 0;bottom: 0;left: 50%;z-index: -1;}#sk-container-id-3 div.sk-parallel-item {display: flex;flex-direction: column;z-index: 1;position: relative;background-color: white;}#sk-container-id-3 div.sk-parallel-item:first-child::after {align-self: flex-end;width: 50%;}#sk-container-id-3 div.sk-parallel-item:last-child::after {align-self: flex-start;width: 50%;}#sk-container-id-3 div.sk-parallel-item:only-child::after {width: 0;}#sk-container-id-3 div.sk-dashed-wrapped {border: 1px dashed gray;margin: 0 0.4em 0.5em 0.4em;box-sizing: border-box;padding-bottom: 0.4em;background-color: white;}#sk-container-id-3 div.sk-label label {font-family: monospace;font-weight: bold;display: inline-block;line-height: 1.2em;}#sk-container-id-3 div.sk-label-container {text-align: center;}#sk-container-id-3 div.sk-container {/* jupyter's `normalize.less` sets `[hidden] { display: none; }` but bootstrap.min.css set `[hidden] { display: none !important; }` so we also need the `!important` here to be able to override the default hidden behavior on the sphinx rendered scikit-learn.org. See: https://github.com/scikit-learn/scikit-learn/issues/21755 */display: inline-block !important;position: relative;}#sk-container-id-3 div.sk-text-repr-fallback {display: none;}</style><div id=\"sk-container-id-3\" class=\"sk-top-container\"><div class=\"sk-text-repr-fallback\"><pre>GridSearchCV(cv=KFold(n_splits=5, random_state=12345, shuffle=True),\n",
       "             estimator=LGBMRegressor(),\n",
       "             param_grid={&#x27;force_col_wise&#x27;: [True], &#x27;learning_rate&#x27;: [0.1, 0.5],\n",
       "                         &#x27;num_leaves&#x27;: [100, 200], &#x27;random_state&#x27;: [12345],\n",
       "                         &#x27;verbose&#x27;: [0]},\n",
       "             scoring=&#x27;neg_mean_squared_error&#x27;)</pre><b>In a Jupyter environment, please rerun this cell to show the HTML representation or trust the notebook. <br />On GitHub, the HTML representation is unable to render, please try loading this page with nbviewer.org.</b></div><div class=\"sk-container\" hidden><div class=\"sk-item sk-dashed-wrapped\"><div class=\"sk-label-container\"><div class=\"sk-label sk-toggleable\"><input class=\"sk-toggleable__control sk-hidden--visually\" id=\"sk-estimator-id-7\" type=\"checkbox\" ><label for=\"sk-estimator-id-7\" class=\"sk-toggleable__label sk-toggleable__label-arrow\">GridSearchCV</label><div class=\"sk-toggleable__content\"><pre>GridSearchCV(cv=KFold(n_splits=5, random_state=12345, shuffle=True),\n",
       "             estimator=LGBMRegressor(),\n",
       "             param_grid={&#x27;force_col_wise&#x27;: [True], &#x27;learning_rate&#x27;: [0.1, 0.5],\n",
       "                         &#x27;num_leaves&#x27;: [100, 200], &#x27;random_state&#x27;: [12345],\n",
       "                         &#x27;verbose&#x27;: [0]},\n",
       "             scoring=&#x27;neg_mean_squared_error&#x27;)</pre></div></div></div><div class=\"sk-parallel\"><div class=\"sk-parallel-item\"><div class=\"sk-item\"><div class=\"sk-label-container\"><div class=\"sk-label sk-toggleable\"><input class=\"sk-toggleable__control sk-hidden--visually\" id=\"sk-estimator-id-8\" type=\"checkbox\" ><label for=\"sk-estimator-id-8\" class=\"sk-toggleable__label sk-toggleable__label-arrow\">estimator: LGBMRegressor</label><div class=\"sk-toggleable__content\"><pre>LGBMRegressor()</pre></div></div></div><div class=\"sk-serial\"><div class=\"sk-item\"><div class=\"sk-estimator sk-toggleable\"><input class=\"sk-toggleable__control sk-hidden--visually\" id=\"sk-estimator-id-9\" type=\"checkbox\" ><label for=\"sk-estimator-id-9\" class=\"sk-toggleable__label sk-toggleable__label-arrow\">LGBMRegressor</label><div class=\"sk-toggleable__content\"><pre>LGBMRegressor()</pre></div></div></div></div></div></div></div></div></div></div>"
      ],
      "text/plain": [
       "GridSearchCV(cv=KFold(n_splits=5, random_state=12345, shuffle=True),\n",
       "             estimator=LGBMRegressor(),\n",
       "             param_grid={'force_col_wise': [True], 'learning_rate': [0.1, 0.5],\n",
       "                         'num_leaves': [100, 200], 'random_state': [12345],\n",
       "                         'verbose': [0]},\n",
       "             scoring='neg_mean_squared_error')"
      ]
     },
     "execution_count": 119,
     "metadata": {},
     "output_type": "execute_result"
    }
   ],
   "source": [
    "%%time\n",
    "#Модель LGBMRegressor()\n",
    "X_train_LGBMR = X_train\n",
    "X_train_LGBMR[categorical_features]=X_train[categorical_features].astype('category')\n",
    "cv = KFold(5, shuffle=True, random_state=12345)\n",
    "GridModel = GridSearchCV(estimator = LGBMRegressor(), param_grid=p1, cv=cv, scoring='neg_mean_squared_error', verbose=0)\n",
    "GridModel.fit(X_train_LGBMR, y_train)"
   ]
  },
  {
   "cell_type": "code",
   "execution_count": 120,
   "id": "48893b05",
   "metadata": {},
   "outputs": [],
   "source": [
    "#Занесем результат в таблицу\n",
    "d1.loc[3, 'model'] = 'LGBMRegressor'\n",
    "d1.loc[3, 'score'] = (-1*GridModel.best_score_)**0.5\n",
    "d1.loc[3, 'params'] = str(GridModel.best_params_)"
   ]
  },
  {
   "cell_type": "code",
   "execution_count": 121,
   "id": "78ba0556",
   "metadata": {},
   "outputs": [
    {
     "data": {
      "text/html": [
       "<div>\n",
       "<style scoped>\n",
       "    .dataframe tbody tr th:only-of-type {\n",
       "        vertical-align: middle;\n",
       "    }\n",
       "\n",
       "    .dataframe tbody tr th {\n",
       "        vertical-align: top;\n",
       "    }\n",
       "\n",
       "    .dataframe thead th {\n",
       "        text-align: right;\n",
       "    }\n",
       "</style>\n",
       "<table border=\"1\" class=\"dataframe\">\n",
       "  <thead>\n",
       "    <tr style=\"text-align: right;\">\n",
       "      <th></th>\n",
       "      <th>model</th>\n",
       "      <th>score</th>\n",
       "      <th>params</th>\n",
       "    </tr>\n",
       "  </thead>\n",
       "  <tbody>\n",
       "    <tr>\n",
       "      <th>0</th>\n",
       "      <td>DecisionTreeRegressor</td>\n",
       "      <td>1544.804446</td>\n",
       "      <td>{'criterion': 'squared_error', 'max_depth': 15...</td>\n",
       "    </tr>\n",
       "    <tr>\n",
       "      <th>1</th>\n",
       "      <td>RandomForestRegressor</td>\n",
       "      <td>1323.780422</td>\n",
       "      <td>{'criterion': 'squared_error', 'max_features':...</td>\n",
       "    </tr>\n",
       "    <tr>\n",
       "      <th>2</th>\n",
       "      <td>CatBoost</td>\n",
       "      <td>1193.911672</td>\n",
       "      <td>{'random_seed': 12345, 'verbose': 0, 'iteratio...</td>\n",
       "    </tr>\n",
       "    <tr>\n",
       "      <th>3</th>\n",
       "      <td>LGBMRegressor</td>\n",
       "      <td>1251.311357</td>\n",
       "      <td>{'force_col_wise': True, 'learning_rate': 0.1,...</td>\n",
       "    </tr>\n",
       "  </tbody>\n",
       "</table>\n",
       "</div>"
      ],
      "text/plain": [
       "                   model        score  \\\n",
       "0  DecisionTreeRegressor  1544.804446   \n",
       "1  RandomForestRegressor  1323.780422   \n",
       "2               CatBoost  1193.911672   \n",
       "3          LGBMRegressor  1251.311357   \n",
       "\n",
       "                                              params  \n",
       "0  {'criterion': 'squared_error', 'max_depth': 15...  \n",
       "1  {'criterion': 'squared_error', 'max_features':...  \n",
       "2  {'random_seed': 12345, 'verbose': 0, 'iteratio...  \n",
       "3  {'force_col_wise': True, 'learning_rate': 0.1,...  "
      ]
     },
     "execution_count": 121,
     "metadata": {},
     "output_type": "execute_result"
    }
   ],
   "source": [
    "#отобразим таблицу\n",
    "d1"
   ]
  },
  {
   "cell_type": "markdown",
   "id": "05456761",
   "metadata": {},
   "source": [
    "Вывод по подбору параметров:\n",
    "1. Лучше всего результат у модели CatBoost\n",
    "2. Подбор параметров внутренними средствами модели CatBoost - это очень долго\n",
    "3. Категорийные признауки Catboost и LGBMR обработаны внутренними средствами моделей, а catboost еще и подбор параметров осуществлен внутренним GridSearch"
   ]
  },
  {
   "cell_type": "markdown",
   "id": "e7256f9a",
   "metadata": {},
   "source": [
    "### Определение лучшей модели по совокупности характеристик"
   ]
  },
  {
   "cell_type": "code",
   "execution_count": 122,
   "id": "89824336",
   "metadata": {},
   "outputs": [],
   "source": [
    "d1['fit_time'] = np.nan\n",
    "d1['predict_time'] = np.nan\n",
    "d1['test_score'] = np.nan"
   ]
  },
  {
   "cell_type": "code",
   "execution_count": 123,
   "id": "80416589",
   "metadata": {},
   "outputs": [],
   "source": [
    "#DecisionTreeRegressor()\n",
    "model1 = DecisionTreeRegressor()\n",
    "model1.set_params(**ast.literal_eval(d1['params'][0]))\n",
    "start = time.time()\n",
    "model1.fit(X_train_p, y_train)\n",
    "end = time.time()\n",
    "s,m,h = exec_time(start, end)\n",
    "d1['fit_time'][0] = \"{0:02d}:{1:02d}:{2:02d}\".format(h, m, s)\n",
    "\n",
    "start = time.time()\n",
    "y_pred = model1.predict(X_valid_p)\n",
    "end = time.time()\n",
    "s,m,h = exec_time(start, end)\n",
    "d1['predict_time'][0] = \"{0:02d}:{1:02d}:{2:02d}\".format(h, m, s)\n",
    "d1['test_score'][0] = mean_squared_error(y_valid, y_pred) ** 0.5"
   ]
  },
  {
   "cell_type": "code",
   "execution_count": 124,
   "id": "2310ba2a",
   "metadata": {},
   "outputs": [],
   "source": [
    "#RandomForestRegressor\n",
    "model1 = RandomForestRegressor()\n",
    "model1.set_params(**ast.literal_eval(d1['params'][1]))\n",
    "start = time.time()\n",
    "model1.fit(X_train_p, y_train)\n",
    "end = time.time()\n",
    "s,m,h = exec_time(start, end)\n",
    "d1['fit_time'][1] = \"{0:02d}:{1:02d}:{2:02d}\".format(h, m, s)\n",
    "\n",
    "start = time.time()\n",
    "y_pred = model1.predict(X_valid_p)\n",
    "end = time.time()\n",
    "s,m,h = exec_time(start, end)\n",
    "d1['predict_time'][1] = \"{0:02d}:{1:02d}:{2:02d}\".format(h, m, s)\n",
    "d1['test_score'][1] = mean_squared_error(y_valid, y_pred) ** 0.5"
   ]
  },
  {
   "cell_type": "code",
   "execution_count": 125,
   "id": "817e63d2",
   "metadata": {},
   "outputs": [],
   "source": [
    "#Catboost\n",
    "model1 = CatBoostRegressor()\n",
    "valid_pool = Pool(X_valid, cat_features=X_valid.columns.get_indexer(categorical_features))\n",
    "#valid_pool = X_valid\n",
    "model1.set_params(**ast.literal_eval(d1['params'][2]))\n",
    "start = time.time()\n",
    "model1.fit(train_pool)\n",
    "end = time.time()\n",
    "s,m,h = exec_time(start, end)\n",
    "d1['fit_time'][2] = \"{0:02d}:{1:02d}:{2:02d}\".format(h, m, s)\n",
    "\n",
    "start = time.time()\n",
    "y_pred = model1.predict(valid_pool)\n",
    "end = time.time()\n",
    "s,m,h = exec_time(start, end)\n",
    "d1['predict_time'][2] = \"{0:02d}:{1:02d}:{2:02d}\".format(h, m, s)\n",
    "d1['test_score'][2] = mean_squared_error(y_valid, y_pred) ** 0.5"
   ]
  },
  {
   "cell_type": "code",
   "execution_count": 126,
   "id": "9989c41a",
   "metadata": {},
   "outputs": [],
   "source": [
    "#LGBMRegressor\n",
    "X_valid_LGBMR = X_valid\n",
    "X_valid_LGBMR[categorical_features]=X_valid[categorical_features].astype('category')\n",
    "\n",
    "model1 = LGBMRegressor()\n",
    "model1.set_params(**ast.literal_eval(d1['params'][3]))\n",
    "start = time.time()\n",
    "model1.fit(X_train_LGBMR, y_train)\n",
    "end = time.time()\n",
    "s,m,h = exec_time(start, end)\n",
    "d1['fit_time'][3] = \"{0:02d}:{1:02d}:{2:02d}\".format(h, m, s)\n",
    "\n",
    "start = time.time()\n",
    "y_pred = model1.predict(X_valid_LGBMR)\n",
    "end = time.time()\n",
    "s,m,h = exec_time(start, end)\n",
    "d1['predict_time'][3] = \"{0:02d}:{1:02d}:{2:02d}\".format(h, m, s)\n",
    "d1['test_score'][3] = mean_squared_error(y_valid, y_pred) ** 0.5"
   ]
  },
  {
   "cell_type": "code",
   "execution_count": 127,
   "id": "8710a7b6",
   "metadata": {},
   "outputs": [
    {
     "data": {
      "text/html": [
       "<div>\n",
       "<style scoped>\n",
       "    .dataframe tbody tr th:only-of-type {\n",
       "        vertical-align: middle;\n",
       "    }\n",
       "\n",
       "    .dataframe tbody tr th {\n",
       "        vertical-align: top;\n",
       "    }\n",
       "\n",
       "    .dataframe thead th {\n",
       "        text-align: right;\n",
       "    }\n",
       "</style>\n",
       "<table border=\"1\" class=\"dataframe\">\n",
       "  <thead>\n",
       "    <tr style=\"text-align: right;\">\n",
       "      <th></th>\n",
       "      <th>model</th>\n",
       "      <th>score</th>\n",
       "      <th>params</th>\n",
       "      <th>fit_time</th>\n",
       "      <th>predict_time</th>\n",
       "      <th>test_score</th>\n",
       "    </tr>\n",
       "  </thead>\n",
       "  <tbody>\n",
       "    <tr>\n",
       "      <th>0</th>\n",
       "      <td>DecisionTreeRegressor</td>\n",
       "      <td>1544.804446</td>\n",
       "      <td>{'criterion': 'squared_error', 'max_depth': 15...</td>\n",
       "      <td>00:00:01</td>\n",
       "      <td>00:00:00</td>\n",
       "      <td>1535.148757</td>\n",
       "    </tr>\n",
       "    <tr>\n",
       "      <th>1</th>\n",
       "      <td>RandomForestRegressor</td>\n",
       "      <td>1323.780422</td>\n",
       "      <td>{'criterion': 'squared_error', 'max_features':...</td>\n",
       "      <td>00:00:14</td>\n",
       "      <td>00:00:01</td>\n",
       "      <td>1292.735730</td>\n",
       "    </tr>\n",
       "    <tr>\n",
       "      <th>2</th>\n",
       "      <td>CatBoost</td>\n",
       "      <td>1193.911672</td>\n",
       "      <td>{'random_seed': 12345, 'verbose': 0, 'iteratio...</td>\n",
       "      <td>00:00:56</td>\n",
       "      <td>00:00:00</td>\n",
       "      <td>1287.640918</td>\n",
       "    </tr>\n",
       "    <tr>\n",
       "      <th>3</th>\n",
       "      <td>LGBMRegressor</td>\n",
       "      <td>1251.311357</td>\n",
       "      <td>{'force_col_wise': True, 'learning_rate': 0.1,...</td>\n",
       "      <td>00:00:02</td>\n",
       "      <td>00:00:00</td>\n",
       "      <td>1248.557683</td>\n",
       "    </tr>\n",
       "  </tbody>\n",
       "</table>\n",
       "</div>"
      ],
      "text/plain": [
       "                   model        score  \\\n",
       "0  DecisionTreeRegressor  1544.804446   \n",
       "1  RandomForestRegressor  1323.780422   \n",
       "2               CatBoost  1193.911672   \n",
       "3          LGBMRegressor  1251.311357   \n",
       "\n",
       "                                              params  fit_time predict_time  \\\n",
       "0  {'criterion': 'squared_error', 'max_depth': 15...  00:00:01     00:00:00   \n",
       "1  {'criterion': 'squared_error', 'max_features':...  00:00:14     00:00:01   \n",
       "2  {'random_seed': 12345, 'verbose': 0, 'iteratio...  00:00:56     00:00:00   \n",
       "3  {'force_col_wise': True, 'learning_rate': 0.1,...  00:00:02     00:00:00   \n",
       "\n",
       "    test_score  \n",
       "0  1535.148757  \n",
       "1  1292.735730  \n",
       "2  1287.640918  \n",
       "3  1248.557683  "
      ]
     },
     "execution_count": 127,
     "metadata": {},
     "output_type": "execute_result"
    }
   ],
   "source": [
    "d1"
   ]
  },
  {
   "cell_type": "markdown",
   "id": "be76e374",
   "metadata": {},
   "source": [
    "Вывод по разделу: лучшие показатели на тестировочной выборке показала модель catboost, на тестовой - LGBMRegressor. По соотношению времени и качества результата лучшая модель получилась LGBMRegressor. Эту модель и будем использовать для предсказаний на тестовой выборке"
   ]
  },
  {
   "cell_type": "code",
   "execution_count": 128,
   "id": "52844bda",
   "metadata": {},
   "outputs": [
    {
     "name": "stdout",
     "output_type": "stream",
     "text": [
      "Значение RMSE на тестовой выборке 1241.1143570086776\n"
     ]
    }
   ],
   "source": [
    "X_test_LGBMR = X_test\n",
    "X_test_LGBMR[categorical_features]=X_test[categorical_features].astype('category')\n",
    "\n",
    "model1 = LGBMRegressor()\n",
    "model1.set_params(**ast.literal_eval(d1['params'][3]))\n",
    "start = time.time()\n",
    "model1.fit(X_train_LGBMR, y_train)\n",
    "start = time.time()\n",
    "y_pred = model1.predict(X_test_LGBMR)\n",
    "print('Значение RMSE на тестовой выборке', mean_squared_error(y_test, y_pred) ** 0.5)"
   ]
  },
  {
   "cell_type": "markdown",
   "id": "2bc49c51",
   "metadata": {},
   "source": [
    "Вывод по исследованию:\n",
    "1. Мы преобразовали данные, потеря данных составила 27%\n",
    "2. Посчитали, что большая часть данных категорийная, в частности, такие как километраж и год выпуска. Преобразовали OrdinalEncorder. Если бы датасет не был бы таким большим, то имело смысл Ohe\n",
    "3. Исследовали 4 модели с подбором гиперпараметров и кросс-валидацией - LGBMRegressor, DecisionTreeRegressor, RandomForestRegressor, CatBoostRegressor\n",
    "4. Измерили время выполнения всех моделей. Получились следующие данные\n",
    "    LGBMRegressor Execution Time: 00:00:6, \n",
    "    DecisionTreeRegressor Execution Time: 00:00:1, \n",
    "    RandomForestRegressor Execution Time: 00:00:14, \n",
    "    CatBoostRegressor Execution Time: 00:00:57, \n",
    "5. По соотношению времени и качества результата лучшая модель получилась LGBMRegressor."
   ]
  }
 ],
 "metadata": {
  "kernelspec": {
   "display_name": "Python 3 (ipykernel)",
   "language": "python",
   "name": "python3"
  },
  "language_info": {
   "codemirror_mode": {
    "name": "ipython",
    "version": 3
   },
   "file_extension": ".py",
   "mimetype": "text/x-python",
   "name": "python",
   "nbconvert_exporter": "python",
   "pygments_lexer": "ipython3",
   "version": "3.9.12"
  },
  "toc": {
   "base_numbering": 1,
   "nav_menu": {},
   "number_sections": true,
   "sideBar": true,
   "skip_h1_title": true,
   "title_cell": "Table of Contents",
   "title_sidebar": "Contents",
   "toc_cell": false,
   "toc_position": {},
   "toc_section_display": true,
   "toc_window_display": false
  }
 },
 "nbformat": 4,
 "nbformat_minor": 5
}
