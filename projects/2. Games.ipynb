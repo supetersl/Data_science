{
 "cells": [
  {
   "cell_type": "markdown",
   "metadata": {},
   "source": [
    "<div class=\"alert alert-success\"; style=\"border-left: 7px solid green\">\n",
    "  Описание проекта\n",
    "</div>"
   ]
  },
  {
   "cell_type": "markdown",
   "metadata": {},
   "source": [
    "Из открытых источников доступны исторические данные о продажах игр, оценки пользователей и экспертов, жанры и платформы (например, Xbox или PlayStation). В ходе исследования нам предстоит выявить определяющие успешность игры закономерности. Это позволит сделать ставку на потенциально популярный продукт и спланировать рекламные кампании.\n",
    "\n",
    "Перед нами данные до 2016 года. Представим, что сейчас декабрь 2016 г., и мы планируем кампанию на 2017-й. Нужно отработать принцип работы с данными. Не важно, прогнозируем ли мы продажи на 2017 год по данным 2016-го или же 2027-й — по данным 2026 года.\n",
    "\n",
    "В наборе данных попадается аббревиатура ESRB (Entertainment Software Rating Board) — это ассоциация, определяющая возрастной рейтинг компьютерных игр. ESRB оценивает игровой контент и присваивает ему подходящую возрастную категорию, например, «Для взрослых», «Для детей младшего возраста» или «Для подростков».\n",
    "\n",
    "Столбцы базы данных\n",
    "\n",
    " - Name — название игры\n",
    " - Platform — платформа\n",
    " - Year_of_Release — год выпуска\n",
    " - Genre — жанр игры\n",
    " - NA_sales — продажи в Северной Америке (миллионы проданных копий)\n",
    " - EU_sales — продажи в Европе (миллионы проданных копий)\n",
    " - JP_sales — продажи в Японии (миллионы проданных копий)\n",
    " - Other_sales — продажи в других странах (миллионы проданных копий)\n",
    " - Critic_Score — оценка критиков (максимум 100)\n",
    " - User_Score — оценка пользователей (максимум 10)\n",
    " - Rating — рейтинг от организации ESRB (англ. Entertainment Software Rating Board). Эта ассоциация определяет рейтинг компьютерных игр и присваивает им подходящую возрастную категорию.\n"
   ]
  },
  {
   "cell_type": "markdown",
   "metadata": {},
   "source": [
    "<div class=\"alert alert-success\"; style=\"border-left: 7px solid green\">\n",
    "  Шаг_1 Загрузка данных и знакомство с нимим\n",
    "</div>"
   ]
  },
  {
   "cell_type": "code",
   "execution_count": 1,
   "metadata": {},
   "outputs": [],
   "source": [
    "import pandas as pd\n",
    "import numpy as np\n",
    "import datetime as dt\n",
    "from matplotlib import pyplot as plt\n",
    "import seaborn as sns\n",
    "from IPython.display import display_html\n",
    "from termcolor import colored\n",
    "from scipy import stats as st"
   ]
  },
  {
   "cell_type": "code",
   "execution_count": 2,
   "metadata": {},
   "outputs": [],
   "source": [
    "df = pd.read_csv('/datasets/games.csv', sep = ',')"
   ]
  },
  {
   "cell_type": "code",
   "execution_count": 3,
   "metadata": {},
   "outputs": [
    {
     "data": {
      "text/html": [
       "<div>\n",
       "<style scoped>\n",
       "    .dataframe tbody tr th:only-of-type {\n",
       "        vertical-align: middle;\n",
       "    }\n",
       "\n",
       "    .dataframe tbody tr th {\n",
       "        vertical-align: top;\n",
       "    }\n",
       "\n",
       "    .dataframe thead th {\n",
       "        text-align: right;\n",
       "    }\n",
       "</style>\n",
       "<table border=\"1\" class=\"dataframe\">\n",
       "  <thead>\n",
       "    <tr style=\"text-align: right;\">\n",
       "      <th></th>\n",
       "      <th>Name</th>\n",
       "      <th>Platform</th>\n",
       "      <th>Year_of_Release</th>\n",
       "      <th>Genre</th>\n",
       "      <th>NA_sales</th>\n",
       "      <th>EU_sales</th>\n",
       "      <th>JP_sales</th>\n",
       "      <th>Other_sales</th>\n",
       "      <th>Critic_Score</th>\n",
       "      <th>User_Score</th>\n",
       "      <th>Rating</th>\n",
       "    </tr>\n",
       "  </thead>\n",
       "  <tbody>\n",
       "    <tr>\n",
       "      <th>9548</th>\n",
       "      <td>Ty the Tasmanian Tiger 2: Bush Rescue</td>\n",
       "      <td>GBA</td>\n",
       "      <td>2004.0</td>\n",
       "      <td>Platform</td>\n",
       "      <td>0.09</td>\n",
       "      <td>0.03</td>\n",
       "      <td>0.00</td>\n",
       "      <td>0.00</td>\n",
       "      <td>63.0</td>\n",
       "      <td>tbd</td>\n",
       "      <td>E</td>\n",
       "    </tr>\n",
       "    <tr>\n",
       "      <th>1248</th>\n",
       "      <td>NBA Live 98</td>\n",
       "      <td>PS</td>\n",
       "      <td>1997.0</td>\n",
       "      <td>Sports</td>\n",
       "      <td>1.41</td>\n",
       "      <td>0.06</td>\n",
       "      <td>0.00</td>\n",
       "      <td>0.04</td>\n",
       "      <td>NaN</td>\n",
       "      <td>NaN</td>\n",
       "      <td>NaN</td>\n",
       "    </tr>\n",
       "    <tr>\n",
       "      <th>14230</th>\n",
       "      <td>Rakushou! Pachi-Slot Sengen 5: Rio Paradise</td>\n",
       "      <td>PS2</td>\n",
       "      <td>2007.0</td>\n",
       "      <td>Misc</td>\n",
       "      <td>0.00</td>\n",
       "      <td>0.00</td>\n",
       "      <td>0.03</td>\n",
       "      <td>0.00</td>\n",
       "      <td>NaN</td>\n",
       "      <td>NaN</td>\n",
       "      <td>NaN</td>\n",
       "    </tr>\n",
       "    <tr>\n",
       "      <th>4572</th>\n",
       "      <td>Big Strike Bowling</td>\n",
       "      <td>PS</td>\n",
       "      <td>2003.0</td>\n",
       "      <td>Sports</td>\n",
       "      <td>0.23</td>\n",
       "      <td>0.16</td>\n",
       "      <td>0.00</td>\n",
       "      <td>0.03</td>\n",
       "      <td>NaN</td>\n",
       "      <td>NaN</td>\n",
       "      <td>NaN</td>\n",
       "    </tr>\n",
       "    <tr>\n",
       "      <th>9734</th>\n",
       "      <td>O.D.T.: Escape... Or Die Trying</td>\n",
       "      <td>PS</td>\n",
       "      <td>1997.0</td>\n",
       "      <td>Adventure</td>\n",
       "      <td>0.07</td>\n",
       "      <td>0.05</td>\n",
       "      <td>0.00</td>\n",
       "      <td>0.01</td>\n",
       "      <td>NaN</td>\n",
       "      <td>NaN</td>\n",
       "      <td>NaN</td>\n",
       "    </tr>\n",
       "    <tr>\n",
       "      <th>11371</th>\n",
       "      <td>NHL 2K7</td>\n",
       "      <td>X360</td>\n",
       "      <td>2006.0</td>\n",
       "      <td>Sports</td>\n",
       "      <td>0.07</td>\n",
       "      <td>0.00</td>\n",
       "      <td>0.00</td>\n",
       "      <td>0.01</td>\n",
       "      <td>78.0</td>\n",
       "      <td>7.9</td>\n",
       "      <td>E10+</td>\n",
       "    </tr>\n",
       "    <tr>\n",
       "      <th>3149</th>\n",
       "      <td>Rayman 3D</td>\n",
       "      <td>3DS</td>\n",
       "      <td>2011.0</td>\n",
       "      <td>Platform</td>\n",
       "      <td>0.23</td>\n",
       "      <td>0.35</td>\n",
       "      <td>0.00</td>\n",
       "      <td>0.06</td>\n",
       "      <td>61.0</td>\n",
       "      <td>6.6</td>\n",
       "      <td>E</td>\n",
       "    </tr>\n",
       "    <tr>\n",
       "      <th>15560</th>\n",
       "      <td>Sotsugyou II: Neo Generation Special</td>\n",
       "      <td>3DO</td>\n",
       "      <td>1995.0</td>\n",
       "      <td>Simulation</td>\n",
       "      <td>0.00</td>\n",
       "      <td>0.00</td>\n",
       "      <td>0.02</td>\n",
       "      <td>0.00</td>\n",
       "      <td>NaN</td>\n",
       "      <td>NaN</td>\n",
       "      <td>NaN</td>\n",
       "    </tr>\n",
       "    <tr>\n",
       "      <th>9163</th>\n",
       "      <td>Monster House</td>\n",
       "      <td>GC</td>\n",
       "      <td>2006.0</td>\n",
       "      <td>Adventure</td>\n",
       "      <td>0.11</td>\n",
       "      <td>0.03</td>\n",
       "      <td>0.00</td>\n",
       "      <td>0.00</td>\n",
       "      <td>60.0</td>\n",
       "      <td>tbd</td>\n",
       "      <td>E10+</td>\n",
       "    </tr>\n",
       "    <tr>\n",
       "      <th>11600</th>\n",
       "      <td>Dungeon Travelers 2: The Royal Library &amp; The M...</td>\n",
       "      <td>PSP</td>\n",
       "      <td>2013.0</td>\n",
       "      <td>Role-Playing</td>\n",
       "      <td>0.00</td>\n",
       "      <td>0.00</td>\n",
       "      <td>0.08</td>\n",
       "      <td>0.00</td>\n",
       "      <td>NaN</td>\n",
       "      <td>NaN</td>\n",
       "      <td>NaN</td>\n",
       "    </tr>\n",
       "  </tbody>\n",
       "</table>\n",
       "</div>"
      ],
      "text/plain": [
       "                                                    Name Platform  \\\n",
       "9548               Ty the Tasmanian Tiger 2: Bush Rescue      GBA   \n",
       "1248                                         NBA Live 98       PS   \n",
       "14230        Rakushou! Pachi-Slot Sengen 5: Rio Paradise      PS2   \n",
       "4572                                  Big Strike Bowling       PS   \n",
       "9734                     O.D.T.: Escape... Or Die Trying       PS   \n",
       "11371                                            NHL 2K7     X360   \n",
       "3149                                           Rayman 3D      3DS   \n",
       "15560               Sotsugyou II: Neo Generation Special      3DO   \n",
       "9163                                       Monster House       GC   \n",
       "11600  Dungeon Travelers 2: The Royal Library & The M...      PSP   \n",
       "\n",
       "       Year_of_Release         Genre  NA_sales  EU_sales  JP_sales  \\\n",
       "9548            2004.0      Platform      0.09      0.03      0.00   \n",
       "1248            1997.0        Sports      1.41      0.06      0.00   \n",
       "14230           2007.0          Misc      0.00      0.00      0.03   \n",
       "4572            2003.0        Sports      0.23      0.16      0.00   \n",
       "9734            1997.0     Adventure      0.07      0.05      0.00   \n",
       "11371           2006.0        Sports      0.07      0.00      0.00   \n",
       "3149            2011.0      Platform      0.23      0.35      0.00   \n",
       "15560           1995.0    Simulation      0.00      0.00      0.02   \n",
       "9163            2006.0     Adventure      0.11      0.03      0.00   \n",
       "11600           2013.0  Role-Playing      0.00      0.00      0.08   \n",
       "\n",
       "       Other_sales  Critic_Score User_Score Rating  \n",
       "9548          0.00          63.0        tbd      E  \n",
       "1248          0.04           NaN        NaN    NaN  \n",
       "14230         0.00           NaN        NaN    NaN  \n",
       "4572          0.03           NaN        NaN    NaN  \n",
       "9734          0.01           NaN        NaN    NaN  \n",
       "11371         0.01          78.0        7.9   E10+  \n",
       "3149          0.06          61.0        6.6      E  \n",
       "15560         0.00           NaN        NaN    NaN  \n",
       "9163          0.00          60.0        tbd   E10+  \n",
       "11600         0.00           NaN        NaN    NaN  "
      ]
     },
     "execution_count": 3,
     "metadata": {},
     "output_type": "execute_result"
    }
   ],
   "source": [
    "# Посмотрим случайные строки из таблицы\n",
    "df.sample(10)"
   ]
  },
  {
   "cell_type": "code",
   "execution_count": 4,
   "metadata": {},
   "outputs": [
    {
     "data": {
      "text/plain": [
       "PS2     2161\n",
       "DS      2151\n",
       "PS3     1331\n",
       "Wii     1320\n",
       "X360    1262\n",
       "PSP     1209\n",
       "PS      1197\n",
       "PC       974\n",
       "XB       824\n",
       "GBA      822\n",
       "GC       556\n",
       "3DS      520\n",
       "PSV      430\n",
       "PS4      392\n",
       "N64      319\n",
       "XOne     247\n",
       "SNES     239\n",
       "SAT      173\n",
       "WiiU     147\n",
       "2600     133\n",
       "NES       98\n",
       "GB        98\n",
       "DC        52\n",
       "GEN       29\n",
       "NG        12\n",
       "WS         6\n",
       "SCD        6\n",
       "3DO        3\n",
       "TG16       2\n",
       "PCFX       1\n",
       "GG         1\n",
       "Name: Platform, dtype: int64"
      ]
     },
     "execution_count": 4,
     "metadata": {},
     "output_type": "execute_result"
    }
   ],
   "source": [
    "#Посмотрим список платформ\n",
    "df['Platform'].value_counts()"
   ]
  },
  {
   "cell_type": "code",
   "execution_count": 5,
   "metadata": {},
   "outputs": [
    {
     "data": {
      "text/plain": [
       "Action          3369\n",
       "Sports          2348\n",
       "Misc            1750\n",
       "Role-Playing    1498\n",
       "Shooter         1323\n",
       "Adventure       1303\n",
       "Racing          1249\n",
       "Platform         888\n",
       "Simulation       873\n",
       "Fighting         849\n",
       "Strategy         683\n",
       "Puzzle           580\n",
       "Name: Genre, dtype: int64"
      ]
     },
     "execution_count": 5,
     "metadata": {},
     "output_type": "execute_result"
    }
   ],
   "source": [
    "#Посмотрим какие жанры игр у нас используются\n",
    "df['Genre'].value_counts()"
   ]
  },
  {
   "cell_type": "code",
   "execution_count": 6,
   "metadata": {},
   "outputs": [
    {
     "data": {
      "text/plain": [
       "E       3990\n",
       "T       2961\n",
       "M       1563\n",
       "E10+    1420\n",
       "EC         8\n",
       "K-A        3\n",
       "RP         3\n",
       "AO         1\n",
       "Name: Rating, dtype: int64"
      ]
     },
     "execution_count": 6,
     "metadata": {},
     "output_type": "execute_result"
    }
   ],
   "source": [
    "#Наконец, посмотрим, какие рейтинги ESRB у нас есть\n",
    "df['Rating'].value_counts()"
   ]
  },
  {
   "cell_type": "markdown",
   "metadata": {},
   "source": [
    "Согласно сайту https://www.esrb.org/ratings-guide/, можно найти следующую информацию:\n",
    " - Рейтинг E - 'everyone'\n",
    " - Рейтинг T - 'teens'\n",
    " - Рейтинг M - 'mature'\n",
    " - Рейтинг E10+ - 'everyone 10+'\n",
    " - Рейтинг EC - нет такого рейтинга\n",
    " - Рейтинг K-A - нет такого рейтинга\n",
    " - Рейтинг RP - 'not assigned final rating'\n",
    " - Рейтинг AO - нет такого рейтинга\n",
    "\n",
    "Обрабатывать будем в следующем шаге\n"
   ]
  },
  {
   "cell_type": "code",
   "execution_count": 7,
   "metadata": {},
   "outputs": [
    {
     "name": "stdout",
     "output_type": "stream",
     "text": [
      "<class 'pandas.core.frame.DataFrame'>\n",
      "RangeIndex: 16715 entries, 0 to 16714\n",
      "Data columns (total 11 columns):\n",
      " #   Column           Non-Null Count  Dtype  \n",
      "---  ------           --------------  -----  \n",
      " 0   Name             16713 non-null  object \n",
      " 1   Platform         16715 non-null  object \n",
      " 2   Year_of_Release  16446 non-null  float64\n",
      " 3   Genre            16713 non-null  object \n",
      " 4   NA_sales         16715 non-null  float64\n",
      " 5   EU_sales         16715 non-null  float64\n",
      " 6   JP_sales         16715 non-null  float64\n",
      " 7   Other_sales      16715 non-null  float64\n",
      " 8   Critic_Score     8137 non-null   float64\n",
      " 9   User_Score       10014 non-null  object \n",
      " 10  Rating           9949 non-null   object \n",
      "dtypes: float64(6), object(5)\n",
      "memory usage: 1.4+ MB\n"
     ]
    }
   ],
   "source": [
    "#посмотрим, типы столбцов \n",
    "df.info()"
   ]
  },
  {
   "cell_type": "code",
   "execution_count": 8,
   "metadata": {},
   "outputs": [
    {
     "data": {
      "text/plain": [
       "Name                  2\n",
       "Platform              0\n",
       "Year_of_Release     269\n",
       "Genre                 2\n",
       "NA_sales              0\n",
       "EU_sales              0\n",
       "JP_sales              0\n",
       "Other_sales           0\n",
       "Critic_Score       8578\n",
       "User_Score         6701\n",
       "Rating             6766\n",
       "dtype: int64"
      ]
     },
     "execution_count": 8,
     "metadata": {},
     "output_type": "execute_result"
    }
   ],
   "source": [
    "# Посмотрим сколько незаполненных значений\n",
    "df.isna().sum()"
   ]
  },
  {
   "cell_type": "code",
   "execution_count": 9,
   "metadata": {},
   "outputs": [
    {
     "name": "stdout",
     "output_type": "stream",
     "text": [
      "Количество нулей в оценке критиков 0\n",
      "Количество нулей в оценке пользователей 1\n"
     ]
    }
   ],
   "source": [
    "# посмотрим, сколько нулей в оценках критиков и пользователей\n",
    "print('Количество нулей в оценке критиков', len(df.query('Critic_Score == 0')))\n",
    "print('Количество нулей в оценке пользователей', len(df.query('User_Score == \"0\"')))"
   ]
  },
  {
   "cell_type": "code",
   "execution_count": 10,
   "metadata": {},
   "outputs": [
    {
     "data": {
      "text/plain": [
       "0"
      ]
     },
     "execution_count": 10,
     "metadata": {},
     "output_type": "execute_result"
    }
   ],
   "source": [
    "#Посмотрим количество дубликатов\n",
    "df.duplicated().sum()"
   ]
  },
  {
   "cell_type": "markdown",
   "metadata": {},
   "source": [
    "Выводы по разделу для дальнйшей обработки:\n",
    " - Дубликатов нет. Все данные - уникальные.\n",
    " - Незаполенные значения в названиях можно оставить, они ни на что не влияют (хоть их всего 2, но пусть останутся NAN)\n",
    " - Годы выпуска удалим. Во-первых, их немного, во-вторых, пропуски являются существенными, а в-третьих, непонятно, на что их заменить\n",
    " - NAN в жанрах тоже удалим. Их мало и что-то придумывать не имеет смысла, а они должны быть заполнены.\n",
    " - Оценки пользователей и оценки критиков будем заменять. На что и как - посмотрим ниже при более тщательном изучении\n",
    " - С рейтингами сложно. Несуществующие рейтинги и рейтинги NAN надо заменить. Как вариант, предлагается их заменить на рейтинг RP (рейтинг не присвоен). На сайте написано, что рейтинг RP относится к 'physical (e.g. boxed) video game'. Если мы смешаем \"physical \" и не \"physical\" игры (а непонятно, относится ли это понятие к другим играм), то мы немного запортим всего три строчки имеющегося рейтинга RP, зато не будем придумывать другие виды рейтингов\n",
    " - Необходимо изменить типы данных \"User_Score \" и \"Year_of_Release\", т.к. \"User_Score\" в этом формате нельзя считать, а  \"Year_of_Release\" нельзя использовать как дату\n",
    " "
   ]
  },
  {
   "cell_type": "markdown",
   "metadata": {},
   "source": [
    "<div class=\"alert alert-success\"; style=\"border-left: 7px solid green\">\n",
    "  Шаг_2 Подготовка данных\n",
    "</div>"
   ]
  },
  {
   "cell_type": "markdown",
   "metadata": {},
   "source": [
    "В этом шаге:\n",
    "\n",
    "- Заменим названия столбцов (приведем к нижнему регистру);\n",
    "- Преобразуем данные в нужные типы. Опишем, в каких столбцах заменили тип данных и почему;\n",
    "- Обработаем пропуски при необходимости:\n",
    "   - Объясним, почему заполнили пропуски определённым образом или почему не стали это делать;\n",
    "   - Опишем причины, которые могли привести к пропускам;\n",
    "   - Посмотрим на аббревиатуру 'tbd' в столбце с оценкой пользователей. Отдельно разберем это значение и опишите, как его обработать;\n",
    "- Посчитаем суммарные продажи во всех регионах и запишите их в отдельный столбец."
   ]
  },
  {
   "cell_type": "code",
   "execution_count": 11,
   "metadata": {},
   "outputs": [],
   "source": [
    "#переименование столбцов на нижний регистр\n",
    "col = dict(zip(df.columns.to_list(), [item.lower() for item in df.columns.to_list()]))\n",
    "df = df.rename(columns=col)"
   ]
  },
  {
   "cell_type": "code",
   "execution_count": 12,
   "metadata": {},
   "outputs": [],
   "source": [
    "#посмотрим, типы столбцов количество Nan\n",
    "#df.info()"
   ]
  },
  {
   "cell_type": "code",
   "execution_count": 13,
   "metadata": {},
   "outputs": [],
   "source": [
    "#Подсчитаем количество незаполненных значений\n",
    "#df.isna().sum()"
   ]
  },
  {
   "cell_type": "code",
   "execution_count": 14,
   "metadata": {},
   "outputs": [],
   "source": [
    "#Поменять имеет типы 2 столбцов - \"year_of_release\" и \"user_score\"\n",
    "#  - year_of_release надо поменять, т.к. не сравнить года будет в дальнейшем, т.к. он числовой\n",
    "#  - user_score надо поменять, т.к. он текстовый, и его тоже будет не обработать. \n",
    "\n",
    "#По столбцу \"year_of_release\" 269 нулевых значений. Это меньше 2%. Это немного. Предлагается удалить, потом заменить.\n",
    "#df = df[df['year_of_release'].notna()]\n",
    "#df[\"year_of_release\"] = pd.to_datetime(df[\"year_of_release\"].astype(int).astype(str) + \"-01-01\")\n"
   ]
  },
  {
   "cell_type": "code",
   "execution_count": 15,
   "metadata": {},
   "outputs": [],
   "source": [
    "#Удаление очевидных пропусков, в соответствии с выводами шага 1\n",
    "df.loc[df[\"rating\"].isin(['EC', 'K-A', 'AO']), \"rating\"] = 'RP'\n",
    "df['rating'] = df['rating'].fillna('no_ERSB')\n",
    "df = df[df['year_of_release'].notna()]\n",
    "df = df[df['genre'].notna()]"
   ]
  },
  {
   "cell_type": "code",
   "execution_count": 16,
   "metadata": {},
   "outputs": [],
   "source": [
    "# В оценках критиков нет нулей (проверили в шаге 1), поэтому можем смело заменить Nan на 0\n",
    "df['critic_score'] = df['critic_score'].fillna(0) "
   ]
  },
  {
   "cell_type": "code",
   "execution_count": 17,
   "metadata": {},
   "outputs": [
    {
     "name": "stdout",
     "output_type": "stream",
     "text": [
      "[2010. 2005. 2011. 2009. 2004. 1999. 2001. 2008. 2007. 2003. 2000. 2006.\n",
      " 2002. 2015. 2014. 2012. 2013. 2016. 1997.]\n",
      "[ 0. 61. 71. 55. 65. 63. 37. 64. 58. 76. 54. 59. 51. 80. 74. 66. 60. 44.\n",
      " 42. 73. 69. 68. 53. 75. 49. 70. 43. 46. 90. 67. 77. 78. 62. 89. 81. 47.\n",
      " 56. 52. 34. 45. 72. 86. 57. 82. 26. 50. 84. 48. 36. 41. 33. 39. 79. 85.\n",
      " 83. 87. 40. 38. 88. 35. 32. 28. 27. 31. 30. 23.]\n",
      "['E' 'E10+' 'T' 'no_ERSB' 'M' 'RP']\n"
     ]
    }
   ],
   "source": [
    "# В \"user_score\" есть значения 'tbd', nan, 0, надо подумать, что сделать с ними.\n",
    "# \"0\" всего 1 (один). Думаю, не будет большой проблемой заменить все nan на \"0\"\n",
    "# 'tbd' означает to be determined, to be done. Т.е рейтинг еще не определен, т.к. игру пока никто не видел. Здесь имеет смысл \n",
    "# проанализировать 'tbd' с точки зрения рейтинга, отзывов и годов выпуска игр.\n",
    "\n",
    "print(df.query('user_score==\"tbd\"')['year_of_release'].unique())\n",
    "print(df.query('user_score==\"tbd\"')['critic_score'].unique())\n",
    "print(df.query('user_score==\"tbd\"')['rating'].unique())\n",
    "\n",
    "\n",
    "#Никаких незаполненностей по другим рейтингам не обрнаружено. Вероятно, сразу не проставили рейтинг, а потом забыли.\n",
    "#На мой взгляд, что TBD, что  NAN означает, что рейтинга нет и в данном случае вполне возможно заполнение нулями.\n",
    "# Мы теряем только один проставленный изначально 0 в рейтинге."
   ]
  },
  {
   "cell_type": "code",
   "execution_count": 18,
   "metadata": {},
   "outputs": [],
   "source": [
    "# Заменим TBD\n",
    "df['user_score'] = df['user_score'].replace('tbd', np.nan, regex=True)"
   ]
  },
  {
   "cell_type": "code",
   "execution_count": 19,
   "metadata": {},
   "outputs": [],
   "source": [
    "df['user_score'] = df['user_score'].astype(float)"
   ]
  },
  {
   "cell_type": "code",
   "execution_count": 20,
   "metadata": {},
   "outputs": [
    {
     "data": {
      "text/html": [
       "<div>\n",
       "<style scoped>\n",
       "    .dataframe tbody tr th:only-of-type {\n",
       "        vertical-align: middle;\n",
       "    }\n",
       "\n",
       "    .dataframe tbody tr th {\n",
       "        vertical-align: top;\n",
       "    }\n",
       "\n",
       "    .dataframe thead th {\n",
       "        text-align: right;\n",
       "    }\n",
       "</style>\n",
       "<table border=\"1\" class=\"dataframe\">\n",
       "  <thead>\n",
       "    <tr style=\"text-align: right;\">\n",
       "      <th></th>\n",
       "      <th>name</th>\n",
       "      <th>platform</th>\n",
       "      <th>year_of_release</th>\n",
       "      <th>genre</th>\n",
       "      <th>na_sales</th>\n",
       "      <th>eu_sales</th>\n",
       "      <th>jp_sales</th>\n",
       "      <th>other_sales</th>\n",
       "      <th>critic_score</th>\n",
       "      <th>user_score</th>\n",
       "      <th>rating</th>\n",
       "    </tr>\n",
       "  </thead>\n",
       "  <tbody>\n",
       "    <tr>\n",
       "      <th>2835</th>\n",
       "      <td>My Little Pony: Pinkie Pie's Party</td>\n",
       "      <td>DS</td>\n",
       "      <td>2008.0</td>\n",
       "      <td>Adventure</td>\n",
       "      <td>0.66</td>\n",
       "      <td>0.0</td>\n",
       "      <td>0.0</td>\n",
       "      <td>0.06</td>\n",
       "      <td>0.0</td>\n",
       "      <td>0.0</td>\n",
       "      <td>E</td>\n",
       "    </tr>\n",
       "  </tbody>\n",
       "</table>\n",
       "</div>"
      ],
      "text/plain": [
       "                                    name platform  year_of_release      genre  \\\n",
       "2835  My Little Pony: Pinkie Pie's Party       DS           2008.0  Adventure   \n",
       "\n",
       "      na_sales  eu_sales  jp_sales  other_sales  critic_score  user_score  \\\n",
       "2835      0.66       0.0       0.0         0.06           0.0         0.0   \n",
       "\n",
       "     rating  \n",
       "2835      E  "
      ]
     },
     "execution_count": 20,
     "metadata": {},
     "output_type": "execute_result"
    }
   ],
   "source": [
    "#Еще раз проверим, что 0 только один\n",
    "df.query('user_score ==0')"
   ]
  },
  {
   "cell_type": "code",
   "execution_count": 21,
   "metadata": {},
   "outputs": [],
   "source": [
    "df['user_score'] = df['user_score'].fillna(0)"
   ]
  },
  {
   "cell_type": "code",
   "execution_count": 22,
   "metadata": {},
   "outputs": [],
   "source": [
    "temp = df.copy()\n",
    "\n",
    "#заменим тип \"year_of_release\"\n",
    "df[\"year_of_release\"] = pd.to_datetime(df[\"year_of_release\"].astype(int).astype(str) + \"-01-01\")"
   ]
  },
  {
   "cell_type": "code",
   "execution_count": 23,
   "metadata": {},
   "outputs": [
    {
     "name": "stdout",
     "output_type": "stream",
     "text": [
      "Мой способ 2001-01-01 00:00:00\n",
      "Способ без str 1970-01-01 00:00:00.000002001\n"
     ]
    }
   ],
   "source": [
    "temp[\"year_of_release\"] = pd.to_datetime(temp[\"year_of_release\"].astype(int))\n",
    "\n",
    "# При моем способе (может, не самый удачный, но по-другому не знаю как)\n",
    "print('Мой способ',df[\"year_of_release\"][500])\n",
    "print('Способ без str', temp[\"year_of_release\"][500])"
   ]
  },
  {
   "cell_type": "code",
   "execution_count": 24,
   "metadata": {},
   "outputs": [
    {
     "name": "stdout",
     "output_type": "stream",
     "text": [
      "А мой способ лучше: 2001\n"
     ]
    }
   ],
   "source": [
    "# Комментарий ревьюера 2\n",
    "df_temp = pd.read_csv('/datasets/games.csv', sep = ',')\n",
    "df_temp.columns = df_temp.columns.str.lower()\n",
    "df_temp = df_temp.dropna(subset = ['year_of_release'])\n",
    "df_temp['year_of_release'] = df_temp['year_of_release'].astype('int')\n",
    "print('А мой способ лучше:',df_temp[\"year_of_release\"][500])"
   ]
  },
  {
   "cell_type": "code",
   "execution_count": 25,
   "metadata": {},
   "outputs": [],
   "source": [
    "# Посчитаем суммарные продажи во всех регионах и запишите их в отдельный столбец\n",
    "df['sum_sales'] = df['na_sales'] + df['eu_sales'] + df['jp_sales'] + df['other_sales']"
   ]
  },
  {
   "cell_type": "code",
   "execution_count": 26,
   "metadata": {},
   "outputs": [
    {
     "name": "stdout",
     "output_type": "stream",
     "text": [
      "<class 'pandas.core.frame.DataFrame'>\n",
      "Int64Index: 16444 entries, 0 to 16714\n",
      "Data columns (total 12 columns):\n",
      " #   Column           Non-Null Count  Dtype         \n",
      "---  ------           --------------  -----         \n",
      " 0   name             16444 non-null  object        \n",
      " 1   platform         16444 non-null  object        \n",
      " 2   year_of_release  16444 non-null  datetime64[ns]\n",
      " 3   genre            16444 non-null  object        \n",
      " 4   na_sales         16444 non-null  float64       \n",
      " 5   eu_sales         16444 non-null  float64       \n",
      " 6   jp_sales         16444 non-null  float64       \n",
      " 7   other_sales      16444 non-null  float64       \n",
      " 8   critic_score     16444 non-null  float64       \n",
      " 9   user_score       16444 non-null  float64       \n",
      " 10  rating           16444 non-null  object        \n",
      " 11  sum_sales        16444 non-null  float64       \n",
      "dtypes: datetime64[ns](1), float64(7), object(4)\n",
      "memory usage: 2.1+ MB\n",
      "None\n",
      "-------------------------\n",
      "name [' Beyblade Burst' ' Fire Emblem Fates' \" Frozen: Olaf's Quest\" ...\n",
      " 'uDraw Studio' 'uDraw Studio: Instant Artist'\n",
      " '¡Shin Chan Flipa en colores!']\n",
      "name  : кол-во 0 0 , процент 0 0.0 %\n",
      "name : кол-во NaN 0 , процент NaN 0.0 %\n",
      "-------------------------\n",
      "platform ['2600' '3DO' '3DS' 'DC' 'DS' 'GB' 'GBA' 'GC' 'GEN' 'GG' 'N64' 'NES' 'NG'\n",
      " 'PC' 'PCFX' 'PS' 'PS2' 'PS3' 'PS4' 'PSP' 'PSV' 'SAT' 'SCD' 'SNES' 'TG16'\n",
      " 'WS' 'Wii' 'WiiU' 'X360' 'XB' 'XOne']\n",
      "platform  : кол-во 0 0 , процент 0 0.0 %\n",
      "platform : кол-во NaN 0 , процент NaN 0.0 %\n",
      "-------------------------\n",
      "year_of_release ['1980-01-01T00:00:00.000000000' '1981-01-01T00:00:00.000000000'\n",
      " '1982-01-01T00:00:00.000000000' '1983-01-01T00:00:00.000000000'\n",
      " '1984-01-01T00:00:00.000000000' '1985-01-01T00:00:00.000000000'\n",
      " '1986-01-01T00:00:00.000000000' '1987-01-01T00:00:00.000000000'\n",
      " '1988-01-01T00:00:00.000000000' '1989-01-01T00:00:00.000000000'\n",
      " '1990-01-01T00:00:00.000000000' '1991-01-01T00:00:00.000000000'\n",
      " '1992-01-01T00:00:00.000000000' '1993-01-01T00:00:00.000000000'\n",
      " '1994-01-01T00:00:00.000000000' '1995-01-01T00:00:00.000000000'\n",
      " '1996-01-01T00:00:00.000000000' '1997-01-01T00:00:00.000000000'\n",
      " '1998-01-01T00:00:00.000000000' '1999-01-01T00:00:00.000000000'\n",
      " '2000-01-01T00:00:00.000000000' '2001-01-01T00:00:00.000000000'\n",
      " '2002-01-01T00:00:00.000000000' '2003-01-01T00:00:00.000000000'\n",
      " '2004-01-01T00:00:00.000000000' '2005-01-01T00:00:00.000000000'\n",
      " '2006-01-01T00:00:00.000000000' '2007-01-01T00:00:00.000000000'\n",
      " '2008-01-01T00:00:00.000000000' '2009-01-01T00:00:00.000000000'\n",
      " '2010-01-01T00:00:00.000000000' '2011-01-01T00:00:00.000000000'\n",
      " '2012-01-01T00:00:00.000000000' '2013-01-01T00:00:00.000000000'\n",
      " '2014-01-01T00:00:00.000000000' '2015-01-01T00:00:00.000000000'\n",
      " '2016-01-01T00:00:00.000000000']\n",
      "year_of_release  : кол-во 0 0 , процент 0 0.0 %\n",
      "year_of_release : кол-во NaN 0 , процент NaN 0.0 %\n",
      "-------------------------\n",
      "genre ['Action' 'Adventure' 'Fighting' 'Misc' 'Platform' 'Puzzle' 'Racing'\n",
      " 'Role-Playing' 'Shooter' 'Simulation' 'Sports' 'Strategy']\n",
      "genre  : кол-во 0 0 , процент 0 0.0 %\n",
      "genre : кол-во NaN 0 , процент NaN 0.0 %\n",
      "-------------------------\n",
      "critic_score [ 0. 13. 17. 19. 20. 21. 23. 24. 25. 26. 27. 28. 29. 30. 31. 32. 33. 34.\n",
      " 35. 36. 37. 38. 39. 40. 41. 42. 43. 44. 45. 46. 47. 48. 49. 50. 51. 52.\n",
      " 53. 54. 55. 56. 57. 58. 59. 60. 61. 62. 63. 64. 65. 66. 67. 68. 69. 70.\n",
      " 71. 72. 73. 74. 75. 76. 77. 78. 79. 80. 81. 82. 83. 84. 85. 86. 87. 88.\n",
      " 89. 90. 91. 92. 93. 94. 95. 96. 97. 98.]\n",
      "critic_score  : кол-во 0 8461 , процент 0 51.45 %\n",
      "critic_score : кол-во NaN 0 , процент NaN 0.0 %\n",
      "-------------------------\n",
      "user_score [0.  0.2 0.3 0.5 0.6 0.7 0.9 1.  1.1 1.2 1.3 1.4 1.5 1.6 1.7 1.8 1.9 2.\n",
      " 2.1 2.2 2.3 2.4 2.5 2.6 2.7 2.8 2.9 3.  3.1 3.2 3.3 3.4 3.5 3.6 3.7 3.8\n",
      " 3.9 4.  4.1 4.2 4.3 4.4 4.5 4.6 4.7 4.8 4.9 5.  5.1 5.2 5.3 5.4 5.5 5.6\n",
      " 5.7 5.8 5.9 6.  6.1 6.2 6.3 6.4 6.5 6.6 6.7 6.8 6.9 7.  7.1 7.2 7.3 7.4\n",
      " 7.5 7.6 7.7 7.8 7.9 8.  8.1 8.2 8.3 8.4 8.5 8.6 8.7 8.8 8.9 9.  9.1 9.2\n",
      " 9.3 9.4 9.5 9.6 9.7]\n",
      "user_score  : кол-во 0 8982 , процент 0 54.62 %\n",
      "user_score : кол-во NaN 0 , процент NaN 0.0 %\n",
      "-------------------------\n",
      "rating ['E' 'E10+' 'M' 'RP' 'T' 'no_ERSB']\n",
      "rating  : кол-во 0 0 , процент 0 0.0 %\n",
      "rating : кол-во NaN 0 , процент NaN 0.0 %\n"
     ]
    }
   ],
   "source": [
    "# Комментарий ревьюера\n",
    "# Посмотрим, что у нас осталось\n",
    "temp = df.copy() \n",
    "list_c = ['name', 'platform', 'year_of_release', 'genre', 'critic_score', 'user_score', 'rating']\n",
    "print(temp.info())\n",
    "for col_l in list_c:\n",
    "  print('-'* 25)\n",
    "  print(col_l, temp[col_l].sort_values().unique())\n",
    "  print(col_l,' : кол-во 0', temp[temp[col_l] == 0][col_l].count(),\n",
    "        ', процент 0', round(temp[temp[col_l] == 0][col_l].count()/len(temp)*100, 2),'%')\n",
    "  print(col_l,': кол-во NaN',temp[col_l].isna().sum(),\n",
    "        ', процент NaN', round(temp[col_l].isna().sum()/len(temp)*100, 2),'%')"
   ]
  },
  {
   "cell_type": "markdown",
   "metadata": {},
   "source": [
    "<div class=\"alert alert-success\"; style=\"border-left: 7px solid green\">\n",
    "  Шаг_3 Исследовательский анализ данных\n",
    "</div>"
   ]
  },
  {
   "cell_type": "markdown",
   "metadata": {},
   "source": [
    "В этом шаге мы попытаемся сделать следующее:\n",
    "\n",
    "- Посмотрим, сколько игр выпускалось в разные годы. Определимся, важны ли данные за все периоды.\n",
    "- Посмотрим, как менялись продажи по платформам. Выберем платформы с наибольшими суммарными продажами и построем распределение по годам. Попробуем выяснить, за какой характерный срок появляются новые и исчезают старые платформы.\n",
    "- Возьмем данные за соответствующий актуальный период. Актуальный период попытаемся определить самостоятельно в результате исследования предыдущих вопросов. Основной фактор — эти данные помогут построить прогноз на 2017 год. Без учета в работе данные за предыдущие годы.\n",
    " - Определим, какие платформы лидируют по продажам, растут или падают. Выберем несколько потенциально прибыльных платформ.\n",
    " - Построим график «ящик с усами» по глобальным продажам игр в разбивке по платформам. Опишем результат.\n",
    " - Посмотрим, как влияют на продажи внутри одной популярной платформы отзывы пользователей и критиков. Построем диаграмму рассеяния и посчитайте корреляцию между отзывами и продажами. Сформулируем выводы.\n",
    " - Соотнесем выводы с продажами игр на других платформах.\n",
    " - Посмотрим на общее распределение игр по жанрам. Посмотрим, что можно сказать о самых прибыльных жанрах. Определим, выделяются ли жанры с высокими и низкими продажами."
   ]
  },
  {
   "cell_type": "code",
   "execution_count": 27,
   "metadata": {},
   "outputs": [],
   "source": [
    "def yy(t):\n",
    "    return pd.to_datetime(t).year"
   ]
  },
  {
   "cell_type": "code",
   "execution_count": 28,
   "metadata": {},
   "outputs": [
    {
     "data": {
      "text/plain": [
       "<AxesSubplot:title={'center':'Динамика разработки игр'}, xlabel='Годы выпуска'>"
      ]
     },
     "execution_count": 28,
     "metadata": {},
     "output_type": "execute_result"
    },
    {
     "data": {
      "image/png": "[encoded data removed]",
      "text/plain": [
       "<Figure size 1080x432 with 1 Axes>"
      ]
     },
     "metadata": {
      "needs_background": "light"
     },
     "output_type": "display_data"
    }
   ],
   "source": [
    "# Количество выпущенных игр за разные годы в числовом и стоимостном выражении\n",
    "df.pivot_table(index = df['year_of_release'].apply(yy), values = 'sum_sales',  aggfunc=['count', 'sum'] ).set_axis(['Количество', 'Сумма'], axis=1).plot(figsize=(15,6), title = 'Динамика разработки игр', xlabel = 'Годы выпуска')"
   ]
  },
  {
   "cell_type": "code",
   "execution_count": 29,
   "metadata": {},
   "outputs": [
    {
     "data": {
      "text/plain": [
       "<AxesSubplot:title={'center':'Средняя стоимость игр по годам'}, xlabel='Годы выпуска', ylabel='цена ед.'>"
      ]
     },
     "execution_count": 29,
     "metadata": {},
     "output_type": "execute_result"
    },
    {
     "data": {
      "image/png": "[encoded data removed]",
      "text/plain": [
       "<Figure size 1080x432 with 1 Axes>"
      ]
     },
     "metadata": {
      "needs_background": "light"
     },
     "output_type": "display_data"
    }
   ],
   "source": [
    "# Посмотрим среднюю стоимость компьютерной игры\n",
    "agg_table = df.pivot_table(index = df['year_of_release'].apply(yy), values = 'sum_sales',  aggfunc=['count', 'sum']).set_axis(['count', 'sum'], axis=1)\n",
    "agg_table['cost'] = agg_table['sum'] / agg_table['count']\n",
    "agg_table['cost'].plot(figsize=(15,6), title = 'Средняя стоимость игр по годам', xlabel = 'Годы выпуска', ylabel = 'цена ед.')"
   ]
  },
  {
   "cell_type": "code",
   "execution_count": 30,
   "metadata": {},
   "outputs": [
    {
     "data": {
      "text/plain": [
       "0.01854779858915106"
      ]
     },
     "execution_count": 30,
     "metadata": {},
     "output_type": "execute_result"
    }
   ],
   "source": [
    "# посмотрим процент игр до 1992 года\n",
    "(len(df[df['year_of_release'].apply(yy)<=1992])/len(df))"
   ]
  },
  {
   "cell_type": "markdown",
   "metadata": {},
   "source": [
    "Вывод: \n",
    " - На заре развития разработки компьютерных игр это был узкий сегмент рынка. Игр мало, денег мало. С ростом количества разработок выручка росла не такими темпами, хоть и повторяла кривую роста. Своего пика этот сегмент достиг в 2010-х годах, сейчас идет стремительное падение рынка, вернувшись к показателям 2000-х.\n",
    " - Средняя стоимость компьютерной игры с 1992 года находится вотносительном равновесии.\n",
    " - В дальнейшем нас могут не интересовать игры, разработанные до 1992 года, т.к. их мало (1,8% от всех игр) и средняя стоимость значительно выбивается из общей картины, однако для просмотра динамики развиятия рынка игр по годам данные могут быть существенными. Таким образом, избавляться от данных не будем, но для различных нужд можно будет использовать разные срезы "
   ]
  },
  {
   "cell_type": "code",
   "execution_count": 31,
   "metadata": {},
   "outputs": [
    {
     "data": {
      "text/plain": [
       "<AxesSubplot:xlabel='platform'>"
      ]
     },
     "execution_count": 31,
     "metadata": {},
     "output_type": "execute_result"
    },
    {
     "data": {
      "image/png": "[encoded data removed]",
      "text/plain": [
       "<Figure size 1080x432 with 1 Axes>"
      ]
     },
     "metadata": {
      "needs_background": "light"
     },
     "output_type": "display_data"
    }
   ],
   "source": [
    "# посмотрим количество продаж игр по платформам по количеству\n",
    "df.pivot_table(index = 'platform', values = 'sum_sales', aggfunc = ['count']).set_axis(['sum_sales'], axis=1).sort_values('sum_sales', ascending = False).plot(kind = 'bar', figsize = (15,6))"
   ]
  },
  {
   "cell_type": "code",
   "execution_count": 32,
   "metadata": {},
   "outputs": [
    {
     "data": {
      "text/plain": [
       "<AxesSubplot:xlabel='platform'>"
      ]
     },
     "execution_count": 32,
     "metadata": {},
     "output_type": "execute_result"
    },
    {
     "data": {
      "image/png": "[encoded data removed]",
      "text/plain": [
       "<Figure size 1080x432 with 1 Axes>"
      ]
     },
     "metadata": {
      "needs_background": "light"
     },
     "output_type": "display_data"
    }
   ],
   "source": [
    "# посмотрим количество продаж игр по платформам по суммам\n",
    "df.pivot_table(index = 'platform', values = 'sum_sales', aggfunc = ['sum']).set_axis(['sum_sales'], axis=1).sort_values('sum_sales', ascending = False).plot(kind = 'bar', figsize = (15,6))"
   ]
  },
  {
   "cell_type": "code",
   "execution_count": 33,
   "metadata": {},
   "outputs": [
    {
     "name": "stdout",
     "output_type": "stream",
     "text": [
      "Годы начала [2000, 2005, 2006, 2006, 1985, 1994]\n",
      "Процент выручки 0.6293904158777089\n"
     ]
    }
   ],
   "source": [
    "#Из графика видно, что первые 6 платформ лидируют. Сформируем 6 основных платформ по суммам\n",
    "six_first = df.pivot_table(index = 'platform', values = 'sum_sales', aggfunc = ['sum']).set_axis(['sum_sales'], axis=1).sort_values('sum_sales', ascending = False).reset_index().rename_axis(None, axis=1).head(6)['platform']\n",
    "\n",
    "#Посмотрим с какого года начиналась деятельность компаний\n",
    "print('Годы начала', list(map(lambda x: sorted(df[df['platform']==x]['year_of_release'].apply(yy).unique())[0], six_first)))\n",
    "\n",
    "#Посмотрим, сколько значений меньше 1995 года, и сильно ли они повлияют на результат. \n",
    "len(df.query('platform in @six_first & year_of_release<1995'))\n",
    "# Их 18. Уберем. Меньше 2000 года уже 917. Это много. Гранцу сделаем 1995 года \n",
    "\n",
    "#посмотрим процент выручки первых 6 компаний\n",
    "print('Процент выручки', df.query('platform in @six_first')['sum_sales'].sum()/df['sum_sales'].sum())\n",
    "\n",
    "#Исходя из того, что процент выручки первых 6 компаний превышает 60%, будем считать эти платформы типовыми.\n"
   ]
  },
  {
   "cell_type": "code",
   "execution_count": 34,
   "metadata": {},
   "outputs": [
    {
     "data": {
      "image/png": "[encoded data removed]",
      "text/plain": [
       "<Figure size 864x432 with 1 Axes>"
      ]
     },
     "metadata": {
      "needs_background": "light"
     },
     "output_type": "display_data"
    }
   ],
   "source": [
    "plt.figure(figsize=(12,6))\n",
    "plt.title('Количество продаж популярных игровых платформ')\n",
    "plt.xlabel('Годы игровых релизов')\n",
    "plt.ylabel('Продажи')\n",
    "\n",
    "for i in six_first:\n",
    "    total = df.query('platform ==@i & year_of_release>=1995').pivot_table(index='year_of_release', values='sum_sales', aggfunc='sum').sort_values('year_of_release', ascending=False)\n",
    "    sns.lineplot(data=total['sum_sales'], label=i)\n",
    "    plt.legend()"
   ]
  },
  {
   "cell_type": "markdown",
   "metadata": {},
   "source": [
    "Вывод:\n",
    "- Мы посмотрели 6 основных платформ за период с 1995 года. Из графика видно, что практически все платформы сущеcтвуют около 10 лет. Развитие платформ происходит одинаково вне зависимости от того, разрабатывалсь ли платформа до 2000 года или позже.\n",
    "- Больше всего продаж у PS2, PS3 и X360\n",
    "- Около 4 лет уходит у платформы, чтобы достичь пика\n",
    "- В качестве базы для прогноза 2017 года можно считать данные за 2013-2016 годы. Выбор объясняется следующим: полных три года и 2016 \"AsIs\""
   ]
  },
  {
   "cell_type": "code",
   "execution_count": 35,
   "metadata": {},
   "outputs": [],
   "source": [
    "#Выберем актуальный период для дальнейшего анализа\n",
    "df_actual = df.query('year_of_release>=2013')"
   ]
  },
  {
   "cell_type": "code",
   "execution_count": 36,
   "metadata": {},
   "outputs": [
    {
     "data": {
      "text/plain": [
       "<AxesSubplot:xlabel='platform'>"
      ]
     },
     "execution_count": 36,
     "metadata": {},
     "output_type": "execute_result"
    },
    {
     "data": {
      "image/png": "[encoded data removed]",
      "text/plain": [
       "<Figure size 1080x432 with 1 Axes>"
      ]
     },
     "metadata": {
      "needs_background": "light"
     },
     "output_type": "display_data"
    }
   ],
   "source": [
    "# Определим самые продаваемые платформы за период\n",
    "\n",
    "df_actual.pivot_table(index = 'platform', values = 'sum_sales', aggfunc = ['sum']).set_axis(['sum_sales'], axis=1).sort_values('sum_sales', ascending = False).plot(kind = 'bar', figsize = (15,6))"
   ]
  },
  {
   "cell_type": "code",
   "execution_count": 37,
   "metadata": {},
   "outputs": [
    {
     "name": "stdout",
     "output_type": "stream",
     "text": [
      "Процент выручки за 2015-2016гг 60.04 %, платформы - лидеры ['PS4', 'PS3', 'XOne']\n"
     ]
    }
   ],
   "source": [
    "#посмотрим ради интереса, сколько объема продаж занимают первые 3 места\n",
    "\n",
    "first = list(df_actual.pivot_table(index = 'platform', values = 'sum_sales', aggfunc = ['sum']).set_axis(['sum_sales'], axis=1).sort_values('sum_sales', ascending = False).reset_index().rename_axis(None, axis=1).head(3)['platform'])\n",
    "print('Процент выручки за 2015-2016гг', round(df_actual.query('platform in @first')['sum_sales'].sum()/df_actual['sum_sales'].sum()*100, 2), '%, платформы - лидеры', first)"
   ]
  },
  {
   "cell_type": "code",
   "execution_count": 38,
   "metadata": {},
   "outputs": [
    {
     "data": {
      "text/plain": [
       "(0.0, 1.5)"
      ]
     },
     "execution_count": 38,
     "metadata": {},
     "output_type": "execute_result"
    },
    {
     "data": {
      "image/png": "[encoded data removed]",
      "text/plain": [
       "<Figure size 864x432 with 1 Axes>"
      ]
     },
     "metadata": {
      "needs_background": "light"
     },
     "output_type": "display_data"
    }
   ],
   "source": [
    "#Построим ящик с усами\n",
    "plt.figure(figsize=(12,6))\n",
    "sns.boxplot(data=df_actual, x='platform', y='sum_sales')\n",
    "plt.title('Ящик с усами', fontsize=15)\n",
    "plt.xlabel('Платформа', fontsize=12)\n",
    "plt.ylabel('Глобальные продажи',fontsize=12)\n",
    "plt.ylim([-0,1.5])"
   ]
  },
  {
   "cell_type": "code",
   "execution_count": 39,
   "metadata": {},
   "outputs": [
    {
     "name": "stdout",
     "output_type": "stream",
     "text": [
      "Платформа PS3 кол-во игр 345\n",
      "Платформа X360 кол-во игр 186\n",
      "Платформа PS4 кол-во игр 392\n",
      "Платформа 3DS кол-во игр 303\n",
      "Платформа XOne кол-во игр 247\n",
      "Платформа WiiU кол-во игр 115\n",
      "Платформа Wii кол-во игр 23\n",
      "Платформа PC кол-во игр 189\n",
      "Платформа PSV кол-во игр 358\n",
      "Платформа DS кол-во игр 8\n",
      "Платформа PSP кол-во игр 67\n"
     ]
    }
   ],
   "source": [
    "#Попробуем разобраться, чем вызваны выбросы\n",
    "for i in list(df_actual['platform'].unique()): \n",
    "    print('Платформа', i, 'кол-во игр', df_actual.query('platform==@i')['name'].nunique())\n",
    "  "
   ]
  },
  {
   "cell_type": "markdown",
   "metadata": {},
   "source": [
    "Вывод:\n",
    " - Медианная продажа у нескольких платформ одинаковая.\n",
    " - Прослеживаются 2 стратегии платформа:\n",
    "   1. Выпускать много игр, где что-то \"выстреливает\", что-то нет. При правильном подходе общие продажи значительные. \n",
    "   2. Выпускать мало игр, где тщательно все продумыать, при этом подходе медианная стоимость велика, но общие продажи - малы."
   ]
  },
  {
   "cell_type": "code",
   "execution_count": 40,
   "metadata": {},
   "outputs": [
    {
     "data": {
      "text/plain": [
       "Timestamp('1980-01-01 00:00:00')"
      ]
     },
     "execution_count": 40,
     "metadata": {},
     "output_type": "execute_result"
    }
   ],
   "source": [
    "# Комментарий ревьюера\n",
    "'''🛠 Для анализа не выбран актуальный период.'''\n",
    "df.year_of_release.min()"
   ]
  },
  {
   "cell_type": "code",
   "execution_count": 41,
   "metadata": {},
   "outputs": [
    {
     "data": {
      "text/plain": [
       "-0.031957110204556376"
      ]
     },
     "execution_count": 41,
     "metadata": {},
     "output_type": "execute_result"
    }
   ],
   "source": [
    "#Посмотрим, как влияют на продажи внутри одной популярной платформы отзывы пользователей и критиков\n",
    "# Выберем PS4, как самую популярную платформу. \n",
    "#Нулевые рейтинги не будем рассматтривать, т.к. это заглушки.\n",
    "ps4 = list(first)[0]\n",
    "df_actual.query('platform==@ps4&user_score!=0')['sum_sales'].corr(df_actual.query('platform==@ps4&user_score!=0')['user_score'])"
   ]
  },
  {
   "cell_type": "code",
   "execution_count": 42,
   "metadata": {},
   "outputs": [
    {
     "data": {
      "text/plain": [
       "0.406567902061781"
      ]
     },
     "execution_count": 42,
     "metadata": {},
     "output_type": "execute_result"
    }
   ],
   "source": [
    "df_actual.query('platform==@ps4&critic_score!=0')['sum_sales'].corr(df_actual.query('platform==@ps4&critic_score!=0')['critic_score'])"
   ]
  },
  {
   "cell_type": "code",
   "execution_count": 43,
   "metadata": {},
   "outputs": [
    {
     "data": {
      "image/png": "[encoded data removed]",
      "text/plain": [
       "<Figure size 1440x360 with 2 Axes>"
      ]
     },
     "metadata": {
      "needs_background": "light"
     },
     "output_type": "display_data"
    }
   ],
   "source": [
    "fig, ax = plt.subplots(1,2,figsize=(20,5))\n",
    "\n",
    "ax[0].scatter(df_actual.query('platform==@ps4&user_score!=0')['user_score'], df_actual.query('platform==@ps4&user_score!=0')['sum_sales'])\n",
    "ax[1].scatter(df_actual.query('platform==@ps4&critic_score!=0')['critic_score'], df_actual.query('platform==@ps4&critic_score!=0')['sum_sales'])\n",
    "ax[0].set_xlabel(\"user_score\")\n",
    "ax[0].set_ylabel(\"продажи\")\n",
    "\n",
    "ax[0].set_title('Диаграмма рассеяния')\n",
    "ax[1].set_title('Диаграмма рассеяния')\n",
    "ax[1].set_xlabel(\"critic_score\")\n",
    "ax[1].set_ylabel(\"продажи\")\n",
    "\n",
    "                  \n",
    "plt.show()"
   ]
  },
  {
   "cell_type": "markdown",
   "metadata": {},
   "source": [
    "Вывод по платформе PS2:\n",
    "Корреляция - 0,059 и 0,43 - весьма незначительная. Оценки пльзователей вообще не влияют на проджажи, оценки экспертов умеренно влияют на продажи."
   ]
  },
  {
   "cell_type": "code",
   "execution_count": 44,
   "metadata": {},
   "outputs": [],
   "source": [
    "# Построим и оценим корреляцию по всем платформам\n",
    "# Применим шкалу Чеддока для оценки корреляции\n",
    "# 0,1-0,3 слабая; 0,3-0,5 умеренная; 0,5-0,7 заметная; 0,7-0,9 высокая; 0,9-0,99 весьма высокая\n",
    "\n",
    "def measure_corr(t):\n",
    "    if abs(t) ==0:\n",
    "        a = 'Корреляции нет'\n",
    "    elif abs(t)<0.1:\n",
    "        a = 'Корреляция очень слабая'\n",
    "    elif 0.1<=abs(t)<0.3:\n",
    "        a = 'Корреляция слабая'\n",
    "    elif 0.3<=abs(t)<0.5:    \n",
    "        a = 'Корреляция умеренная'\n",
    "    elif 0.5<=abs(t)<0.7:    \n",
    "        a = 'Корреляция заметная'\n",
    "    elif 0.7<=abs(t)<0.9:    \n",
    "        a = 'Корреляция высокая'\n",
    "    else:\n",
    "        a = 'Корреляция весьма высокая'\n",
    "    return a \n",
    "\n",
    "d_cor = pd.DataFrame()\n",
    "t = list(df_actual['platform'].unique())\n",
    "\n",
    "for i in t:\n",
    "    user_len = len(df_actual.query('platform==@i&user_score!=0'))\n",
    "    critic_len = len(df_actual.query('platform==@i&critic_score!=0'))\n",
    "    \n",
    "    if (user_len ==0) or (user_len ==1): \n",
    "        d_cor.loc[i,'user_score'] = 0\n",
    "        d_cor.loc[i,'Кол-во user_score'] = user_len\n",
    "    else:\n",
    "        d_cor.loc[i,'user_score'] = df_actual.query('platform==@i&user_score!=0')['sum_sales'].corr(df_actual.query('platform==@i&user_score!=0')['user_score'])    \n",
    "        d_cor.loc[i,'Кол-во user_score'] = user_len\n",
    "    if (critic_len ==0) or (critic_len ==1):\n",
    "        d_cor.loc[i,'critic_score'] = 0\n",
    "        d_cor.loc[i,'Кол-во critic_score'] = critic_len\n",
    "    else:    \n",
    "        d_cor.loc[i,'critic_score'] = df_actual.query('platform==@i&critic_score!=0')['sum_sales'].corr(df_actual.query('platform==@i&critic_score!=0')['critic_score'])    \n",
    "        d_cor.loc[i,'Кол-во critic_score'] = critic_len\n",
    "        \n",
    "d_cor['Оценка user_score'] = d_cor['user_score'].apply(measure_corr)\n",
    "d_cor['Оценка critic_score'] = d_cor['critic_score'].apply(measure_corr)"
   ]
  },
  {
   "cell_type": "code",
   "execution_count": 45,
   "metadata": {},
   "outputs": [
    {
     "data": {
      "text/html": [
       "<div>\n",
       "<style scoped>\n",
       "    .dataframe tbody tr th:only-of-type {\n",
       "        vertical-align: middle;\n",
       "    }\n",
       "\n",
       "    .dataframe tbody tr th {\n",
       "        vertical-align: top;\n",
       "    }\n",
       "\n",
       "    .dataframe thead th {\n",
       "        text-align: right;\n",
       "    }\n",
       "</style>\n",
       "<table border=\"1\" class=\"dataframe\">\n",
       "  <thead>\n",
       "    <tr style=\"text-align: right;\">\n",
       "      <th></th>\n",
       "      <th>user_score</th>\n",
       "      <th>Кол-во user_score</th>\n",
       "      <th>critic_score</th>\n",
       "      <th>Кол-во critic_score</th>\n",
       "      <th>Оценка user_score</th>\n",
       "      <th>Оценка critic_score</th>\n",
       "    </tr>\n",
       "  </thead>\n",
       "  <tbody>\n",
       "    <tr>\n",
       "      <th>PS3</th>\n",
       "      <td>0.002394</td>\n",
       "      <td>186.0</td>\n",
       "      <td>0.334285</td>\n",
       "      <td>121.0</td>\n",
       "      <td>Корреляция очень слабая</td>\n",
       "      <td>Корреляция умеренная</td>\n",
       "    </tr>\n",
       "    <tr>\n",
       "      <th>X360</th>\n",
       "      <td>-0.011742</td>\n",
       "      <td>143.0</td>\n",
       "      <td>0.350345</td>\n",
       "      <td>81.0</td>\n",
       "      <td>Корреляция очень слабая</td>\n",
       "      <td>Корреляция умеренная</td>\n",
       "    </tr>\n",
       "    <tr>\n",
       "      <th>PS4</th>\n",
       "      <td>-0.031957</td>\n",
       "      <td>257.0</td>\n",
       "      <td>0.406568</td>\n",
       "      <td>252.0</td>\n",
       "      <td>Корреляция очень слабая</td>\n",
       "      <td>Корреляция умеренная</td>\n",
       "    </tr>\n",
       "    <tr>\n",
       "      <th>3DS</th>\n",
       "      <td>0.241504</td>\n",
       "      <td>80.0</td>\n",
       "      <td>0.357057</td>\n",
       "      <td>71.0</td>\n",
       "      <td>Корреляция слабая</td>\n",
       "      <td>Корреляция умеренная</td>\n",
       "    </tr>\n",
       "    <tr>\n",
       "      <th>XOne</th>\n",
       "      <td>-0.068925</td>\n",
       "      <td>182.0</td>\n",
       "      <td>0.416998</td>\n",
       "      <td>169.0</td>\n",
       "      <td>Корреляция очень слабая</td>\n",
       "      <td>Корреляция умеренная</td>\n",
       "    </tr>\n",
       "    <tr>\n",
       "      <th>WiiU</th>\n",
       "      <td>0.419330</td>\n",
       "      <td>80.0</td>\n",
       "      <td>0.376415</td>\n",
       "      <td>70.0</td>\n",
       "      <td>Корреляция умеренная</td>\n",
       "      <td>Корреляция умеренная</td>\n",
       "    </tr>\n",
       "    <tr>\n",
       "      <th>Wii</th>\n",
       "      <td>0.682942</td>\n",
       "      <td>7.0</td>\n",
       "      <td>0.000000</td>\n",
       "      <td>0.0</td>\n",
       "      <td>Корреляция заметная</td>\n",
       "      <td>Корреляции нет</td>\n",
       "    </tr>\n",
       "    <tr>\n",
       "      <th>PC</th>\n",
       "      <td>-0.093842</td>\n",
       "      <td>155.0</td>\n",
       "      <td>0.196030</td>\n",
       "      <td>149.0</td>\n",
       "      <td>Корреляция очень слабая</td>\n",
       "      <td>Корреляция слабая</td>\n",
       "    </tr>\n",
       "    <tr>\n",
       "      <th>PSV</th>\n",
       "      <td>0.000942</td>\n",
       "      <td>99.0</td>\n",
       "      <td>0.254742</td>\n",
       "      <td>77.0</td>\n",
       "      <td>Корреляция очень слабая</td>\n",
       "      <td>Корреляция слабая</td>\n",
       "    </tr>\n",
       "    <tr>\n",
       "      <th>DS</th>\n",
       "      <td>0.000000</td>\n",
       "      <td>1.0</td>\n",
       "      <td>0.000000</td>\n",
       "      <td>0.0</td>\n",
       "      <td>Корреляции нет</td>\n",
       "      <td>Корреляции нет</td>\n",
       "    </tr>\n",
       "    <tr>\n",
       "      <th>PSP</th>\n",
       "      <td>-1.000000</td>\n",
       "      <td>2.0</td>\n",
       "      <td>0.000000</td>\n",
       "      <td>1.0</td>\n",
       "      <td>Корреляция весьма высокая</td>\n",
       "      <td>Корреляции нет</td>\n",
       "    </tr>\n",
       "  </tbody>\n",
       "</table>\n",
       "</div>"
      ],
      "text/plain": [
       "      user_score  Кол-во user_score  critic_score  Кол-во critic_score  \\\n",
       "PS3     0.002394              186.0      0.334285                121.0   \n",
       "X360   -0.011742              143.0      0.350345                 81.0   \n",
       "PS4    -0.031957              257.0      0.406568                252.0   \n",
       "3DS     0.241504               80.0      0.357057                 71.0   \n",
       "XOne   -0.068925              182.0      0.416998                169.0   \n",
       "WiiU    0.419330               80.0      0.376415                 70.0   \n",
       "Wii     0.682942                7.0      0.000000                  0.0   \n",
       "PC     -0.093842              155.0      0.196030                149.0   \n",
       "PSV     0.000942               99.0      0.254742                 77.0   \n",
       "DS      0.000000                1.0      0.000000                  0.0   \n",
       "PSP    -1.000000                2.0      0.000000                  1.0   \n",
       "\n",
       "              Оценка user_score   Оценка critic_score  \n",
       "PS3     Корреляция очень слабая  Корреляция умеренная  \n",
       "X360    Корреляция очень слабая  Корреляция умеренная  \n",
       "PS4     Корреляция очень слабая  Корреляция умеренная  \n",
       "3DS           Корреляция слабая  Корреляция умеренная  \n",
       "XOne    Корреляция очень слабая  Корреляция умеренная  \n",
       "WiiU       Корреляция умеренная  Корреляция умеренная  \n",
       "Wii         Корреляция заметная        Корреляции нет  \n",
       "PC      Корреляция очень слабая     Корреляция слабая  \n",
       "PSV     Корреляция очень слабая     Корреляция слабая  \n",
       "DS               Корреляции нет        Корреляции нет  \n",
       "PSP   Корреляция весьма высокая        Корреляции нет  "
      ]
     },
     "execution_count": 45,
     "metadata": {},
     "output_type": "execute_result"
    }
   ],
   "source": [
    "d_cor"
   ]
  },
  {
   "cell_type": "code",
   "execution_count": 46,
   "metadata": {},
   "outputs": [
    {
     "data": {
      "image/png": "[encoded data removed]",
      "text/plain": [
       "<Figure size 1440x360 with 2 Axes>"
      ]
     },
     "metadata": {
      "needs_background": "light"
     },
     "output_type": "display_data"
    },
    {
     "data": {
      "image/png": "[encoded data removed]",
      "text/plain": [
       "<Figure size 1440x360 with 2 Axes>"
      ]
     },
     "metadata": {
      "needs_background": "light"
     },
     "output_type": "display_data"
    },
    {
     "data": {
      "image/png": "[encoded data removed]",
      "text/plain": [
       "<Figure size 1440x360 with 2 Axes>"
      ]
     },
     "metadata": {
      "needs_background": "light"
     },
     "output_type": "display_data"
    },
    {
     "data": {
      "image/png": "[encoded data removed]",
      "text/plain": [
       "<Figure size 1440x360 with 2 Axes>"
      ]
     },
     "metadata": {
      "needs_background": "light"
     },
     "output_type": "display_data"
    },
    {
     "data": {
      "image/png": "[encoded data removed]",
      "text/plain": [
       "<Figure size 1440x360 with 2 Axes>"
      ]
     },
     "metadata": {
      "needs_background": "light"
     },
     "output_type": "display_data"
    },
    {
     "data": {
      "image/png": "[encoded data removed]",
      "text/plain": [
       "<Figure size 1440x360 with 2 Axes>"
      ]
     },
     "metadata": {
      "needs_background": "light"
     },
     "output_type": "display_data"
    },
    {
     "data": {
      "image/png": "[encoded data removed]",
      "text/plain": [
       "<Figure size 1440x360 with 2 Axes>"
      ]
     },
     "metadata": {
      "needs_background": "light"
     },
     "output_type": "display_data"
    },
    {
     "data": {
      "image/png": "[encoded data removed]",
      "text/plain": [
       "<Figure size 1440x360 with 2 Axes>"
      ]
     },
     "metadata": {
      "needs_background": "light"
     },
     "output_type": "display_data"
    },
    {
     "data": {
      "image/png": "[encoded data removed]",
      "text/plain": [
       "<Figure size 1440x360 with 2 Axes>"
      ]
     },
     "metadata": {
      "needs_background": "light"
     },
     "output_type": "display_data"
    },
    {
     "data": {
      "image/png": "[encoded data removed]",
      "text/plain": [
       "<Figure size 1440x360 with 2 Axes>"
      ]
     },
     "metadata": {
      "needs_background": "light"
     },
     "output_type": "display_data"
    },
    {
     "data": {
      "image/png": "[encoded data removed]",
      "text/plain": [
       "<Figure size 1440x360 with 2 Axes>"
      ]
     },
     "metadata": {
      "needs_background": "light"
     },
     "output_type": "display_data"
    }
   ],
   "source": [
    "# Сфомируем графики рассеяния\n",
    "for i in list(df_actual['platform'].unique()):\n",
    "    fig, ax = plt.subplots(1,2,figsize=(20,5))\n",
    "    ax[0].scatter(df_actual.query('platform==@i&user_score!=0')['user_score'], df_actual.query('platform==@i&user_score!=0')['sum_sales'])\n",
    "    ax[1].scatter(df_actual.query('platform==@i&critic_score!=0')['critic_score'], df_actual.query('platform==@i&critic_score!=0')['sum_sales'])\n",
    "    ax[0].set_xlabel(\"user_score\")\n",
    "    ax[0].set_ylabel(\"продажи\")\n",
    " \n",
    "    \n",
    "    ax[0].set_title('Диаграмма рассеяния '+i)\n",
    "    ax[1].set_title('Диаграмма рассеяния '+i)\n",
    "    ax[1].set_xlabel(\"critic_score\")\n",
    "    ax[1].set_ylabel(\"продажи\")\n",
    "\n",
    "                  \n",
    "plt.show()"
   ]
  },
  {
   "cell_type": "markdown",
   "metadata": {},
   "source": [
    "Выводы:\n",
    "- Однозначно определить влияние на все платформ за 2013-2016 гг оценок критиков и пользователей не получилось, т.к. не по всем платформам присутствуют оценки. Однако, там, где они проставлены, влияние критиков умеренное, а пользовательские оценки не влияют на продажи.\n",
    "- По платформам, формирующим 85% продаж - 'PS4', 'PS3', 'XOne', '3DS', 'X360', оценки критиков умеренно влияли на продажи.\n"
   ]
  },
  {
   "cell_type": "code",
   "execution_count": 47,
   "metadata": {},
   "outputs": [
    {
     "name": "stdout",
     "output_type": "stream",
     "text": [
      "Процент выручки за 2013-2016гг 85.72 %, платформы - лидеры ['PS4', 'PS3', 'XOne', '3DS', 'X360']\n"
     ]
    },
    {
     "data": {
      "text/html": [
       "<div>\n",
       "<style scoped>\n",
       "    .dataframe tbody tr th:only-of-type {\n",
       "        vertical-align: middle;\n",
       "    }\n",
       "\n",
       "    .dataframe tbody tr th {\n",
       "        vertical-align: top;\n",
       "    }\n",
       "\n",
       "    .dataframe thead th {\n",
       "        text-align: right;\n",
       "    }\n",
       "</style>\n",
       "<table border=\"1\" class=\"dataframe\">\n",
       "  <thead>\n",
       "    <tr style=\"text-align: right;\">\n",
       "      <th></th>\n",
       "      <th>Платформа</th>\n",
       "      <th>Вид оценки</th>\n",
       "      <th>Дисперсия</th>\n",
       "      <th>Стд откл</th>\n",
       "      <th>Среднее</th>\n",
       "      <th>Медиана</th>\n",
       "    </tr>\n",
       "  </thead>\n",
       "  <tbody>\n",
       "    <tr>\n",
       "      <th>0</th>\n",
       "      <td>PS4</td>\n",
       "      <td>user_score</td>\n",
       "      <td>2.121797</td>\n",
       "      <td>1.456639</td>\n",
       "      <td>6.748249</td>\n",
       "      <td>7.0</td>\n",
       "    </tr>\n",
       "    <tr>\n",
       "      <th>1</th>\n",
       "      <td>PS3</td>\n",
       "      <td>user_score</td>\n",
       "      <td>3.212067</td>\n",
       "      <td>1.792224</td>\n",
       "      <td>6.348387</td>\n",
       "      <td>6.9</td>\n",
       "    </tr>\n",
       "    <tr>\n",
       "      <th>2</th>\n",
       "      <td>XOne</td>\n",
       "      <td>user_score</td>\n",
       "      <td>1.896519</td>\n",
       "      <td>1.377142</td>\n",
       "      <td>6.521429</td>\n",
       "      <td>6.8</td>\n",
       "    </tr>\n",
       "    <tr>\n",
       "      <th>3</th>\n",
       "      <td>3DS</td>\n",
       "      <td>user_score</td>\n",
       "      <td>2.338561</td>\n",
       "      <td>1.529235</td>\n",
       "      <td>6.976250</td>\n",
       "      <td>7.3</td>\n",
       "    </tr>\n",
       "    <tr>\n",
       "      <th>4</th>\n",
       "      <td>X360</td>\n",
       "      <td>user_score</td>\n",
       "      <td>2.586385</td>\n",
       "      <td>1.608224</td>\n",
       "      <td>5.993007</td>\n",
       "      <td>6.2</td>\n",
       "    </tr>\n",
       "    <tr>\n",
       "      <th>5</th>\n",
       "      <td>PS4</td>\n",
       "      <td>critic_score</td>\n",
       "      <td>155.281352</td>\n",
       "      <td>12.461194</td>\n",
       "      <td>72.091270</td>\n",
       "      <td>73.0</td>\n",
       "    </tr>\n",
       "    <tr>\n",
       "      <th>6</th>\n",
       "      <td>PS3</td>\n",
       "      <td>critic_score</td>\n",
       "      <td>203.630080</td>\n",
       "      <td>14.269901</td>\n",
       "      <td>70.198347</td>\n",
       "      <td>73.0</td>\n",
       "    </tr>\n",
       "    <tr>\n",
       "      <th>7</th>\n",
       "      <td>XOne</td>\n",
       "      <td>critic_score</td>\n",
       "      <td>166.799412</td>\n",
       "      <td>12.915085</td>\n",
       "      <td>73.325444</td>\n",
       "      <td>76.0</td>\n",
       "    </tr>\n",
       "    <tr>\n",
       "      <th>8</th>\n",
       "      <td>3DS</td>\n",
       "      <td>critic_score</td>\n",
       "      <td>169.012498</td>\n",
       "      <td>13.000481</td>\n",
       "      <td>68.338028</td>\n",
       "      <td>69.0</td>\n",
       "    </tr>\n",
       "    <tr>\n",
       "      <th>9</th>\n",
       "      <td>X360</td>\n",
       "      <td>critic_score</td>\n",
       "      <td>237.710410</td>\n",
       "      <td>15.417860</td>\n",
       "      <td>69.234568</td>\n",
       "      <td>74.0</td>\n",
       "    </tr>\n",
       "  </tbody>\n",
       "</table>\n",
       "</div>"
      ],
      "text/plain": [
       "  Платформа    Вид оценки   Дисперсия   Стд откл    Среднее  Медиана\n",
       "0       PS4    user_score    2.121797   1.456639   6.748249      7.0\n",
       "1       PS3    user_score    3.212067   1.792224   6.348387      6.9\n",
       "2      XOne    user_score    1.896519   1.377142   6.521429      6.8\n",
       "3       3DS    user_score    2.338561   1.529235   6.976250      7.3\n",
       "4      X360    user_score    2.586385   1.608224   5.993007      6.2\n",
       "5       PS4  critic_score  155.281352  12.461194  72.091270     73.0\n",
       "6       PS3  critic_score  203.630080  14.269901  70.198347     73.0\n",
       "7      XOne  critic_score  166.799412  12.915085  73.325444     76.0\n",
       "8       3DS  critic_score  169.012498  13.000481  68.338028     69.0\n",
       "9      X360  critic_score  237.710410  15.417860  69.234568     74.0"
      ]
     },
     "execution_count": 47,
     "metadata": {},
     "output_type": "execute_result"
    }
   ],
   "source": [
    "#Посчитаем дисперсию и стандартное отлонение по оценкам пользователей и критиков\n",
    "#Предполагаем, что если оценка 0 (замененное nan), то это означает, что оценки не было. Поэтому такие данные будут только \n",
    "#искажать картину. Оценки будем смотреть без учета нулевых значений/\n",
    "\n",
    "#Картину сформируем по первым 5 лидерам рынка (около 90% за 2013-2016гг). По остальным в той или иной степени отсутствуюит оценки\n",
    "first = list(df_actual.pivot_table(index = 'platform', values = 'sum_sales', aggfunc = ['sum']).set_axis(['sum_sales'], axis=1).sort_values('sum_sales', ascending = False).reset_index().rename_axis(None, axis=1).head(5)['platform'])\n",
    "print('Процент выручки за 2013-2016гг', round(df_actual.query('platform in @first')['sum_sales'].sum()/df_actual['sum_sales'].sum()*100, 2), '%, платформы - лидеры', first)\n",
    "\n",
    "\n",
    "stat_table = pd.DataFrame()\n",
    "n = 0\n",
    "\n",
    "for elem in ['user_score', 'critic_score']:\n",
    "    for i in first:    \n",
    "        rr = str('platform==@i&' + elem + '!=0')\n",
    "        \n",
    "        stat_table.loc[n, 'Платформа'] = i\n",
    "        stat_table.loc[n, 'Вид оценки'] = elem\n",
    "        stat_table.loc[n, 'Дисперсия'] = np.var(df_actual.query(rr)[elem])\n",
    "        stat_table.loc[n, 'Стд откл'] = np.std(df_actual.query(rr)[elem])\n",
    "        stat_table.loc[n, 'Среднее'] = np.mean(df_actual.query(rr)[elem])\n",
    "        stat_table.loc[n, 'Медиана'] = np.median(df_actual.query(rr)[elem])\n",
    "        n+=1\n",
    "stat_table"
   ]
  },
  {
   "cell_type": "markdown",
   "metadata": {},
   "source": [
    "Выводы из статистического анализа:\n",
    " - Видно, что пользователями и критиками применялась разная шкала оценки (подозреваю, что 10-балльная и 100-балльная)\n",
    " - Наблюдается большой разброс оценок и критиков, и пользователей по платформам PS4 и XOne, что, очевидно, объяснятеся количеством выпускаемых игр. "
   ]
  },
  {
   "cell_type": "code",
   "execution_count": 48,
   "metadata": {},
   "outputs": [
    {
     "data": {
      "text/plain": [
       "Timestamp('1980-01-01 00:00:00')"
      ]
     },
     "execution_count": 48,
     "metadata": {},
     "output_type": "execute_result"
    }
   ],
   "source": [
    "# Комментарий ревьюера\n",
    "'''🛠 Для анализа не выбран актуальный период.'''\n",
    "df.year_of_release.min()"
   ]
  },
  {
   "cell_type": "code",
   "execution_count": 49,
   "metadata": {},
   "outputs": [
    {
     "data": {
      "text/html": [
       "<div>\n",
       "<style scoped>\n",
       "    .dataframe tbody tr th:only-of-type {\n",
       "        vertical-align: middle;\n",
       "    }\n",
       "\n",
       "    .dataframe tbody tr th {\n",
       "        vertical-align: top;\n",
       "    }\n",
       "\n",
       "    .dataframe thead th {\n",
       "        text-align: right;\n",
       "    }\n",
       "</style>\n",
       "<table border=\"1\" class=\"dataframe\">\n",
       "  <thead>\n",
       "    <tr style=\"text-align: right;\">\n",
       "      <th></th>\n",
       "      <th>genre</th>\n",
       "      <th>sum_sales</th>\n",
       "    </tr>\n",
       "  </thead>\n",
       "  <tbody>\n",
       "    <tr>\n",
       "      <th>0</th>\n",
       "      <td>Action</td>\n",
       "      <td>321.87</td>\n",
       "    </tr>\n",
       "    <tr>\n",
       "      <th>1</th>\n",
       "      <td>Shooter</td>\n",
       "      <td>232.98</td>\n",
       "    </tr>\n",
       "    <tr>\n",
       "      <th>2</th>\n",
       "      <td>Sports</td>\n",
       "      <td>150.65</td>\n",
       "    </tr>\n",
       "    <tr>\n",
       "      <th>3</th>\n",
       "      <td>Role-Playing</td>\n",
       "      <td>145.89</td>\n",
       "    </tr>\n",
       "    <tr>\n",
       "      <th>4</th>\n",
       "      <td>Misc</td>\n",
       "      <td>62.82</td>\n",
       "    </tr>\n",
       "    <tr>\n",
       "      <th>5</th>\n",
       "      <td>Platform</td>\n",
       "      <td>42.63</td>\n",
       "    </tr>\n",
       "    <tr>\n",
       "      <th>6</th>\n",
       "      <td>Racing</td>\n",
       "      <td>39.89</td>\n",
       "    </tr>\n",
       "    <tr>\n",
       "      <th>7</th>\n",
       "      <td>Fighting</td>\n",
       "      <td>35.31</td>\n",
       "    </tr>\n",
       "    <tr>\n",
       "      <th>8</th>\n",
       "      <td>Adventure</td>\n",
       "      <td>23.64</td>\n",
       "    </tr>\n",
       "    <tr>\n",
       "      <th>9</th>\n",
       "      <td>Simulation</td>\n",
       "      <td>21.76</td>\n",
       "    </tr>\n",
       "    <tr>\n",
       "      <th>10</th>\n",
       "      <td>Strategy</td>\n",
       "      <td>10.08</td>\n",
       "    </tr>\n",
       "    <tr>\n",
       "      <th>11</th>\n",
       "      <td>Puzzle</td>\n",
       "      <td>3.17</td>\n",
       "    </tr>\n",
       "  </tbody>\n",
       "</table>\n",
       "</div>"
      ],
      "text/plain": [
       "           genre  sum_sales\n",
       "0         Action     321.87\n",
       "1        Shooter     232.98\n",
       "2         Sports     150.65\n",
       "3   Role-Playing     145.89\n",
       "4           Misc      62.82\n",
       "5       Platform      42.63\n",
       "6         Racing      39.89\n",
       "7       Fighting      35.31\n",
       "8      Adventure      23.64\n",
       "9     Simulation      21.76\n",
       "10      Strategy      10.08\n",
       "11        Puzzle       3.17"
      ]
     },
     "execution_count": 49,
     "metadata": {},
     "output_type": "execute_result"
    }
   ],
   "source": [
    "#Распределение игр по жанрам\n",
    "genres = df_actual.pivot_table(index='genre', values='sum_sales', aggfunc='sum').sort_values(by='sum_sales', ascending=False)\n",
    "genres= genres.reset_index().rename_axis(None, axis=1)\n",
    "genres"
   ]
  },
  {
   "cell_type": "code",
   "execution_count": 50,
   "metadata": {},
   "outputs": [
    {
     "data": {
      "text/plain": [
       "Text(0, 0.5, 'Продажи')"
      ]
     },
     "execution_count": 50,
     "metadata": {},
     "output_type": "execute_result"
    },
    {
     "data": {
      "image/png": "[encoded data removed]",
      "text/plain": [
       "<Figure size 1080x432 with 1 Axes>"
      ]
     },
     "metadata": {
      "needs_background": "light"
     },
     "output_type": "display_data"
    }
   ],
   "source": [
    "plt.figure(figsize=(15,6))\n",
    "plt.title('Распределение игр по жанрам ',fontsize=15)\n",
    "sns.barplot(data=genres, x='genre', y='sum_sales')\n",
    "plt.xlabel('Жанры игр',fontsize=12)\n",
    "plt.ylabel('Продажи',fontsize=12)"
   ]
  },
  {
   "cell_type": "code",
   "execution_count": 51,
   "metadata": {},
   "outputs": [],
   "source": [
    "def group_ind(data, spis):\n",
    "    if data in spis:\n",
    "        t = data\n",
    "    else:\n",
    "        t = 'others'  \n",
    "    return t"
   ]
  },
  {
   "cell_type": "code",
   "execution_count": 52,
   "metadata": {},
   "outputs": [
    {
     "data": {
      "image/png": "[encoded data removed]",
      "text/plain": [
       "<Figure size 1440x360 with 5 Axes>"
      ]
     },
     "metadata": {},
     "output_type": "display_data"
    }
   ],
   "source": [
    "# Посмотрим процент продаж по платформам в первых четырех жанрах по популярным 5 платформам (90% процентов рынка)\n",
    "fig, ax = plt.subplots(1,5,figsize=(20,5))\n",
    "\n",
    "for i in range(len(first)):   \n",
    "    n = first[i]\n",
    "    tab = df_actual.query('platform==@n').copy()\n",
    "    tab['genre1'] = tab['genre'].apply(group_ind, args=(['Action', 'Shooter', 'Sports', 'Role-Playing'],)) \n",
    "    y = tab.pivot_table(index = 'genre1', values = 'sum_sales')\n",
    "    y.plot(ax=ax[i], y = 'sum_sales', kind = 'pie', autopct='%1.0f%%', labeldistance=1.1)\n",
    "    #y.columns=['1']\n",
    "    ax[i].legend().remove()\n",
    "    ax[i].set_ylabel(None)\n",
    "    ax[i].set_title(n)\n"
   ]
  },
  {
   "cell_type": "code",
   "execution_count": 53,
   "metadata": {},
   "outputs": [
    {
     "data": {
      "text/html": [
       "<div>\n",
       "<style scoped>\n",
       "    .dataframe tbody tr th:only-of-type {\n",
       "        vertical-align: middle;\n",
       "    }\n",
       "\n",
       "    .dataframe tbody tr th {\n",
       "        vertical-align: top;\n",
       "    }\n",
       "\n",
       "    .dataframe thead th {\n",
       "        text-align: right;\n",
       "    }\n",
       "</style>\n",
       "<table border=\"1\" class=\"dataframe\">\n",
       "  <thead>\n",
       "    <tr style=\"text-align: right;\">\n",
       "      <th></th>\n",
       "      <th>sum_sales</th>\n",
       "    </tr>\n",
       "    <tr>\n",
       "      <th>genre</th>\n",
       "      <th></th>\n",
       "    </tr>\n",
       "  </thead>\n",
       "  <tbody>\n",
       "    <tr>\n",
       "      <th>Shooter</th>\n",
       "      <td>0.450</td>\n",
       "    </tr>\n",
       "    <tr>\n",
       "      <th>Sports</th>\n",
       "      <td>0.240</td>\n",
       "    </tr>\n",
       "    <tr>\n",
       "      <th>Platform</th>\n",
       "      <td>0.225</td>\n",
       "    </tr>\n",
       "    <tr>\n",
       "      <th>Role-Playing</th>\n",
       "      <td>0.125</td>\n",
       "    </tr>\n",
       "    <tr>\n",
       "      <th>Fighting</th>\n",
       "      <td>0.125</td>\n",
       "    </tr>\n",
       "    <tr>\n",
       "      <th>Racing</th>\n",
       "      <td>0.120</td>\n",
       "    </tr>\n",
       "    <tr>\n",
       "      <th>Action</th>\n",
       "      <td>0.110</td>\n",
       "    </tr>\n",
       "    <tr>\n",
       "      <th>Simulation</th>\n",
       "      <td>0.100</td>\n",
       "    </tr>\n",
       "    <tr>\n",
       "      <th>Misc</th>\n",
       "      <td>0.100</td>\n",
       "    </tr>\n",
       "    <tr>\n",
       "      <th>Strategy</th>\n",
       "      <td>0.080</td>\n",
       "    </tr>\n",
       "    <tr>\n",
       "      <th>Puzzle</th>\n",
       "      <td>0.060</td>\n",
       "    </tr>\n",
       "    <tr>\n",
       "      <th>Adventure</th>\n",
       "      <td>0.030</td>\n",
       "    </tr>\n",
       "  </tbody>\n",
       "</table>\n",
       "</div>"
      ],
      "text/plain": [
       "              sum_sales\n",
       "genre                  \n",
       "Shooter           0.450\n",
       "Sports            0.240\n",
       "Platform          0.225\n",
       "Role-Playing      0.125\n",
       "Fighting          0.125\n",
       "Racing            0.120\n",
       "Action            0.110\n",
       "Simulation        0.100\n",
       "Misc              0.100\n",
       "Strategy          0.080\n",
       "Puzzle            0.060\n",
       "Adventure         0.030"
      ]
     },
     "execution_count": 53,
     "metadata": {},
     "output_type": "execute_result"
    }
   ],
   "source": [
    "#Построим медианные значения\n",
    "df_actual.pivot_table(index='genre', values='sum_sales', aggfunc='median').sort_values(by='sum_sales', ascending = False)"
   ]
  },
  {
   "cell_type": "code",
   "execution_count": 54,
   "metadata": {},
   "outputs": [
    {
     "data": {
      "text/plain": [
       "(0.0, 1.5)"
      ]
     },
     "execution_count": 54,
     "metadata": {},
     "output_type": "execute_result"
    },
    {
     "data": {
      "image/png": "[encoded data removed]",
      "text/plain": [
       "<Figure size 864x432 with 1 Axes>"
      ]
     },
     "metadata": {
      "needs_background": "light"
     },
     "output_type": "display_data"
    }
   ],
   "source": [
    "#Построим ящик с усами по продажам по жанрам\n",
    "plt.figure(figsize=(12,6))\n",
    "sns.boxplot(data=df_actual, x='genre', y='sum_sales')\n",
    "plt.title('Диаграммы размаха', fontsize=15)\n",
    "plt.xlabel('Жанры игр', fontsize=12)\n",
    "plt.ylabel('Глобальные продажи',fontsize=12)\n",
    "plt.ylim([-0,1.5])"
   ]
  },
  {
   "cell_type": "markdown",
   "metadata": {},
   "source": [
    "Выводы по Шагу 3\n",
    " 1. Платформы 'PS4', 'XOne', '3DS', 'X360', 'PS3' занимают больше 85 процентов рынка за период. \n",
    " 2. По лидерам продаж оценки критиков умеренно влияют на продажи. К ним можно прислушиваться. Влияния оценок пользователей не прослеживается.\n",
    " 3. Самое больое медианное значение продаж по жанру игр \"shooter\". \"Sports\" на втором месте вместе с \"Platform\". Выигрывают платформы, которые выпускают большое количество игр в жанре \"shooter\" и \"sports\".\n",
    " 4. Средний срок существования игровой платформы - окло 10 лет. Причем, в первые 4 -5 лет происходит взрывной рост, а потом такое же падение продаж\n",
    "\n"
   ]
  },
  {
   "cell_type": "markdown",
   "metadata": {},
   "source": [
    "<div class=\"alert alert-success\"; style=\"border-left: 7px solid green\">\n",
    "  Шаг_4 Портрет пользователя каждого региона\n",
    "</div>"
   ]
  },
  {
   "cell_type": "markdown",
   "metadata": {},
   "source": [
    "В этом шаге определим для пользователя каждого региона (NA, EU, JP):\n",
    " - Самые популярные платформы (топ-5). \n",
    " - Опишем различия в долях продаж.\n",
    " - Самые популярные жанры (топ-5). Поясним разницу.\n",
    " - Выясним, влияет ли рейтинг ESRB на продажи в отдельном регионе"
   ]
  },
  {
   "cell_type": "code",
   "execution_count": 56,
   "metadata": {},
   "outputs": [],
   "source": [
    "# Объявим общие функции\n",
    "\n",
    "def display_side_by_side(*args):\n",
    "    html_str=''\n",
    "    for df in args:\n",
    "        html_str+=df.to_html()\n",
    "    display_html(html_str.replace('table','table style=\"display:inline\"'),raw=True)\n",
    "\n",
    "    \n",
    "def tables(t, column):\n",
    "    head = 'Отчет по региону ' + column \n",
    "    print(colored(head, 'red'))\n",
    "    plt.style.use('seaborn')\n",
    "    df_s = pd.DataFrame()\n",
    "    df_g = pd.DataFrame()\n",
    "    df_r = pd.DataFrame()\n",
    "    \n",
    "    l1 = list(t.pivot_table(index = 'platform', values = column, aggfunc = ['sum']).set_axis([column], axis=1).sort_values(column, ascending = False).reset_index().rename_axis(None, axis=1).head(5)['platform'])\n",
    "    for elem in range(len(l1)):\n",
    "        p = l1[elem]\n",
    "        df_s.loc[elem, 'Платформа'] = p\n",
    "        df_s.loc[elem, 'Продажи'] = t.query('platform==@p')[column].sum()\n",
    "        df_s.loc[elem, 'Процент от всех'] = t.query('platform==@p')[column].sum()/t[column].sum()\n",
    "\n",
    "        \n",
    "    l2 = list(t.pivot_table(index = 'genre', values = column, aggfunc = ['sum']).set_axis([column], axis=1).sort_values(column, ascending = False).reset_index().rename_axis(None, axis=1).head(5)['genre'])\n",
    "    for elem in range(len(l2)):\n",
    "        p = l2[elem]\n",
    "        df_g.loc[elem, 'Жанр'] = p\n",
    "        df_g.loc[elem, 'Продажи'] = t.query('genre==@p')[column].sum()\n",
    "        df_g.loc[elem, 'Процент от всех'] = t.query('genre==@p')[column].sum()/t[column].sum()\n",
    "    \n",
    "    l3 = list(t.pivot_table(index = 'rating', values = column, aggfunc = ['sum']).set_axis([column], axis=1).sort_values(column, ascending = False).reset_index().rename_axis(None, axis=1).head(5)['rating'])\n",
    "    for elem in range(len(l3)):\n",
    "        p = l3[elem]\n",
    "        df_r.loc[elem, 'Рейтинг'] = p\n",
    "        df_r.loc[elem, 'Продажи'] = t.query('rating==@p')[column].sum()\n",
    "        df_r.loc[elem, 'Процент от всех'] = t.query('rating==@p')[column].sum()/t[column].sum()\n",
    "    \n",
    "    display_side_by_side(df_s,df_g,df_r)\n",
    "    \n",
    "    fig, ax = plt.subplots(1,3,figsize=(20,5))\n",
    "    \n",
    "    df_s.plot(ax=ax[0], y = 'Продажи', labels =  df_s['Платформа'] , kind = 'pie', autopct='%1.0f%%', labeldistance=1.1)\n",
    "    ax[0].legend().remove()\n",
    "    ax[0].set_ylabel(None)\n",
    "    ax[0].set_title('Продажи по платформам')\n",
    "    \n",
    "    df_g.plot(ax=ax[1], y = 'Продажи', labels =  df_g['Жанр'],  kind = 'pie', autopct='%1.0f%%', labeldistance=1.1)\n",
    "    ax[1].legend().remove()\n",
    "    ax[1].set_ylabel(None)\n",
    "    ax[1].set_title('Продажи по жанрам')\n",
    "    \n",
    "    df_r.plot(ax=ax[2], y = 'Продажи', labels =  df_r['Рейтинг'], kind = 'pie', autopct='%1.0f%%', labeldistance=1.1)\n",
    "    ax[2].legend().remove()\n",
    "    ax[2].set_ylabel(None)\n",
    "    ax[2].set_title('Продажи по рейтингам')\n",
    "    \n",
    "    #ax[0].bar(df_s['Платформа'], df_s['Продажи'])\n",
    "    #ax[1].bar(df_g['Жанр'], df_g['Продажи'])\n",
    "    #ax[2].bar(df_r['Рейтинг'], df_r['Продажи'])\n",
    "    #ax[0].set_title('Платформа')\n",
    "    #ax[1].set_title('Жанр')\n",
    "    #ax[2].set_title('Рейтинг')\n",
    "                   \n",
    "    plt.show()"
   ]
  },
  {
   "cell_type": "code",
   "execution_count": 57,
   "metadata": {},
   "outputs": [
    {
     "name": "stdout",
     "output_type": "stream",
     "text": [
      "\u001b[31mОтчет по региону na_sales\u001b[0m\n"
     ]
    },
    {
     "data": {
      "text/html": [
       "<table style=\"display:inline\" border=\"1\" class=\"dataframe\">\n",
       "  <thead>\n",
       "    <tr style=\"text-align: right;\">\n",
       "      <th></th>\n",
       "      <th>Платформа</th>\n",
       "      <th>Продажи</th>\n",
       "      <th>Процент от всех</th>\n",
       "    </tr>\n",
       "  </thead>\n",
       "  <tbody>\n",
       "    <tr>\n",
       "      <th>0</th>\n",
       "      <td>PS4</td>\n",
       "      <td>108.74</td>\n",
       "      <td>0.248429</td>\n",
       "    </tr>\n",
       "    <tr>\n",
       "      <th>1</th>\n",
       "      <td>XOne</td>\n",
       "      <td>93.12</td>\n",
       "      <td>0.212744</td>\n",
       "    </tr>\n",
       "    <tr>\n",
       "      <th>2</th>\n",
       "      <td>X360</td>\n",
       "      <td>81.66</td>\n",
       "      <td>0.186562</td>\n",
       "    </tr>\n",
       "    <tr>\n",
       "      <th>3</th>\n",
       "      <td>PS3</td>\n",
       "      <td>63.50</td>\n",
       "      <td>0.145073</td>\n",
       "    </tr>\n",
       "    <tr>\n",
       "      <th>4</th>\n",
       "      <td>3DS</td>\n",
       "      <td>38.20</td>\n",
       "      <td>0.087272</td>\n",
       "    </tr>\n",
       "  </tbody>\n",
       "</table style=\"display:inline\"><table style=\"display:inline\" border=\"1\" class=\"dataframe\">\n",
       "  <thead>\n",
       "    <tr style=\"text-align: right;\">\n",
       "      <th></th>\n",
       "      <th>Жанр</th>\n",
       "      <th>Продажи</th>\n",
       "      <th>Процент от всех</th>\n",
       "    </tr>\n",
       "  </thead>\n",
       "  <tbody>\n",
       "    <tr>\n",
       "      <th>0</th>\n",
       "      <td>Action</td>\n",
       "      <td>126.05</td>\n",
       "      <td>0.287976</td>\n",
       "    </tr>\n",
       "    <tr>\n",
       "      <th>1</th>\n",
       "      <td>Shooter</td>\n",
       "      <td>109.74</td>\n",
       "      <td>0.250714</td>\n",
       "    </tr>\n",
       "    <tr>\n",
       "      <th>2</th>\n",
       "      <td>Sports</td>\n",
       "      <td>65.27</td>\n",
       "      <td>0.149117</td>\n",
       "    </tr>\n",
       "    <tr>\n",
       "      <th>3</th>\n",
       "      <td>Role-Playing</td>\n",
       "      <td>46.40</td>\n",
       "      <td>0.106006</td>\n",
       "    </tr>\n",
       "    <tr>\n",
       "      <th>4</th>\n",
       "      <td>Misc</td>\n",
       "      <td>27.49</td>\n",
       "      <td>0.062804</td>\n",
       "    </tr>\n",
       "  </tbody>\n",
       "</table style=\"display:inline\"><table style=\"display:inline\" border=\"1\" class=\"dataframe\">\n",
       "  <thead>\n",
       "    <tr style=\"text-align: right;\">\n",
       "      <th></th>\n",
       "      <th>Рейтинг</th>\n",
       "      <th>Продажи</th>\n",
       "      <th>Процент от всех</th>\n",
       "    </tr>\n",
       "  </thead>\n",
       "  <tbody>\n",
       "    <tr>\n",
       "      <th>0</th>\n",
       "      <td>M</td>\n",
       "      <td>165.21</td>\n",
       "      <td>0.377442</td>\n",
       "    </tr>\n",
       "    <tr>\n",
       "      <th>1</th>\n",
       "      <td>no_ERSB</td>\n",
       "      <td>89.42</td>\n",
       "      <td>0.204291</td>\n",
       "    </tr>\n",
       "    <tr>\n",
       "      <th>2</th>\n",
       "      <td>E</td>\n",
       "      <td>79.05</td>\n",
       "      <td>0.180599</td>\n",
       "    </tr>\n",
       "    <tr>\n",
       "      <th>3</th>\n",
       "      <td>E10+</td>\n",
       "      <td>54.24</td>\n",
       "      <td>0.123918</td>\n",
       "    </tr>\n",
       "    <tr>\n",
       "      <th>4</th>\n",
       "      <td>T</td>\n",
       "      <td>49.79</td>\n",
       "      <td>0.113751</td>\n",
       "    </tr>\n",
       "  </tbody>\n",
       "</table style=\"display:inline\">"
      ]
     },
     "metadata": {},
     "output_type": "display_data"
    },
    {
     "data": {
      "image/png": "[encoded data removed]",
      "text/plain": [
       "<Figure size 1440x360 with 3 Axes>"
      ]
     },
     "metadata": {},
     "output_type": "display_data"
    }
   ],
   "source": [
    "#Определим портреты пользователей по регионам\n",
    "\n",
    "tables(df_actual,'na_sales')"
   ]
  },
  {
   "cell_type": "code",
   "execution_count": 58,
   "metadata": {},
   "outputs": [
    {
     "name": "stdout",
     "output_type": "stream",
     "text": [
      "\u001b[31mОтчет по региону eu_sales\u001b[0m\n"
     ]
    },
    {
     "data": {
      "text/html": [
       "<table style=\"display:inline\" border=\"1\" class=\"dataframe\">\n",
       "  <thead>\n",
       "    <tr style=\"text-align: right;\">\n",
       "      <th></th>\n",
       "      <th>Платформа</th>\n",
       "      <th>Продажи</th>\n",
       "      <th>Процент от всех</th>\n",
       "    </tr>\n",
       "  </thead>\n",
       "  <tbody>\n",
       "    <tr>\n",
       "      <th>0</th>\n",
       "      <td>PS4</td>\n",
       "      <td>141.09</td>\n",
       "      <td>0.359712</td>\n",
       "    </tr>\n",
       "    <tr>\n",
       "      <th>1</th>\n",
       "      <td>PS3</td>\n",
       "      <td>67.81</td>\n",
       "      <td>0.172883</td>\n",
       "    </tr>\n",
       "    <tr>\n",
       "      <th>2</th>\n",
       "      <td>XOne</td>\n",
       "      <td>51.59</td>\n",
       "      <td>0.131530</td>\n",
       "    </tr>\n",
       "    <tr>\n",
       "      <th>3</th>\n",
       "      <td>X360</td>\n",
       "      <td>42.52</td>\n",
       "      <td>0.108406</td>\n",
       "    </tr>\n",
       "    <tr>\n",
       "      <th>4</th>\n",
       "      <td>3DS</td>\n",
       "      <td>30.96</td>\n",
       "      <td>0.078933</td>\n",
       "    </tr>\n",
       "  </tbody>\n",
       "</table style=\"display:inline\"><table style=\"display:inline\" border=\"1\" class=\"dataframe\">\n",
       "  <thead>\n",
       "    <tr style=\"text-align: right;\">\n",
       "      <th></th>\n",
       "      <th>Жанр</th>\n",
       "      <th>Продажи</th>\n",
       "      <th>Процент от всех</th>\n",
       "    </tr>\n",
       "  </thead>\n",
       "  <tbody>\n",
       "    <tr>\n",
       "      <th>0</th>\n",
       "      <td>Action</td>\n",
       "      <td>118.13</td>\n",
       "      <td>0.301175</td>\n",
       "    </tr>\n",
       "    <tr>\n",
       "      <th>1</th>\n",
       "      <td>Shooter</td>\n",
       "      <td>87.86</td>\n",
       "      <td>0.224001</td>\n",
       "    </tr>\n",
       "    <tr>\n",
       "      <th>2</th>\n",
       "      <td>Sports</td>\n",
       "      <td>60.52</td>\n",
       "      <td>0.154297</td>\n",
       "    </tr>\n",
       "    <tr>\n",
       "      <th>3</th>\n",
       "      <td>Role-Playing</td>\n",
       "      <td>36.97</td>\n",
       "      <td>0.094256</td>\n",
       "    </tr>\n",
       "    <tr>\n",
       "      <th>4</th>\n",
       "      <td>Racing</td>\n",
       "      <td>20.19</td>\n",
       "      <td>0.051475</td>\n",
       "    </tr>\n",
       "  </tbody>\n",
       "</table style=\"display:inline\"><table style=\"display:inline\" border=\"1\" class=\"dataframe\">\n",
       "  <thead>\n",
       "    <tr style=\"text-align: right;\">\n",
       "      <th></th>\n",
       "      <th>Рейтинг</th>\n",
       "      <th>Продажи</th>\n",
       "      <th>Процент от всех</th>\n",
       "    </tr>\n",
       "  </thead>\n",
       "  <tbody>\n",
       "    <tr>\n",
       "      <th>0</th>\n",
       "      <td>M</td>\n",
       "      <td>145.32</td>\n",
       "      <td>0.370497</td>\n",
       "    </tr>\n",
       "    <tr>\n",
       "      <th>1</th>\n",
       "      <td>E</td>\n",
       "      <td>83.36</td>\n",
       "      <td>0.212528</td>\n",
       "    </tr>\n",
       "    <tr>\n",
       "      <th>2</th>\n",
       "      <td>no_ERSB</td>\n",
       "      <td>78.91</td>\n",
       "      <td>0.201183</td>\n",
       "    </tr>\n",
       "    <tr>\n",
       "      <th>3</th>\n",
       "      <td>E10+</td>\n",
       "      <td>42.69</td>\n",
       "      <td>0.108839</td>\n",
       "    </tr>\n",
       "    <tr>\n",
       "      <th>4</th>\n",
       "      <td>T</td>\n",
       "      <td>41.95</td>\n",
       "      <td>0.106953</td>\n",
       "    </tr>\n",
       "  </tbody>\n",
       "</table style=\"display:inline\">"
      ]
     },
     "metadata": {},
     "output_type": "display_data"
    },
    {
     "data": {
      "image/png": "[encoded data removed]",
      "text/plain": [
       "<Figure size 1440x360 with 3 Axes>"
      ]
     },
     "metadata": {},
     "output_type": "display_data"
    }
   ],
   "source": [
    "tables(df_actual,'eu_sales')"
   ]
  },
  {
   "cell_type": "code",
   "execution_count": 59,
   "metadata": {},
   "outputs": [
    {
     "name": "stdout",
     "output_type": "stream",
     "text": [
      "\u001b[31mОтчет по региону jp_sales\u001b[0m\n"
     ]
    },
    {
     "data": {
      "text/html": [
       "<table style=\"display:inline\" border=\"1\" class=\"dataframe\">\n",
       "  <thead>\n",
       "    <tr style=\"text-align: right;\">\n",
       "      <th></th>\n",
       "      <th>Платформа</th>\n",
       "      <th>Продажи</th>\n",
       "      <th>Процент от всех</th>\n",
       "    </tr>\n",
       "  </thead>\n",
       "  <tbody>\n",
       "    <tr>\n",
       "      <th>0</th>\n",
       "      <td>3DS</td>\n",
       "      <td>67.81</td>\n",
       "      <td>0.481674</td>\n",
       "    </tr>\n",
       "    <tr>\n",
       "      <th>1</th>\n",
       "      <td>PS3</td>\n",
       "      <td>23.35</td>\n",
       "      <td>0.165862</td>\n",
       "    </tr>\n",
       "    <tr>\n",
       "      <th>2</th>\n",
       "      <td>PSV</td>\n",
       "      <td>18.59</td>\n",
       "      <td>0.132050</td>\n",
       "    </tr>\n",
       "    <tr>\n",
       "      <th>3</th>\n",
       "      <td>PS4</td>\n",
       "      <td>15.96</td>\n",
       "      <td>0.113368</td>\n",
       "    </tr>\n",
       "    <tr>\n",
       "      <th>4</th>\n",
       "      <td>WiiU</td>\n",
       "      <td>10.88</td>\n",
       "      <td>0.077284</td>\n",
       "    </tr>\n",
       "  </tbody>\n",
       "</table style=\"display:inline\"><table style=\"display:inline\" border=\"1\" class=\"dataframe\">\n",
       "  <thead>\n",
       "    <tr style=\"text-align: right;\">\n",
       "      <th></th>\n",
       "      <th>Жанр</th>\n",
       "      <th>Продажи</th>\n",
       "      <th>Процент от всех</th>\n",
       "    </tr>\n",
       "  </thead>\n",
       "  <tbody>\n",
       "    <tr>\n",
       "      <th>0</th>\n",
       "      <td>Role-Playing</td>\n",
       "      <td>51.04</td>\n",
       "      <td>0.362551</td>\n",
       "    </tr>\n",
       "    <tr>\n",
       "      <th>1</th>\n",
       "      <td>Action</td>\n",
       "      <td>40.49</td>\n",
       "      <td>0.287612</td>\n",
       "    </tr>\n",
       "    <tr>\n",
       "      <th>2</th>\n",
       "      <td>Misc</td>\n",
       "      <td>9.20</td>\n",
       "      <td>0.065350</td>\n",
       "    </tr>\n",
       "    <tr>\n",
       "      <th>3</th>\n",
       "      <td>Fighting</td>\n",
       "      <td>7.65</td>\n",
       "      <td>0.054340</td>\n",
       "    </tr>\n",
       "    <tr>\n",
       "      <th>4</th>\n",
       "      <td>Shooter</td>\n",
       "      <td>6.61</td>\n",
       "      <td>0.046953</td>\n",
       "    </tr>\n",
       "  </tbody>\n",
       "</table style=\"display:inline\"><table style=\"display:inline\" border=\"1\" class=\"dataframe\">\n",
       "  <thead>\n",
       "    <tr style=\"text-align: right;\">\n",
       "      <th></th>\n",
       "      <th>Рейтинг</th>\n",
       "      <th>Продажи</th>\n",
       "      <th>Процент от всех</th>\n",
       "    </tr>\n",
       "  </thead>\n",
       "  <tbody>\n",
       "    <tr>\n",
       "      <th>0</th>\n",
       "      <td>no_ERSB</td>\n",
       "      <td>85.05</td>\n",
       "      <td>0.604134</td>\n",
       "    </tr>\n",
       "    <tr>\n",
       "      <th>1</th>\n",
       "      <td>T</td>\n",
       "      <td>20.59</td>\n",
       "      <td>0.146257</td>\n",
       "    </tr>\n",
       "    <tr>\n",
       "      <th>2</th>\n",
       "      <td>E</td>\n",
       "      <td>15.14</td>\n",
       "      <td>0.107544</td>\n",
       "    </tr>\n",
       "    <tr>\n",
       "      <th>3</th>\n",
       "      <td>M</td>\n",
       "      <td>14.11</td>\n",
       "      <td>0.100227</td>\n",
       "    </tr>\n",
       "    <tr>\n",
       "      <th>4</th>\n",
       "      <td>E10+</td>\n",
       "      <td>5.89</td>\n",
       "      <td>0.041838</td>\n",
       "    </tr>\n",
       "  </tbody>\n",
       "</table style=\"display:inline\">"
      ]
     },
     "metadata": {},
     "output_type": "display_data"
    },
    {
     "data": {
      "image/png": "[encoded data removed]",
      "text/plain": [
       "<Figure size 1440x360 with 3 Axes>"
      ]
     },
     "metadata": {},
     "output_type": "display_data"
    }
   ],
   "source": [
    "tables(df_actual,'jp_sales')"
   ]
  },
  {
   "cell_type": "code",
   "execution_count": 60,
   "metadata": {},
   "outputs": [
    {
     "name": "stdout",
     "output_type": "stream",
     "text": [
      "0 0.0\n"
     ]
    },
    {
     "data": {
      "text/plain": [
       "no_ERSB    6676\n",
       "E          3921\n",
       "T          2905\n",
       "M          1536\n",
       "E10+       1393\n",
       "RP           13\n",
       "Name: rating, dtype: int64"
      ]
     },
     "execution_count": 60,
     "metadata": {},
     "output_type": "execute_result"
    }
   ],
   "source": [
    "# Комментарий ревьюера\n",
    "temp = df.copy()\n",
    "print(temp.rating.isna().sum(), temp.rating.isna().sum()/len(temp))\n",
    "temp.rating.value_counts()"
   ]
  },
  {
   "cell_type": "markdown",
   "metadata": {},
   "source": [
    "Выводы по шагу 4:\n",
    "  - Если в Северной Америке и Европе предпочитают, в общем, схожие платформы (PS4, и в разных пропорциях XOne, PS3, X360), то в Японии предпочтительные платформы отличаются (DS, PS3)\n",
    "  - Аналогичная ситуация по жанрам игр: в Северной Америке и Европе - Shooter и Action, в Японии Action и Role-Playing\n",
    "  - По рейтингам, учитывая то, что все неизвестное мы обозвали no_ERSP, куда в итоге были включены все значения NAN, картина следующая:\n",
    "    - По СА и Европе практически идентичная картина - 20% игр без рейтинга, а из оставшихся самые популярные игры для взрослых и игры для всех\n",
    "    - В Японии, получается, что более 60% игр не имеют рейтинга, а из оставшихся  - игры для всех и для детей. Но, учитывая количество игр без рейтинга, нельзя ориентироваться на рейтинг по играм, продаваемым в Японии.\n",
    " "
   ]
  },
  {
   "cell_type": "markdown",
   "metadata": {},
   "source": [
    "<div class=\"alert alert-success\"; style=\"border-left: 7px solid green\">\n",
    "  Шаг_5 Проверка гипотез\n",
    "</div>"
   ]
  },
  {
   "cell_type": "markdown",
   "metadata": {},
   "source": [
    "В этом шаге проверим гипотезы:\n",
    "- Средние пользовательские рейтинги платформ Xbox One и PC одинаковые;\n",
    "- Средние пользовательские рейтинги жанров Action (англ. «действие», экшен-игры) и Sports (англ. «спортивные соревнования») разные.\n"
   ]
  },
  {
   "cell_type": "markdown",
   "metadata": {},
   "source": [
    "Проверка гипотезы \"Средние пользовательские рейтинги платформ Xbox One и PC одинаковые\"\n",
    "- Н0: Средние пользовательские рейтинги платформ Xbox One и PC одинаковые\n",
    "- Н1: Средние пользовательские рейтинги платформ Xbox One и PC различаются"
   ]
  },
  {
   "cell_type": "code",
   "execution_count": 62,
   "metadata": {},
   "outputs": [
    {
     "name": "stdout",
     "output_type": "stream",
     "text": [
      "Средние Xone 6.521428571428572\n",
      "Средние PC 6.2696774193548395\n",
      "0.14759594013430463\n",
      "Не получилось отвергнуть нулевую гипотезу\n"
     ]
    }
   ],
   "source": [
    "#Посмотрим средние Xbox One и PC\n",
    "#опять же, не учитываем те значения, где пользовательские рейтинги не установлены (=0), т.к. нет предмета вопроса. \n",
    "print('Средние Xone',df_actual.query('platform ==\"XOne\"&user_score!=0')['user_score'].mean())\n",
    "print('Средние PC',df_actual.query('platform ==\"PC\"&user_score!=0')['user_score'].mean())\n",
    "\n",
    "\n",
    "results = st.ttest_ind(df_actual.query('platform ==\"XOne\"&user_score!=0')['user_score'], df_actual.query('platform ==\"PC\"&user_score!=0')['user_score'], equal_var = False)\n",
    "alpha = 0.05\n",
    "\n",
    "print(results.pvalue)\n",
    "\n",
    "if results.pvalue < alpha:\n",
    "    print(\"Отвергаем нулевую гипотезу\")\n",
    "else:\n",
    "    print(\"Не получилось отвергнуть нулевую гипотезу\") "
   ]
  },
  {
   "cell_type": "markdown",
   "metadata": {},
   "source": [
    "Вывод: у нас вероятность получить одинаковые рейтинги почти 15%"
   ]
  },
  {
   "cell_type": "markdown",
   "metadata": {},
   "source": [
    "Проверка гипотезы \"Средние пользовательские рейтинги жанров Action и Sports одинаковые\"\n",
    "- Н0: Средние пользовательские рейтинги платформ Xbox One и PC одинаковые\n",
    "- Н1: Средние пользовательские рейтинги платформ Xbox One и PC различаются"
   ]
  },
  {
   "cell_type": "code",
   "execution_count": 63,
   "metadata": {},
   "outputs": [
    {
     "name": "stdout",
     "output_type": "stream",
     "text": [
      "Средние Action 6.837532133676092\n",
      "Средние Sports 5.238124999999999\n",
      "1.4460039700704315e-20\n",
      "Отвергаем нулевую гипотезу\n"
     ]
    }
   ],
   "source": [
    "#Посмотрим средние жанров Action и Sports\n",
    "#опять же, не учитываем те значения, где пользовательские рейтинги не установлены (=0), т.к. нет предмета вопроса. \n",
    "print('Средние Action',df_actual.query('genre ==\"Action\"&user_score!=0')['user_score'].mean())\n",
    "print('Средние Sports',df_actual.query('genre ==\"Sports\"&user_score!=0')['user_score'].mean())\n",
    "\n",
    "\n",
    "results = st.ttest_ind(df_actual.query('genre ==\"Action\"&user_score!=0')['user_score'], df_actual.query('genre ==\"Sports\"&user_score!=0')['user_score'], equal_var = False)\n",
    "alpha = 0.05\n",
    "\n",
    "print(results.pvalue)\n",
    "\n",
    "if results.pvalue < alpha:\n",
    "    print(\"Отвергаем нулевую гипотезу\")\n",
    "else:\n",
    "    print(\"Не получилось отвергнуть нулевую гипотезу\") "
   ]
  },
  {
   "cell_type": "markdown",
   "metadata": {},
   "source": [
    "Вывод: вероятность получить одинаковые рейтинги меньше 5%"
   ]
  },
  {
   "cell_type": "markdown",
   "metadata": {},
   "source": [
    "<div class=\"alert alert-success\"; style=\"border-left: 7px solid green\">\n",
    "  Шаг_6 Общие выводы\n",
    "</div>"
   ]
  },
  {
   "cell_type": "markdown",
   "metadata": {},
   "source": [
    "- Мы исследовали базу игровых платформ за период с начала 80-х годов. Выявили, что средний срок жизни игровой платформы - около 10 лет. По всем игровым платформам наблюдается бурный рост с течение 3-4 лет, а потом столь же бурное затухание. \n",
    "- Для принятия решения о рекламном бюджете на 2017 год предположили, что данных за предыдушие 3 полных года будет достаточно. Анализировали исходя из сведений 2013-2016 гг.\n",
    "- Выявили, что самые маржинальные платформы по миру в целом - PS4, PS3, XOne. Самый популярный жанр в целом по миру - это Shooter, с рейтингом игр - \"Для взрослых\" (М). Жанр \"shooter\" является самым высокодоходным, но в жанре \"Action\" самые большие продажи. Игры жанра \"Action\" тоже надо рассматривать, но исключително с хорошим рейтингом критиков.\n",
    "- Однако, для региональных рынков есть свои особенности, которые стоит учесть:\n",
    "  - Северная Америка и Европа весьма похожи в своих предпочтениях, в том время как Япония весьма существенно различается.\n",
    "  - Для СА и Европы я бы рекомендовал сконцентрироваться на игровых платформах PS4, PS3, XOne, в жанрах Shooter и Action, с рейтингом \"М\".\n",
    "  - По Японии популярные платформы 3DS и PS4. По жанрам - Shooter и Role-playing. По рейтингу сложно сказать, точно, т.к. рейтинг много где не установлен. Косвенно, можно порекомендовать рейтинг М (Shooter маловероятно, что будет с другим рейтингом).\n",
    "- Можно не обращать внимание на рейтинги пользователей, т.к. зависимости продаж от оценок пользователей не обнаружилось. Но в части рейтингов критиков рекомендуется выбирать игры с хорошим рейтингом, т.к. небольшая, но все же связь между рейтингам критиков и продажами присутствует"
   ]
  }
 ],
 "metadata": {
  "ExecuteTimeLog": [
   {
    "duration": 1373,
    "start_time": "2022-09-10T14:06:09.808Z"
   },
   {
    "duration": 112,
    "start_time": "2022-09-10T14:06:39.919Z"
   },
   {
    "duration": 7,
    "start_time": "2022-09-10T14:07:39.449Z"
   },
   {
    "duration": 15,
    "start_time": "2022-09-10T14:08:00.528Z"
   },
   {
    "duration": 10,
    "start_time": "2022-09-10T14:08:12.652Z"
   },
   {
    "duration": 21,
    "start_time": "2022-09-10T14:08:24.149Z"
   },
   {
    "duration": 7,
    "start_time": "2022-09-10T14:08:34.446Z"
   },
   {
    "duration": 21,
    "start_time": "2022-09-10T14:08:44.247Z"
   },
   {
    "duration": 6,
    "start_time": "2022-09-10T14:08:55.211Z"
   },
   {
    "duration": 2,
    "start_time": "2022-09-10T14:09:29.396Z"
   },
   {
    "duration": 2,
    "start_time": "2022-09-10T14:09:33.651Z"
   },
   {
    "duration": 258,
    "start_time": "2022-09-10T14:09:43.436Z"
   },
   {
    "duration": 220,
    "start_time": "2022-09-10T14:09:58.123Z"
   },
   {
    "duration": 68,
    "start_time": "2022-09-10T14:10:13.296Z"
   },
   {
    "duration": 390,
    "start_time": "2022-09-10T14:10:56.412Z"
   },
   {
    "duration": 304,
    "start_time": "2022-09-10T14:11:09.238Z"
   },
   {
    "duration": 62,
    "start_time": "2022-09-10T14:11:23.876Z"
   },
   {
    "duration": 424,
    "start_time": "2022-09-10T14:11:37.996Z"
   },
   {
    "duration": 204,
    "start_time": "2022-09-10T14:12:23.446Z"
   },
   {
    "duration": 12,
    "start_time": "2022-09-10T14:13:19.309Z"
   },
   {
    "duration": 11,
    "start_time": "2022-09-10T14:13:41.844Z"
   },
   {
    "duration": 242,
    "start_time": "2022-09-10T14:13:53.770Z"
   },
   {
    "duration": 63,
    "start_time": "2022-09-10T14:14:23.136Z"
   },
   {
    "duration": 10,
    "start_time": "2022-09-10T14:14:31.707Z"
   },
   {
    "duration": 1493,
    "start_time": "2022-09-10T14:14:43.935Z"
   },
   {
    "duration": 151,
    "start_time": "2022-09-10T14:15:25.389Z"
   },
   {
    "duration": 16,
    "start_time": "2022-09-10T14:15:53.093Z"
   },
   {
    "duration": 202,
    "start_time": "2022-09-10T14:16:04.656Z"
   },
   {
    "duration": 10,
    "start_time": "2022-09-10T14:17:42.374Z"
   },
   {
    "duration": 369,
    "start_time": "2022-09-10T14:17:53.468Z"
   },
   {
    "duration": 385,
    "start_time": "2022-09-10T14:18:03.800Z"
   },
   {
    "duration": 398,
    "start_time": "2022-09-10T14:18:13.751Z"
   },
   {
    "duration": 16,
    "start_time": "2022-09-10T14:19:18.242Z"
   },
   {
    "duration": 1431,
    "start_time": "2022-09-10T17:31:15.955Z"
   },
   {
    "duration": 212,
    "start_time": "2022-09-10T17:31:17.388Z"
   },
   {
    "duration": 5,
    "start_time": "2022-09-10T17:31:17.601Z"
   },
   {
    "duration": 17,
    "start_time": "2022-09-10T17:31:17.609Z"
   },
   {
    "duration": 11,
    "start_time": "2022-09-10T17:31:17.627Z"
   },
   {
    "duration": 30,
    "start_time": "2022-09-10T17:31:17.640Z"
   },
   {
    "duration": 7,
    "start_time": "2022-09-10T17:31:17.672Z"
   },
   {
    "duration": 22,
    "start_time": "2022-09-10T17:31:17.681Z"
   },
   {
    "duration": 16,
    "start_time": "2022-09-10T17:31:17.705Z"
   },
   {
    "duration": 4,
    "start_time": "2022-09-10T17:31:17.725Z"
   },
   {
    "duration": 279,
    "start_time": "2022-09-10T17:31:17.731Z"
   },
   {
    "duration": 251,
    "start_time": "2022-09-10T17:31:18.012Z"
   },
   {
    "duration": 60,
    "start_time": "2022-09-10T17:31:18.268Z"
   },
   {
    "duration": 402,
    "start_time": "2022-09-10T17:31:18.330Z"
   },
   {
    "duration": 302,
    "start_time": "2022-09-10T17:31:18.734Z"
   },
   {
    "duration": 72,
    "start_time": "2022-09-10T17:31:19.038Z"
   },
   {
    "duration": 457,
    "start_time": "2022-09-10T17:31:19.112Z"
   },
   {
    "duration": 226,
    "start_time": "2022-09-10T17:31:19.571Z"
   },
   {
    "duration": 14,
    "start_time": "2022-09-10T17:31:19.799Z"
   },
   {
    "duration": 9,
    "start_time": "2022-09-10T17:31:19.815Z"
   },
   {
    "duration": 256,
    "start_time": "2022-09-10T17:31:19.826Z"
   },
   {
    "duration": 72,
    "start_time": "2022-09-10T17:31:20.084Z"
   },
   {
    "duration": 19,
    "start_time": "2022-09-10T17:31:20.157Z"
   },
   {
    "duration": 1618,
    "start_time": "2022-09-10T17:31:20.178Z"
   },
   {
    "duration": 187,
    "start_time": "2022-09-10T17:31:21.798Z"
   },
   {
    "duration": 17,
    "start_time": "2022-09-10T17:31:21.987Z"
   },
   {
    "duration": 237,
    "start_time": "2022-09-10T17:31:22.006Z"
   },
   {
    "duration": 12,
    "start_time": "2022-09-10T17:31:22.246Z"
   },
   {
    "duration": 429,
    "start_time": "2022-09-10T17:31:22.268Z"
   },
   {
    "duration": 442,
    "start_time": "2022-09-10T17:31:22.699Z"
   },
   {
    "duration": 444,
    "start_time": "2022-09-10T17:31:23.142Z"
   },
   {
    "duration": 20,
    "start_time": "2022-09-10T17:31:23.588Z"
   },
   {
    "duration": 96,
    "start_time": "2022-09-10T17:39:18.184Z"
   },
   {
    "duration": 12,
    "start_time": "2022-09-10T17:52:55.898Z"
   },
   {
    "duration": 25,
    "start_time": "2022-09-10T17:54:02.519Z"
   },
   {
    "duration": 5,
    "start_time": "2022-09-10T17:54:22.497Z"
   },
   {
    "duration": 6,
    "start_time": "2022-09-10T17:56:22.998Z"
   },
   {
    "duration": 4,
    "start_time": "2022-09-10T17:56:45.948Z"
   },
   {
    "duration": 4,
    "start_time": "2022-09-10T17:56:55.616Z"
   },
   {
    "duration": 5,
    "start_time": "2022-09-10T17:57:17.934Z"
   },
   {
    "duration": 84,
    "start_time": "2022-09-12T07:29:10.263Z"
   },
   {
    "duration": 73,
    "start_time": "2022-09-12T07:29:27.628Z"
   },
   {
    "duration": 74,
    "start_time": "2022-09-12T07:29:44.152Z"
   },
   {
    "duration": 67,
    "start_time": "2022-09-12T07:29:58.049Z"
   },
   {
    "duration": 1443,
    "start_time": "2022-09-12T07:34:28.507Z"
   },
   {
    "duration": 196,
    "start_time": "2022-09-12T07:34:29.952Z"
   },
   {
    "duration": 16,
    "start_time": "2022-09-12T07:36:17.186Z"
   },
   {
    "duration": 99,
    "start_time": "2022-09-12T07:45:29.812Z"
   },
   {
    "duration": 11,
    "start_time": "2022-09-12T07:45:38.161Z"
   },
   {
    "duration": 3,
    "start_time": "2022-09-12T07:45:44.981Z"
   },
   {
    "duration": 22,
    "start_time": "2022-09-12T07:46:22.530Z"
   },
   {
    "duration": 1228,
    "start_time": "2022-09-12T07:47:31.519Z"
   },
   {
    "duration": 22,
    "start_time": "2022-09-12T07:47:44.915Z"
   },
   {
    "duration": 8,
    "start_time": "2022-09-12T07:53:11.257Z"
   },
   {
    "duration": 7,
    "start_time": "2022-09-12T07:54:39.893Z"
   },
   {
    "duration": 6,
    "start_time": "2022-09-12T07:56:26.032Z"
   },
   {
    "duration": 6,
    "start_time": "2022-09-12T08:00:42.415Z"
   },
   {
    "duration": 3,
    "start_time": "2022-09-12T08:10:25.025Z"
   },
   {
    "duration": 3,
    "start_time": "2022-09-12T08:10:29.322Z"
   },
   {
    "duration": 17,
    "start_time": "2022-09-12T08:11:06.751Z"
   },
   {
    "duration": 13,
    "start_time": "2022-09-12T08:11:32.989Z"
   },
   {
    "duration": 10,
    "start_time": "2022-09-12T08:12:06.040Z"
   },
   {
    "duration": 9,
    "start_time": "2022-09-12T08:13:12.221Z"
   },
   {
    "duration": 20,
    "start_time": "2022-09-12T08:13:38.250Z"
   },
   {
    "duration": 16,
    "start_time": "2022-09-12T08:13:44.922Z"
   },
   {
    "duration": 17,
    "start_time": "2022-09-12T08:23:39.533Z"
   },
   {
    "duration": 10,
    "start_time": "2022-09-12T08:23:57.114Z"
   },
   {
    "duration": 6,
    "start_time": "2022-09-12T08:24:07.244Z"
   },
   {
    "duration": 10,
    "start_time": "2022-09-12T08:25:03.812Z"
   },
   {
    "duration": 8,
    "start_time": "2022-09-12T08:25:24.246Z"
   },
   {
    "duration": 5,
    "start_time": "2022-09-12T09:04:52.404Z"
   },
   {
    "duration": 3,
    "start_time": "2022-09-12T09:04:54.890Z"
   },
   {
    "duration": 2,
    "start_time": "2022-09-12T09:07:17.780Z"
   },
   {
    "duration": 75,
    "start_time": "2022-09-12T09:18:34.734Z"
   },
   {
    "duration": 88,
    "start_time": "2022-09-12T09:19:18.539Z"
   },
   {
    "duration": 13,
    "start_time": "2022-09-12T09:57:09.270Z"
   },
   {
    "duration": 10,
    "start_time": "2022-09-12T09:58:12.117Z"
   },
   {
    "duration": 6,
    "start_time": "2022-09-12T10:03:00.941Z"
   },
   {
    "duration": 4,
    "start_time": "2022-09-12T10:03:15.952Z"
   },
   {
    "duration": 62,
    "start_time": "2022-09-12T10:03:15.958Z"
   },
   {
    "duration": 18,
    "start_time": "2022-09-12T10:03:16.022Z"
   },
   {
    "duration": 11,
    "start_time": "2022-09-12T10:03:16.042Z"
   },
   {
    "duration": 17,
    "start_time": "2022-09-12T10:03:16.055Z"
   },
   {
    "duration": 23,
    "start_time": "2022-09-12T10:03:16.074Z"
   },
   {
    "duration": 31,
    "start_time": "2022-09-12T10:03:16.099Z"
   },
   {
    "duration": 16,
    "start_time": "2022-09-12T10:03:16.132Z"
   },
   {
    "duration": 22,
    "start_time": "2022-09-12T10:03:16.150Z"
   },
   {
    "duration": 39,
    "start_time": "2022-09-12T10:03:16.174Z"
   },
   {
    "duration": 5,
    "start_time": "2022-09-12T10:03:16.215Z"
   },
   {
    "duration": 5,
    "start_time": "2022-09-12T10:03:16.222Z"
   },
   {
    "duration": 6,
    "start_time": "2022-09-12T10:03:16.228Z"
   },
   {
    "duration": 10,
    "start_time": "2022-09-12T10:03:16.236Z"
   },
   {
    "duration": 14,
    "start_time": "2022-09-12T10:03:26.685Z"
   },
   {
    "duration": 6,
    "start_time": "2022-09-12T10:03:27.468Z"
   },
   {
    "duration": 8,
    "start_time": "2022-09-12T10:04:32.539Z"
   },
   {
    "duration": 6,
    "start_time": "2022-09-12T10:05:05.157Z"
   },
   {
    "duration": 33,
    "start_time": "2022-09-12T10:05:42.767Z"
   },
   {
    "duration": 4,
    "start_time": "2022-09-12T10:06:00.696Z"
   },
   {
    "duration": 76,
    "start_time": "2022-09-12T10:06:00.702Z"
   },
   {
    "duration": 18,
    "start_time": "2022-09-12T10:06:00.780Z"
   },
   {
    "duration": 39,
    "start_time": "2022-09-12T10:06:00.800Z"
   },
   {
    "duration": 24,
    "start_time": "2022-09-12T10:06:00.841Z"
   },
   {
    "duration": 24,
    "start_time": "2022-09-12T10:06:00.867Z"
   },
   {
    "duration": 24,
    "start_time": "2022-09-12T10:06:00.893Z"
   },
   {
    "duration": 18,
    "start_time": "2022-09-12T10:06:00.919Z"
   },
   {
    "duration": 19,
    "start_time": "2022-09-12T10:06:00.938Z"
   },
   {
    "duration": 24,
    "start_time": "2022-09-12T10:06:00.959Z"
   },
   {
    "duration": 27,
    "start_time": "2022-09-12T10:06:00.985Z"
   },
   {
    "duration": 5,
    "start_time": "2022-09-12T10:06:03.546Z"
   },
   {
    "duration": 3,
    "start_time": "2022-09-12T10:06:04.577Z"
   },
   {
    "duration": 2,
    "start_time": "2022-09-12T10:06:05.057Z"
   },
   {
    "duration": 3,
    "start_time": "2022-09-12T10:06:07.905Z"
   },
   {
    "duration": 13,
    "start_time": "2022-09-12T10:06:10.555Z"
   },
   {
    "duration": 6,
    "start_time": "2022-09-12T10:06:33.484Z"
   },
   {
    "duration": 4,
    "start_time": "2022-09-12T10:07:41.667Z"
   },
   {
    "duration": 65,
    "start_time": "2022-09-12T10:07:41.673Z"
   },
   {
    "duration": 22,
    "start_time": "2022-09-12T10:07:41.741Z"
   },
   {
    "duration": 29,
    "start_time": "2022-09-12T10:07:41.765Z"
   },
   {
    "duration": 30,
    "start_time": "2022-09-12T10:07:41.798Z"
   },
   {
    "duration": 28,
    "start_time": "2022-09-12T10:07:41.830Z"
   },
   {
    "duration": 39,
    "start_time": "2022-09-12T10:07:41.860Z"
   },
   {
    "duration": 24,
    "start_time": "2022-09-12T10:07:41.903Z"
   },
   {
    "duration": 10,
    "start_time": "2022-09-12T10:07:44.057Z"
   },
   {
    "duration": 10,
    "start_time": "2022-09-12T10:07:44.903Z"
   },
   {
    "duration": 9,
    "start_time": "2022-09-12T10:08:09.502Z"
   },
   {
    "duration": 1790,
    "start_time": "2022-09-12T10:13:52.783Z"
   },
   {
    "duration": 4,
    "start_time": "2022-09-12T10:14:24.413Z"
   },
   {
    "duration": 4,
    "start_time": "2022-09-12T10:14:32.574Z"
   },
   {
    "duration": 2,
    "start_time": "2022-09-12T10:14:36.552Z"
   },
   {
    "duration": 3,
    "start_time": "2022-09-12T10:14:36.805Z"
   },
   {
    "duration": 2,
    "start_time": "2022-09-12T10:14:37.303Z"
   },
   {
    "duration": 11,
    "start_time": "2022-09-12T10:14:38.976Z"
   },
   {
    "duration": 5,
    "start_time": "2022-09-12T10:14:41.278Z"
   },
   {
    "duration": 4,
    "start_time": "2022-09-12T10:14:53.397Z"
   },
   {
    "duration": 7,
    "start_time": "2022-09-12T10:24:54.091Z"
   },
   {
    "duration": 13,
    "start_time": "2022-09-12T10:25:17.663Z"
   },
   {
    "duration": 15,
    "start_time": "2022-09-12T10:25:52.405Z"
   },
   {
    "duration": 14,
    "start_time": "2022-09-12T10:32:22.352Z"
   },
   {
    "duration": 18,
    "start_time": "2022-09-12T10:33:55.576Z"
   },
   {
    "duration": 6,
    "start_time": "2022-09-12T10:34:25.572Z"
   },
   {
    "duration": 16,
    "start_time": "2022-09-12T10:35:00.659Z"
   },
   {
    "duration": 4,
    "start_time": "2022-09-12T10:35:57.781Z"
   },
   {
    "duration": 7,
    "start_time": "2022-09-12T10:42:33.651Z"
   },
   {
    "duration": 129,
    "start_time": "2022-09-12T10:43:40.698Z"
   },
   {
    "duration": 3,
    "start_time": "2022-09-12T10:44:21.675Z"
   },
   {
    "duration": 69,
    "start_time": "2022-09-12T10:44:21.680Z"
   },
   {
    "duration": 19,
    "start_time": "2022-09-12T10:44:21.751Z"
   },
   {
    "duration": 13,
    "start_time": "2022-09-12T10:44:21.772Z"
   },
   {
    "duration": 21,
    "start_time": "2022-09-12T10:44:21.787Z"
   },
   {
    "duration": 21,
    "start_time": "2022-09-12T10:44:21.810Z"
   },
   {
    "duration": 20,
    "start_time": "2022-09-12T10:44:21.834Z"
   },
   {
    "duration": 11,
    "start_time": "2022-09-12T10:44:21.857Z"
   },
   {
    "duration": 39,
    "start_time": "2022-09-12T10:44:21.870Z"
   },
   {
    "duration": 24,
    "start_time": "2022-09-12T10:44:21.912Z"
   },
   {
    "duration": 7,
    "start_time": "2022-09-12T10:44:21.938Z"
   },
   {
    "duration": 12,
    "start_time": "2022-09-12T10:44:21.947Z"
   },
   {
    "duration": 9,
    "start_time": "2022-09-12T10:44:21.962Z"
   },
   {
    "duration": 7,
    "start_time": "2022-09-12T10:44:21.974Z"
   },
   {
    "duration": 20,
    "start_time": "2022-09-12T10:44:21.983Z"
   },
   {
    "duration": 11,
    "start_time": "2022-09-12T10:44:22.006Z"
   },
   {
    "duration": 41,
    "start_time": "2022-09-12T10:44:22.019Z"
   },
   {
    "duration": 24,
    "start_time": "2022-09-12T10:44:22.062Z"
   },
   {
    "duration": 11,
    "start_time": "2022-09-12T10:44:22.088Z"
   },
   {
    "duration": 22,
    "start_time": "2022-09-12T10:44:22.101Z"
   },
   {
    "duration": 15,
    "start_time": "2022-09-12T10:44:26.078Z"
   },
   {
    "duration": 3,
    "start_time": "2022-09-12T10:44:29.007Z"
   },
   {
    "duration": 30,
    "start_time": "2022-09-12T10:45:00.062Z"
   },
   {
    "duration": 5,
    "start_time": "2022-09-12T10:45:04.813Z"
   },
   {
    "duration": 104,
    "start_time": "2022-09-12T10:45:06.580Z"
   },
   {
    "duration": 26,
    "start_time": "2022-09-12T10:47:34.943Z"
   },
   {
    "duration": 3,
    "start_time": "2022-09-12T10:47:42.542Z"
   },
   {
    "duration": 66,
    "start_time": "2022-09-12T10:47:42.546Z"
   },
   {
    "duration": 17,
    "start_time": "2022-09-12T10:47:42.614Z"
   },
   {
    "duration": 13,
    "start_time": "2022-09-12T10:47:42.633Z"
   },
   {
    "duration": 21,
    "start_time": "2022-09-12T10:47:42.647Z"
   },
   {
    "duration": 11,
    "start_time": "2022-09-12T10:47:42.670Z"
   },
   {
    "duration": 21,
    "start_time": "2022-09-12T10:47:42.682Z"
   },
   {
    "duration": 12,
    "start_time": "2022-09-12T10:47:42.705Z"
   },
   {
    "duration": 19,
    "start_time": "2022-09-12T10:47:42.719Z"
   },
   {
    "duration": 33,
    "start_time": "2022-09-12T10:47:42.740Z"
   },
   {
    "duration": 14,
    "start_time": "2022-09-12T10:47:42.774Z"
   },
   {
    "duration": 32,
    "start_time": "2022-09-12T10:47:42.790Z"
   },
   {
    "duration": 16,
    "start_time": "2022-09-12T10:47:42.823Z"
   },
   {
    "duration": 13,
    "start_time": "2022-09-12T10:47:42.841Z"
   },
   {
    "duration": 23,
    "start_time": "2022-09-12T10:47:42.856Z"
   },
   {
    "duration": 7,
    "start_time": "2022-09-12T10:47:42.881Z"
   },
   {
    "duration": 24,
    "start_time": "2022-09-12T10:47:42.889Z"
   },
   {
    "duration": 16,
    "start_time": "2022-09-12T10:47:42.915Z"
   },
   {
    "duration": 26,
    "start_time": "2022-09-12T10:47:42.933Z"
   },
   {
    "duration": 4,
    "start_time": "2022-09-12T10:47:45.079Z"
   },
   {
    "duration": 16,
    "start_time": "2022-09-12T10:47:45.801Z"
   },
   {
    "duration": 4,
    "start_time": "2022-09-12T10:47:50.739Z"
   },
   {
    "duration": 21,
    "start_time": "2022-09-12T10:47:56.260Z"
   },
   {
    "duration": 4,
    "start_time": "2022-09-12T10:50:01.447Z"
   },
   {
    "duration": 11,
    "start_time": "2022-09-12T10:50:49.979Z"
   },
   {
    "duration": 7,
    "start_time": "2022-09-12T10:51:03.667Z"
   },
   {
    "duration": 8,
    "start_time": "2022-09-12T10:51:14.579Z"
   },
   {
    "duration": 8,
    "start_time": "2022-09-12T10:53:02.729Z"
   },
   {
    "duration": 8,
    "start_time": "2022-09-12T10:54:01.568Z"
   },
   {
    "duration": 6,
    "start_time": "2022-09-12T10:54:06.650Z"
   },
   {
    "duration": 124,
    "start_time": "2022-09-12T10:54:08.450Z"
   },
   {
    "duration": 11,
    "start_time": "2022-09-12T10:59:49.734Z"
   },
   {
    "duration": 3,
    "start_time": "2022-09-12T11:00:06.633Z"
   },
   {
    "duration": 302,
    "start_time": "2022-09-12T11:00:07.571Z"
   },
   {
    "duration": 317,
    "start_time": "2022-09-12T11:00:11.872Z"
   },
   {
    "duration": 316,
    "start_time": "2022-09-12T11:00:20.732Z"
   },
   {
    "duration": 420,
    "start_time": "2022-09-12T11:00:27.908Z"
   },
   {
    "duration": 62,
    "start_time": "2022-09-12T11:00:29.930Z"
   },
   {
    "duration": 480,
    "start_time": "2022-09-12T11:00:37.749Z"
   },
   {
    "duration": 273,
    "start_time": "2022-09-12T11:05:03.649Z"
   },
   {
    "duration": 66,
    "start_time": "2022-09-12T11:05:08.282Z"
   },
   {
    "duration": 319,
    "start_time": "2022-09-12T11:05:09.921Z"
   },
   {
    "duration": 392,
    "start_time": "2022-09-12T11:05:15.115Z"
   },
   {
    "duration": 166,
    "start_time": "2022-09-12T11:12:01.014Z"
   },
   {
    "duration": 77,
    "start_time": "2022-09-12T11:12:19.256Z"
   },
   {
    "duration": 175,
    "start_time": "2022-09-12T11:12:23.492Z"
   },
   {
    "duration": 227,
    "start_time": "2022-09-12T11:12:31.370Z"
   },
   {
    "duration": 12,
    "start_time": "2022-09-12T11:30:43.505Z"
   },
   {
    "duration": 10,
    "start_time": "2022-09-12T11:30:54.436Z"
   },
   {
    "duration": 122,
    "start_time": "2022-09-12T11:31:50.563Z"
   },
   {
    "duration": 7,
    "start_time": "2022-09-12T11:31:55.011Z"
   },
   {
    "duration": 10,
    "start_time": "2022-09-12T11:32:09.389Z"
   },
   {
    "duration": 25,
    "start_time": "2022-09-12T11:33:06.814Z"
   },
   {
    "duration": 196,
    "start_time": "2022-09-12T11:33:50.524Z"
   },
   {
    "duration": 15,
    "start_time": "2022-09-12T11:35:40.510Z"
   },
   {
    "duration": 20,
    "start_time": "2022-09-12T11:35:44.036Z"
   },
   {
    "duration": 16,
    "start_time": "2022-09-12T11:36:35.826Z"
   },
   {
    "duration": 18,
    "start_time": "2022-09-12T11:36:54.741Z"
   },
   {
    "duration": 16,
    "start_time": "2022-09-12T11:36:58.941Z"
   },
   {
    "duration": 16,
    "start_time": "2022-09-12T11:38:22.852Z"
   },
   {
    "duration": 15,
    "start_time": "2022-09-12T11:38:29.844Z"
   },
   {
    "duration": 21,
    "start_time": "2022-09-12T11:38:41.854Z"
   },
   {
    "duration": 7,
    "start_time": "2022-09-12T11:50:17.840Z"
   },
   {
    "duration": 8,
    "start_time": "2022-09-12T11:51:10.398Z"
   },
   {
    "duration": 7,
    "start_time": "2022-09-12T11:51:17.494Z"
   },
   {
    "duration": 7,
    "start_time": "2022-09-12T11:51:26.905Z"
   },
   {
    "duration": 6,
    "start_time": "2022-09-12T11:51:32.817Z"
   },
   {
    "duration": 5,
    "start_time": "2022-09-12T11:53:56.805Z"
   },
   {
    "duration": 202,
    "start_time": "2022-09-12T11:54:32.734Z"
   },
   {
    "duration": 15,
    "start_time": "2022-09-12T11:57:43.692Z"
   },
   {
    "duration": 16,
    "start_time": "2022-09-12T11:58:16.655Z"
   },
   {
    "duration": 16,
    "start_time": "2022-09-12T11:59:15.478Z"
   },
   {
    "duration": 17,
    "start_time": "2022-09-12T11:59:21.261Z"
   },
   {
    "duration": 20,
    "start_time": "2022-09-12T11:59:42.209Z"
   },
   {
    "duration": 16,
    "start_time": "2022-09-12T11:59:53.722Z"
   },
   {
    "duration": 16,
    "start_time": "2022-09-12T12:00:32.791Z"
   },
   {
    "duration": 18,
    "start_time": "2022-09-12T12:00:45.153Z"
   },
   {
    "duration": 15,
    "start_time": "2022-09-12T12:01:29.436Z"
   },
   {
    "duration": 24,
    "start_time": "2022-09-12T12:01:40.054Z"
   },
   {
    "duration": 95,
    "start_time": "2022-09-12T12:02:40.037Z"
   },
   {
    "duration": 17,
    "start_time": "2022-09-12T12:02:48.670Z"
   },
   {
    "duration": 19,
    "start_time": "2022-09-12T12:03:10.222Z"
   },
   {
    "duration": 18,
    "start_time": "2022-09-12T12:03:19.389Z"
   },
   {
    "duration": 21,
    "start_time": "2022-09-12T12:03:26.527Z"
   },
   {
    "duration": 23,
    "start_time": "2022-09-12T12:04:18.782Z"
   },
   {
    "duration": 288,
    "start_time": "2022-09-12T12:11:12.758Z"
   },
   {
    "duration": 77,
    "start_time": "2022-09-12T12:13:26.520Z"
   },
   {
    "duration": 280,
    "start_time": "2022-09-12T12:13:37.523Z"
   },
   {
    "duration": 356,
    "start_time": "2022-09-12T12:13:52.147Z"
   },
   {
    "duration": 279,
    "start_time": "2022-09-12T12:14:02.213Z"
   },
   {
    "duration": 275,
    "start_time": "2022-09-12T12:14:19.983Z"
   },
   {
    "duration": 130,
    "start_time": "2022-09-12T12:20:29.995Z"
   },
   {
    "duration": 1025,
    "start_time": "2022-09-12T12:20:55.435Z"
   },
   {
    "duration": 30,
    "start_time": "2022-09-12T12:25:20.869Z"
   },
   {
    "duration": 28,
    "start_time": "2022-09-12T12:25:29.024Z"
   },
   {
    "duration": 8,
    "start_time": "2022-09-12T12:26:35.674Z"
   },
   {
    "duration": 8,
    "start_time": "2022-09-12T12:26:49.129Z"
   },
   {
    "duration": 7,
    "start_time": "2022-09-12T12:26:57.273Z"
   },
   {
    "duration": 8,
    "start_time": "2022-09-12T12:27:07.763Z"
   },
   {
    "duration": 7,
    "start_time": "2022-09-12T12:27:57.133Z"
   },
   {
    "duration": 4,
    "start_time": "2022-09-12T12:32:23.560Z"
   },
   {
    "duration": 14,
    "start_time": "2022-09-12T12:35:50.696Z"
   },
   {
    "duration": 39,
    "start_time": "2022-09-12T12:36:16.981Z"
   },
   {
    "duration": 51,
    "start_time": "2022-09-12T12:36:27.671Z"
   },
   {
    "duration": 68,
    "start_time": "2022-09-12T12:36:41.925Z"
   },
   {
    "duration": 39,
    "start_time": "2022-09-12T12:37:19.650Z"
   },
   {
    "duration": 58,
    "start_time": "2022-09-12T12:37:47.398Z"
   },
   {
    "duration": 42,
    "start_time": "2022-09-12T12:38:18.435Z"
   },
   {
    "duration": 47,
    "start_time": "2022-09-12T12:39:30.788Z"
   },
   {
    "duration": 47,
    "start_time": "2022-09-12T12:39:45.728Z"
   },
   {
    "duration": 95,
    "start_time": "2022-09-12T12:46:19.848Z"
   },
   {
    "duration": 33,
    "start_time": "2022-09-12T12:46:24.577Z"
   },
   {
    "duration": 31,
    "start_time": "2022-09-12T12:52:53.202Z"
   },
   {
    "duration": 37,
    "start_time": "2022-09-12T12:52:58.381Z"
   },
   {
    "duration": 35,
    "start_time": "2022-09-12T12:54:01.746Z"
   },
   {
    "duration": 16,
    "start_time": "2022-09-12T12:54:21.878Z"
   },
   {
    "duration": 11,
    "start_time": "2022-09-12T12:54:33.224Z"
   },
   {
    "duration": 12,
    "start_time": "2022-09-12T12:55:29.625Z"
   },
   {
    "duration": 425,
    "start_time": "2022-09-12T12:56:31.893Z"
   },
   {
    "duration": 247,
    "start_time": "2022-09-12T13:33:14.752Z"
   },
   {
    "duration": 259,
    "start_time": "2022-09-12T13:34:23.785Z"
   },
   {
    "duration": 281,
    "start_time": "2022-09-12T13:34:38.923Z"
   },
   {
    "duration": 293,
    "start_time": "2022-09-12T13:37:04.608Z"
   },
   {
    "duration": 293,
    "start_time": "2022-09-12T13:37:47.200Z"
   },
   {
    "duration": 307,
    "start_time": "2022-09-12T13:38:25.706Z"
   },
   {
    "duration": 299,
    "start_time": "2022-09-12T13:38:55.839Z"
   },
   {
    "duration": 311,
    "start_time": "2022-09-12T13:40:04.936Z"
   },
   {
    "duration": 37,
    "start_time": "2022-09-12T13:41:52.357Z"
   },
   {
    "duration": 9,
    "start_time": "2022-09-12T13:41:54.950Z"
   },
   {
    "duration": 16,
    "start_time": "2022-09-12T13:45:35.665Z"
   },
   {
    "duration": 13,
    "start_time": "2022-09-12T13:46:28.919Z"
   },
   {
    "duration": 1569,
    "start_time": "2022-09-12T13:48:54.474Z"
   },
   {
    "duration": 0,
    "start_time": "2022-09-12T13:48:56.044Z"
   },
   {
    "duration": 40,
    "start_time": "2022-09-12T13:49:30.903Z"
   },
   {
    "duration": 10,
    "start_time": "2022-09-12T13:49:33.479Z"
   },
   {
    "duration": 42,
    "start_time": "2022-09-12T13:50:35.641Z"
   },
   {
    "duration": 9,
    "start_time": "2022-09-12T13:50:36.369Z"
   },
   {
    "duration": 997,
    "start_time": "2022-09-12T13:56:50.616Z"
   },
   {
    "duration": 277,
    "start_time": "2022-09-12T13:57:10.275Z"
   },
   {
    "duration": 844,
    "start_time": "2022-09-12T13:58:15.447Z"
   },
   {
    "duration": 821,
    "start_time": "2022-09-12T13:58:25.375Z"
   },
   {
    "duration": 114,
    "start_time": "2022-09-12T13:59:50.630Z"
   },
   {
    "duration": 5,
    "start_time": "2022-09-12T14:00:04.833Z"
   },
   {
    "duration": 5,
    "start_time": "2022-09-12T14:00:14.032Z"
   },
   {
    "duration": 109,
    "start_time": "2022-09-12T14:00:37.093Z"
   },
   {
    "duration": 111,
    "start_time": "2022-09-12T14:00:55.440Z"
   },
   {
    "duration": 25,
    "start_time": "2022-09-12T14:01:39.651Z"
   },
   {
    "duration": 44,
    "start_time": "2022-09-12T14:01:43.315Z"
   },
   {
    "duration": 46,
    "start_time": "2022-09-12T14:01:46.756Z"
   },
   {
    "duration": 12,
    "start_time": "2022-09-12T14:01:51.764Z"
   },
   {
    "duration": 53,
    "start_time": "2022-09-12T14:01:58.325Z"
   },
   {
    "duration": 10,
    "start_time": "2022-09-12T14:01:59.062Z"
   },
   {
    "duration": 83,
    "start_time": "2022-09-12T14:02:06.096Z"
   },
   {
    "duration": 82,
    "start_time": "2022-09-12T14:02:10.112Z"
   },
   {
    "duration": 1596,
    "start_time": "2022-09-12T14:02:17.600Z"
   },
   {
    "duration": 5,
    "start_time": "2022-09-12T14:02:30.098Z"
   },
   {
    "duration": 10,
    "start_time": "2022-09-12T14:02:51.029Z"
   },
   {
    "duration": 151,
    "start_time": "2022-09-12T14:03:14.348Z"
   },
   {
    "duration": 11,
    "start_time": "2022-09-12T14:03:22.097Z"
   },
   {
    "duration": 8,
    "start_time": "2022-09-12T14:04:08.568Z"
   },
   {
    "duration": 17,
    "start_time": "2022-09-12T14:04:21.874Z"
   },
   {
    "duration": 101,
    "start_time": "2022-09-12T14:04:58.032Z"
   },
   {
    "duration": 28,
    "start_time": "2022-09-12T14:05:06.353Z"
   },
   {
    "duration": 30,
    "start_time": "2022-09-12T14:12:29.475Z"
   },
   {
    "duration": 166,
    "start_time": "2022-09-12T14:13:18.142Z"
   },
   {
    "duration": 45,
    "start_time": "2022-09-12T14:14:10.924Z"
   },
   {
    "duration": 8,
    "start_time": "2022-09-12T14:14:26.871Z"
   },
   {
    "duration": 130,
    "start_time": "2022-09-12T14:15:37.744Z"
   },
   {
    "duration": 149,
    "start_time": "2022-09-12T14:16:10.765Z"
   },
   {
    "duration": 1256,
    "start_time": "2022-09-12T14:16:25.902Z"
   },
   {
    "duration": 71,
    "start_time": "2022-09-12T14:16:42.769Z"
   },
   {
    "duration": 8,
    "start_time": "2022-09-12T14:16:45.465Z"
   },
   {
    "duration": 147,
    "start_time": "2022-09-12T14:18:00.895Z"
   },
   {
    "duration": 10,
    "start_time": "2022-09-12T14:18:07.883Z"
   },
   {
    "duration": 7,
    "start_time": "2022-09-12T14:18:24.947Z"
   },
   {
    "duration": 8,
    "start_time": "2022-09-12T14:18:38.260Z"
   },
   {
    "duration": 10,
    "start_time": "2022-09-12T14:18:49.414Z"
   },
   {
    "duration": 11,
    "start_time": "2022-09-12T14:19:10.913Z"
   },
   {
    "duration": 16,
    "start_time": "2022-09-12T14:19:23.611Z"
   },
   {
    "duration": 7,
    "start_time": "2022-09-12T14:19:52.772Z"
   },
   {
    "duration": 8,
    "start_time": "2022-09-12T14:21:59.633Z"
   },
   {
    "duration": 8,
    "start_time": "2022-09-12T14:22:16.723Z"
   },
   {
    "duration": 170,
    "start_time": "2022-09-12T14:23:08.888Z"
   },
   {
    "duration": 160,
    "start_time": "2022-09-12T14:23:13.033Z"
   },
   {
    "duration": 159,
    "start_time": "2022-09-12T14:23:24.283Z"
   },
   {
    "duration": 132,
    "start_time": "2022-09-12T14:23:54.015Z"
   },
   {
    "duration": 9,
    "start_time": "2022-09-12T14:24:17.530Z"
   },
   {
    "duration": 8,
    "start_time": "2022-09-12T14:24:34.308Z"
   },
   {
    "duration": 100,
    "start_time": "2022-09-12T14:25:52.214Z"
   },
   {
    "duration": 9,
    "start_time": "2022-09-12T14:26:00.039Z"
   },
   {
    "duration": 201,
    "start_time": "2022-09-12T14:26:32.013Z"
   },
   {
    "duration": 226,
    "start_time": "2022-09-12T14:27:50.481Z"
   },
   {
    "duration": 154,
    "start_time": "2022-09-12T14:28:02.396Z"
   },
   {
    "duration": 10,
    "start_time": "2022-09-12T14:28:09.111Z"
   },
   {
    "duration": 183,
    "start_time": "2022-09-12T14:29:07.534Z"
   },
   {
    "duration": 167,
    "start_time": "2022-09-12T14:32:06.226Z"
   },
   {
    "duration": 171,
    "start_time": "2022-09-12T14:32:36.223Z"
   },
   {
    "duration": 1404,
    "start_time": "2022-09-12T16:45:46.175Z"
   },
   {
    "duration": 105,
    "start_time": "2022-09-12T16:45:47.581Z"
   },
   {
    "duration": 20,
    "start_time": "2022-09-12T16:45:48.348Z"
   },
   {
    "duration": 7,
    "start_time": "2022-09-12T16:45:52.091Z"
   },
   {
    "duration": 7,
    "start_time": "2022-09-12T16:45:55.004Z"
   },
   {
    "duration": 9,
    "start_time": "2022-09-12T16:45:55.508Z"
   },
   {
    "duration": 18,
    "start_time": "2022-09-12T16:45:57.680Z"
   },
   {
    "duration": 9,
    "start_time": "2022-09-12T16:45:58.167Z"
   },
   {
    "duration": 10,
    "start_time": "2022-09-12T16:46:20.740Z"
   },
   {
    "duration": 15,
    "start_time": "2022-09-12T16:46:21.180Z"
   },
   {
    "duration": 4,
    "start_time": "2022-09-12T16:46:24.703Z"
   },
   {
    "duration": 2,
    "start_time": "2022-09-12T16:46:26.251Z"
   },
   {
    "duration": 3,
    "start_time": "2022-09-12T16:46:27.349Z"
   },
   {
    "duration": 2,
    "start_time": "2022-09-12T16:46:32.375Z"
   },
   {
    "duration": 11,
    "start_time": "2022-09-12T16:46:35.301Z"
   },
   {
    "duration": 4,
    "start_time": "2022-09-12T16:46:36.769Z"
   },
   {
    "duration": 19,
    "start_time": "2022-09-12T16:47:10.810Z"
   },
   {
    "duration": 17,
    "start_time": "2022-09-12T16:47:20.835Z"
   },
   {
    "duration": 19,
    "start_time": "2022-09-12T16:47:57.601Z"
   },
   {
    "duration": 14,
    "start_time": "2022-09-12T16:49:09.246Z"
   },
   {
    "duration": 17,
    "start_time": "2022-09-12T16:49:09.920Z"
   },
   {
    "duration": 6,
    "start_time": "2022-09-12T16:49:10.152Z"
   },
   {
    "duration": 16,
    "start_time": "2022-09-12T16:49:10.396Z"
   },
   {
    "duration": 4,
    "start_time": "2022-09-12T16:49:10.611Z"
   },
   {
    "duration": 19,
    "start_time": "2022-09-12T16:49:10.830Z"
   },
   {
    "duration": 7,
    "start_time": "2022-09-12T16:49:11.293Z"
   },
   {
    "duration": 5,
    "start_time": "2022-09-12T16:49:19.934Z"
   },
   {
    "duration": 96,
    "start_time": "2022-09-12T16:49:20.774Z"
   },
   {
    "duration": 3,
    "start_time": "2022-09-12T16:49:26.194Z"
   },
   {
    "duration": 339,
    "start_time": "2022-09-12T16:49:27.211Z"
   },
   {
    "duration": 211,
    "start_time": "2022-09-12T16:49:39.142Z"
   },
   {
    "duration": 52,
    "start_time": "2022-09-12T16:49:41.732Z"
   },
   {
    "duration": 341,
    "start_time": "2022-09-12T16:49:44.550Z"
   },
   {
    "duration": 283,
    "start_time": "2022-09-12T16:49:47.963Z"
   },
   {
    "duration": 54,
    "start_time": "2022-09-12T16:49:51.278Z"
   },
   {
    "duration": 410,
    "start_time": "2022-09-12T16:49:52.280Z"
   },
   {
    "duration": 5,
    "start_time": "2022-09-12T16:50:17.081Z"
   },
   {
    "duration": 199,
    "start_time": "2022-09-12T16:50:17.600Z"
   },
   {
    "duration": 16,
    "start_time": "2022-09-12T16:50:19.116Z"
   },
   {
    "duration": 17,
    "start_time": "2022-09-12T16:50:30.695Z"
   },
   {
    "duration": 238,
    "start_time": "2022-09-12T16:50:34.501Z"
   },
   {
    "duration": 27,
    "start_time": "2022-09-12T16:50:38.856Z"
   },
   {
    "duration": 228,
    "start_time": "2022-09-12T16:51:42.276Z"
   },
   {
    "duration": 27,
    "start_time": "2022-09-12T16:51:42.911Z"
   },
   {
    "duration": 5,
    "start_time": "2022-09-12T16:51:44.347Z"
   },
   {
    "duration": 11,
    "start_time": "2022-09-12T16:51:47.872Z"
   },
   {
    "duration": 12,
    "start_time": "2022-09-12T16:51:49.000Z"
   },
   {
    "duration": 343,
    "start_time": "2022-09-12T16:51:50.237Z"
   },
   {
    "duration": 989,
    "start_time": "2022-09-12T16:56:52.304Z"
   },
   {
    "duration": 920,
    "start_time": "2022-09-12T16:57:53.670Z"
   },
   {
    "duration": 7,
    "start_time": "2022-09-12T16:57:55.801Z"
   },
   {
    "duration": 7,
    "start_time": "2022-09-12T16:57:59.198Z"
   },
   {
    "duration": 108,
    "start_time": "2022-09-12T16:58:58.272Z"
   },
   {
    "duration": 11,
    "start_time": "2022-09-12T16:59:00.051Z"
   },
   {
    "duration": 3,
    "start_time": "2022-09-12T17:02:08.599Z"
   },
   {
    "duration": 69,
    "start_time": "2022-09-12T17:02:08.604Z"
   },
   {
    "duration": 16,
    "start_time": "2022-09-12T17:02:08.675Z"
   },
   {
    "duration": 12,
    "start_time": "2022-09-12T17:02:08.693Z"
   },
   {
    "duration": 8,
    "start_time": "2022-09-12T17:02:08.707Z"
   },
   {
    "duration": 26,
    "start_time": "2022-09-12T17:02:08.716Z"
   },
   {
    "duration": 15,
    "start_time": "2022-09-12T17:02:08.743Z"
   },
   {
    "duration": 8,
    "start_time": "2022-09-12T17:02:08.760Z"
   },
   {
    "duration": 10,
    "start_time": "2022-09-12T17:02:08.769Z"
   },
   {
    "duration": 18,
    "start_time": "2022-09-12T17:02:08.781Z"
   },
   {
    "duration": 4,
    "start_time": "2022-09-12T17:02:08.800Z"
   },
   {
    "duration": 3,
    "start_time": "2022-09-12T17:02:08.837Z"
   },
   {
    "duration": 6,
    "start_time": "2022-09-12T17:02:08.842Z"
   },
   {
    "duration": 4,
    "start_time": "2022-09-12T17:02:08.851Z"
   },
   {
    "duration": 16,
    "start_time": "2022-09-12T17:02:08.857Z"
   },
   {
    "duration": 4,
    "start_time": "2022-09-12T17:02:08.874Z"
   },
   {
    "duration": 15,
    "start_time": "2022-09-12T17:02:08.880Z"
   },
   {
    "duration": 14,
    "start_time": "2022-09-12T17:02:08.897Z"
   },
   {
    "duration": 5,
    "start_time": "2022-09-12T17:02:08.938Z"
   },
   {
    "duration": 16,
    "start_time": "2022-09-12T17:02:08.945Z"
   },
   {
    "duration": 4,
    "start_time": "2022-09-12T17:02:08.963Z"
   },
   {
    "duration": 22,
    "start_time": "2022-09-12T17:02:08.968Z"
   },
   {
    "duration": 7,
    "start_time": "2022-09-12T17:02:08.992Z"
   },
   {
    "duration": 9,
    "start_time": "2022-09-12T17:02:09.001Z"
   },
   {
    "duration": 108,
    "start_time": "2022-09-12T17:02:09.037Z"
   },
   {
    "duration": 2,
    "start_time": "2022-09-12T17:02:09.147Z"
   },
   {
    "duration": 251,
    "start_time": "2022-09-12T17:02:09.151Z"
   },
   {
    "duration": 278,
    "start_time": "2022-09-12T17:02:09.404Z"
   },
   {
    "duration": 67,
    "start_time": "2022-09-12T17:02:09.684Z"
   },
   {
    "duration": 319,
    "start_time": "2022-09-12T17:02:09.752Z"
   },
   {
    "duration": 288,
    "start_time": "2022-09-12T17:02:10.073Z"
   },
   {
    "duration": 153,
    "start_time": "2022-09-12T17:02:10.363Z"
   },
   {
    "duration": 337,
    "start_time": "2022-09-12T17:02:10.517Z"
   },
   {
    "duration": 7,
    "start_time": "2022-09-12T17:02:10.855Z"
   },
   {
    "duration": 223,
    "start_time": "2022-09-12T17:02:10.863Z"
   },
   {
    "duration": 17,
    "start_time": "2022-09-12T17:02:11.088Z"
   },
   {
    "duration": 264,
    "start_time": "2022-09-12T17:02:11.107Z"
   },
   {
    "duration": 29,
    "start_time": "2022-09-12T17:02:11.372Z"
   },
   {
    "duration": 5,
    "start_time": "2022-09-12T17:02:11.403Z"
   },
   {
    "duration": 34,
    "start_time": "2022-09-12T17:02:11.410Z"
   },
   {
    "duration": 13,
    "start_time": "2022-09-12T17:02:11.448Z"
   },
   {
    "duration": 284,
    "start_time": "2022-09-12T17:02:11.463Z"
   },
   {
    "duration": 114,
    "start_time": "2022-09-12T17:02:11.748Z"
   },
   {
    "duration": 9,
    "start_time": "2022-09-12T17:02:11.863Z"
   },
   {
    "duration": 2641,
    "start_time": "2022-09-12T17:02:49.179Z"
   },
   {
    "duration": 40,
    "start_time": "2022-09-12T17:10:15.683Z"
   },
   {
    "duration": 154,
    "start_time": "2022-09-12T17:10:27.878Z"
   },
   {
    "duration": 63,
    "start_time": "2022-09-12T17:11:52.549Z"
   },
   {
    "duration": 228,
    "start_time": "2022-09-12T17:11:59.763Z"
   },
   {
    "duration": 38,
    "start_time": "2022-09-12T17:12:35.976Z"
   },
   {
    "duration": 58,
    "start_time": "2022-09-12T17:12:39.629Z"
   },
   {
    "duration": 76,
    "start_time": "2022-09-12T17:12:43.768Z"
   },
   {
    "duration": 96,
    "start_time": "2022-09-12T17:12:49.049Z"
   },
   {
    "duration": 111,
    "start_time": "2022-09-12T17:12:56.316Z"
   },
   {
    "duration": 135,
    "start_time": "2022-09-12T17:13:01.350Z"
   },
   {
    "duration": 15,
    "start_time": "2022-09-12T17:15:04.025Z"
   },
   {
    "duration": 17,
    "start_time": "2022-09-12T17:15:11.350Z"
   },
   {
    "duration": 16,
    "start_time": "2022-09-12T17:15:22.221Z"
   },
   {
    "duration": 16,
    "start_time": "2022-09-12T17:17:01.315Z"
   },
   {
    "duration": 7,
    "start_time": "2022-09-12T17:17:54.400Z"
   },
   {
    "duration": 167,
    "start_time": "2022-09-12T17:17:55.266Z"
   },
   {
    "duration": 15,
    "start_time": "2022-09-12T17:17:55.759Z"
   },
   {
    "duration": 15,
    "start_time": "2022-09-12T17:17:59.895Z"
   },
   {
    "duration": 6,
    "start_time": "2022-09-12T17:18:30.469Z"
   },
   {
    "duration": 178,
    "start_time": "2022-09-12T17:18:30.712Z"
   },
   {
    "duration": 17,
    "start_time": "2022-09-12T17:18:33.266Z"
   },
   {
    "duration": 247,
    "start_time": "2022-09-12T17:18:35.281Z"
   },
   {
    "duration": 29,
    "start_time": "2022-09-12T17:18:35.622Z"
   },
   {
    "duration": 6,
    "start_time": "2022-09-12T17:18:37.336Z"
   },
   {
    "duration": 13,
    "start_time": "2022-09-12T17:18:39.641Z"
   },
   {
    "duration": 11,
    "start_time": "2022-09-12T17:18:39.893Z"
   },
   {
    "duration": 259,
    "start_time": "2022-09-12T17:18:40.151Z"
   },
   {
    "duration": 114,
    "start_time": "2022-09-12T17:18:42.425Z"
   },
   {
    "duration": 10,
    "start_time": "2022-09-12T17:18:57.755Z"
   },
   {
    "duration": 2632,
    "start_time": "2022-09-12T17:19:01.941Z"
   },
   {
    "duration": 153,
    "start_time": "2022-09-12T17:19:04.575Z"
   },
   {
    "duration": 84,
    "start_time": "2022-09-12T17:20:20.767Z"
   },
   {
    "duration": 141,
    "start_time": "2022-09-12T17:22:31.400Z"
   },
   {
    "duration": 125,
    "start_time": "2022-09-12T17:23:14.467Z"
   },
   {
    "duration": 15,
    "start_time": "2022-09-12T17:28:31.581Z"
   },
   {
    "duration": 178,
    "start_time": "2022-09-12T17:28:51.020Z"
   },
   {
    "duration": 65,
    "start_time": "2022-09-12T17:47:04.234Z"
   },
   {
    "duration": 292,
    "start_time": "2022-09-12T17:47:10.006Z"
   },
   {
    "duration": 284,
    "start_time": "2022-09-12T17:51:20.054Z"
   },
   {
    "duration": 441,
    "start_time": "2022-09-12T17:51:37.740Z"
   },
   {
    "duration": 1066,
    "start_time": "2022-09-12T17:51:48.270Z"
   },
   {
    "duration": 309,
    "start_time": "2022-09-12T17:52:02.712Z"
   },
   {
    "duration": 303,
    "start_time": "2022-09-12T17:52:29.142Z"
   },
   {
    "duration": 89,
    "start_time": "2022-09-12T17:52:47.381Z"
   },
   {
    "duration": 283,
    "start_time": "2022-09-12T17:55:35.834Z"
   },
   {
    "duration": 463,
    "start_time": "2022-09-12T17:55:47.322Z"
   },
   {
    "duration": 307,
    "start_time": "2022-09-12T17:56:01.560Z"
   },
   {
    "duration": 300,
    "start_time": "2022-09-12T17:58:54.913Z"
   },
   {
    "duration": 296,
    "start_time": "2022-09-12T17:59:05.235Z"
   },
   {
    "duration": 628,
    "start_time": "2022-09-12T18:04:21.459Z"
   },
   {
    "duration": 725,
    "start_time": "2022-09-12T18:04:27.015Z"
   },
   {
    "duration": 122,
    "start_time": "2022-09-12T18:05:21.076Z"
   },
   {
    "duration": 287,
    "start_time": "2022-09-12T18:05:24.444Z"
   },
   {
    "duration": 433,
    "start_time": "2022-09-12T18:05:36.762Z"
   },
   {
    "duration": 296,
    "start_time": "2022-09-12T18:05:54.609Z"
   },
   {
    "duration": 318,
    "start_time": "2022-09-12T18:06:09.533Z"
   },
   {
    "duration": 298,
    "start_time": "2022-09-12T18:06:20.134Z"
   },
   {
    "duration": 299,
    "start_time": "2022-09-12T18:06:25.165Z"
   },
   {
    "duration": 519,
    "start_time": "2022-09-12T18:07:20.570Z"
   },
   {
    "duration": 459,
    "start_time": "2022-09-12T18:07:37.241Z"
   },
   {
    "duration": 304,
    "start_time": "2022-09-12T18:07:43.290Z"
   },
   {
    "duration": 290,
    "start_time": "2022-09-12T18:08:05.636Z"
   },
   {
    "duration": 282,
    "start_time": "2022-09-12T18:08:19.547Z"
   },
   {
    "duration": 322,
    "start_time": "2022-09-12T18:08:51.633Z"
   },
   {
    "duration": 303,
    "start_time": "2022-09-12T18:09:24.518Z"
   },
   {
    "duration": 428,
    "start_time": "2022-09-12T18:09:29.996Z"
   },
   {
    "duration": 291,
    "start_time": "2022-09-12T18:09:39.260Z"
   },
   {
    "duration": 290,
    "start_time": "2022-09-12T18:09:43.576Z"
   },
   {
    "duration": 298,
    "start_time": "2022-09-12T18:09:58.121Z"
   },
   {
    "duration": 293,
    "start_time": "2022-09-12T18:10:21.790Z"
   },
   {
    "duration": 1297,
    "start_time": "2022-09-12T18:11:46.206Z"
   },
   {
    "duration": 415,
    "start_time": "2022-09-12T18:12:59.370Z"
   },
   {
    "duration": 332,
    "start_time": "2022-09-12T18:13:51.641Z"
   },
   {
    "duration": 339,
    "start_time": "2022-09-12T18:14:19.851Z"
   },
   {
    "duration": 347,
    "start_time": "2022-09-12T18:14:27.563Z"
   },
   {
    "duration": 314,
    "start_time": "2022-09-12T18:14:53.526Z"
   },
   {
    "duration": 1208,
    "start_time": "2022-09-12T18:15:06.981Z"
   },
   {
    "duration": 1470,
    "start_time": "2022-09-12T18:15:15.789Z"
   },
   {
    "duration": 363,
    "start_time": "2022-09-12T18:15:56.963Z"
   },
   {
    "duration": 315,
    "start_time": "2022-09-12T18:16:02.041Z"
   },
   {
    "duration": 320,
    "start_time": "2022-09-12T18:16:09.695Z"
   },
   {
    "duration": 326,
    "start_time": "2022-09-12T18:16:25.514Z"
   },
   {
    "duration": 1083,
    "start_time": "2022-09-12T18:17:35.070Z"
   },
   {
    "duration": 509,
    "start_time": "2022-09-12T18:17:50.169Z"
   },
   {
    "duration": 1421,
    "start_time": "2022-09-12T18:18:13.311Z"
   },
   {
    "duration": 1485,
    "start_time": "2022-09-12T18:27:01.937Z"
   },
   {
    "duration": 324,
    "start_time": "2022-09-12T18:27:09.944Z"
   },
   {
    "duration": 336,
    "start_time": "2022-09-12T18:27:14.701Z"
   },
   {
    "duration": 291,
    "start_time": "2022-09-12T18:27:33.912Z"
   },
   {
    "duration": 410,
    "start_time": "2022-09-12T18:27:42.460Z"
   },
   {
    "duration": 519,
    "start_time": "2022-09-12T18:28:07.562Z"
   },
   {
    "duration": 305,
    "start_time": "2022-09-12T18:28:39.066Z"
   },
   {
    "duration": 380,
    "start_time": "2022-09-12T18:28:53.679Z"
   },
   {
    "duration": 299,
    "start_time": "2022-09-12T18:29:02.877Z"
   },
   {
    "duration": 1031,
    "start_time": "2022-09-12T18:29:42.360Z"
   },
   {
    "duration": 786,
    "start_time": "2022-09-12T18:32:46.489Z"
   },
   {
    "duration": 307,
    "start_time": "2022-09-12T18:32:59.323Z"
   },
   {
    "duration": 313,
    "start_time": "2022-09-12T18:33:04.778Z"
   },
   {
    "duration": 618,
    "start_time": "2022-09-12T18:33:59.428Z"
   },
   {
    "duration": 321,
    "start_time": "2022-09-12T18:35:11.714Z"
   },
   {
    "duration": 304,
    "start_time": "2022-09-12T18:36:52.034Z"
   },
   {
    "duration": 727,
    "start_time": "2022-09-12T18:37:10.251Z"
   },
   {
    "duration": 471,
    "start_time": "2022-09-12T18:38:11.751Z"
   },
   {
    "duration": 519,
    "start_time": "2022-09-12T18:38:19.720Z"
   },
   {
    "duration": 350,
    "start_time": "2022-09-12T18:54:25.100Z"
   },
   {
    "duration": 4,
    "start_time": "2022-09-12T18:54:30.131Z"
   },
   {
    "duration": 302,
    "start_time": "2022-09-12T18:54:31.973Z"
   },
   {
    "duration": 370,
    "start_time": "2022-09-12T18:55:25.919Z"
   },
   {
    "duration": 528,
    "start_time": "2022-09-12T18:56:05.882Z"
   },
   {
    "duration": 2,
    "start_time": "2022-09-12T18:56:27.098Z"
   },
   {
    "duration": 354,
    "start_time": "2022-09-12T18:57:12.199Z"
   },
   {
    "duration": 335,
    "start_time": "2022-09-12T18:58:12.930Z"
   },
   {
    "duration": 3,
    "start_time": "2022-09-12T18:58:16.158Z"
   },
   {
    "duration": 386,
    "start_time": "2022-09-12T18:58:17.121Z"
   },
   {
    "duration": 337,
    "start_time": "2022-09-12T18:58:21.831Z"
   },
   {
    "duration": 382,
    "start_time": "2022-09-12T18:58:54.549Z"
   },
   {
    "duration": 333,
    "start_time": "2022-09-12T18:59:35.054Z"
   },
   {
    "duration": 537,
    "start_time": "2022-09-12T18:59:59.049Z"
   },
   {
    "duration": 435,
    "start_time": "2022-09-12T19:01:09.993Z"
   },
   {
    "duration": 398,
    "start_time": "2022-09-12T19:02:18.568Z"
   },
   {
    "duration": 400,
    "start_time": "2022-09-12T19:02:53.908Z"
   },
   {
    "duration": 425,
    "start_time": "2022-09-12T19:03:35.798Z"
   },
   {
    "duration": 3,
    "start_time": "2022-09-12T19:04:07.551Z"
   },
   {
    "duration": 431,
    "start_time": "2022-09-12T19:04:10.969Z"
   },
   {
    "duration": 409,
    "start_time": "2022-09-12T19:05:12.135Z"
   },
   {
    "duration": 643,
    "start_time": "2022-09-12T19:06:09.054Z"
   },
   {
    "duration": 1193,
    "start_time": "2022-09-13T04:45:42.988Z"
   },
   {
    "duration": 192,
    "start_time": "2022-09-13T04:45:44.183Z"
   },
   {
    "duration": 18,
    "start_time": "2022-09-13T04:45:44.376Z"
   },
   {
    "duration": 5,
    "start_time": "2022-09-13T04:45:44.396Z"
   },
   {
    "duration": 6,
    "start_time": "2022-09-13T04:45:44.403Z"
   },
   {
    "duration": 10,
    "start_time": "2022-09-13T04:45:44.410Z"
   },
   {
    "duration": 14,
    "start_time": "2022-09-13T04:45:44.422Z"
   },
   {
    "duration": 7,
    "start_time": "2022-09-13T04:45:44.437Z"
   },
   {
    "duration": 8,
    "start_time": "2022-09-13T04:45:44.445Z"
   },
   {
    "duration": 13,
    "start_time": "2022-09-13T04:45:44.455Z"
   },
   {
    "duration": 4,
    "start_time": "2022-09-13T04:45:44.469Z"
   },
   {
    "duration": 10,
    "start_time": "2022-09-13T04:45:44.474Z"
   },
   {
    "duration": 8,
    "start_time": "2022-09-13T04:45:44.505Z"
   },
   {
    "duration": 5,
    "start_time": "2022-09-13T04:45:44.515Z"
   },
   {
    "duration": 21,
    "start_time": "2022-09-13T04:45:44.522Z"
   },
   {
    "duration": 4,
    "start_time": "2022-09-13T04:45:44.544Z"
   },
   {
    "duration": 16,
    "start_time": "2022-09-13T04:45:44.549Z"
   },
   {
    "duration": 14,
    "start_time": "2022-09-13T04:45:44.567Z"
   },
   {
    "duration": 8,
    "start_time": "2022-09-13T04:45:44.583Z"
   },
   {
    "duration": 15,
    "start_time": "2022-09-13T04:45:44.604Z"
   },
   {
    "duration": 3,
    "start_time": "2022-09-13T04:45:44.621Z"
   },
   {
    "duration": 20,
    "start_time": "2022-09-13T04:45:44.625Z"
   },
   {
    "duration": 7,
    "start_time": "2022-09-13T04:45:44.646Z"
   },
   {
    "duration": 5,
    "start_time": "2022-09-13T04:45:44.655Z"
   },
   {
    "duration": 117,
    "start_time": "2022-09-13T04:45:44.662Z"
   },
   {
    "duration": 2,
    "start_time": "2022-09-13T04:45:44.781Z"
   },
   {
    "duration": 252,
    "start_time": "2022-09-13T04:45:44.785Z"
   },
   {
    "duration": 217,
    "start_time": "2022-09-13T04:45:45.039Z"
   },
   {
    "duration": 113,
    "start_time": "2022-09-13T04:45:45.258Z"
   },
   {
    "duration": 269,
    "start_time": "2022-09-13T04:45:45.373Z"
   },
   {
    "duration": 264,
    "start_time": "2022-09-13T04:45:45.643Z"
   },
   {
    "duration": 65,
    "start_time": "2022-09-13T04:45:45.908Z"
   },
   {
    "duration": 413,
    "start_time": "2022-09-13T04:45:45.974Z"
   },
   {
    "duration": 6,
    "start_time": "2022-09-13T04:45:46.389Z"
   },
   {
    "duration": 166,
    "start_time": "2022-09-13T04:45:46.396Z"
   },
   {
    "duration": 15,
    "start_time": "2022-09-13T04:45:46.563Z"
   },
   {
    "duration": 234,
    "start_time": "2022-09-13T04:45:46.580Z"
   },
   {
    "duration": 26,
    "start_time": "2022-09-13T04:45:46.816Z"
   },
   {
    "duration": 5,
    "start_time": "2022-09-13T04:45:46.844Z"
   },
   {
    "duration": 18,
    "start_time": "2022-09-13T04:45:46.850Z"
   },
   {
    "duration": 33,
    "start_time": "2022-09-13T04:45:46.873Z"
   },
   {
    "duration": 239,
    "start_time": "2022-09-13T04:45:46.908Z"
   },
   {
    "duration": 222,
    "start_time": "2022-09-13T04:45:47.149Z"
   },
   {
    "duration": 10,
    "start_time": "2022-09-13T04:45:47.373Z"
   },
   {
    "duration": 2343,
    "start_time": "2022-09-13T04:45:47.385Z"
   },
   {
    "duration": 129,
    "start_time": "2022-09-13T04:45:49.730Z"
   },
   {
    "duration": 3,
    "start_time": "2022-09-13T04:45:49.861Z"
   },
   {
    "duration": 18,
    "start_time": "2022-09-13T04:45:49.865Z"
   },
   {
    "duration": 194,
    "start_time": "2022-09-13T04:45:49.884Z"
   },
   {
    "duration": 2,
    "start_time": "2022-09-13T04:45:50.080Z"
   },
   {
    "duration": 3,
    "start_time": "2022-09-13T04:45:55.601Z"
   },
   {
    "duration": 517,
    "start_time": "2022-09-13T04:45:56.201Z"
   },
   {
    "duration": 401,
    "start_time": "2022-09-13T04:47:05.612Z"
   },
   {
    "duration": 456,
    "start_time": "2022-09-13T04:47:27.279Z"
   },
   {
    "duration": 393,
    "start_time": "2022-09-13T04:47:33.191Z"
   },
   {
    "duration": 467,
    "start_time": "2022-09-13T04:47:47.255Z"
   },
   {
    "duration": 69,
    "start_time": "2022-09-13T04:48:35.545Z"
   },
   {
    "duration": 71,
    "start_time": "2022-09-13T04:48:42.570Z"
   },
   {
    "duration": 447,
    "start_time": "2022-09-13T04:48:52.107Z"
   },
   {
    "duration": 563,
    "start_time": "2022-09-13T04:50:51.200Z"
   },
   {
    "duration": 428,
    "start_time": "2022-09-13T04:51:01.050Z"
   },
   {
    "duration": 75,
    "start_time": "2022-09-13T04:52:44.544Z"
   },
   {
    "duration": 382,
    "start_time": "2022-09-13T04:52:50.080Z"
   },
   {
    "duration": 424,
    "start_time": "2022-09-13T04:52:56.994Z"
   },
   {
    "duration": 382,
    "start_time": "2022-09-13T04:53:02.274Z"
   },
   {
    "duration": 536,
    "start_time": "2022-09-13T04:53:06.061Z"
   },
   {
    "duration": 347,
    "start_time": "2022-09-13T04:54:12.676Z"
   },
   {
    "duration": 395,
    "start_time": "2022-09-13T04:54:22.189Z"
   },
   {
    "duration": 366,
    "start_time": "2022-09-13T04:54:28.055Z"
   },
   {
    "duration": 338,
    "start_time": "2022-09-13T04:54:34.671Z"
   },
   {
    "duration": 351,
    "start_time": "2022-09-13T04:55:36.753Z"
   },
   {
    "duration": 368,
    "start_time": "2022-09-13T05:00:18.039Z"
   },
   {
    "duration": 542,
    "start_time": "2022-09-13T05:00:24.129Z"
   },
   {
    "duration": 553,
    "start_time": "2022-09-13T05:04:29.355Z"
   },
   {
    "duration": 348,
    "start_time": "2022-09-13T05:05:22.155Z"
   },
   {
    "duration": 388,
    "start_time": "2022-09-13T05:05:47.518Z"
   },
   {
    "duration": 352,
    "start_time": "2022-09-13T05:06:12.321Z"
   },
   {
    "duration": 1846,
    "start_time": "2022-09-13T05:06:44.432Z"
   },
   {
    "duration": 1033,
    "start_time": "2022-09-13T05:07:00.736Z"
   },
   {
    "duration": 492,
    "start_time": "2022-09-13T05:07:16.579Z"
   },
   {
    "duration": 526,
    "start_time": "2022-09-13T05:07:29.003Z"
   },
   {
    "duration": 346,
    "start_time": "2022-09-13T05:11:41.322Z"
   },
   {
    "duration": 810,
    "start_time": "2022-09-13T05:11:49.507Z"
   },
   {
    "duration": 467,
    "start_time": "2022-09-13T05:12:48.067Z"
   },
   {
    "duration": 3,
    "start_time": "2022-09-13T05:17:25.999Z"
   },
   {
    "duration": 4,
    "start_time": "2022-09-13T05:18:21.947Z"
   },
   {
    "duration": 11,
    "start_time": "2022-09-13T05:18:30.534Z"
   },
   {
    "duration": 11,
    "start_time": "2022-09-13T05:20:35.774Z"
   },
   {
    "duration": 343,
    "start_time": "2022-09-13T05:20:51.909Z"
   },
   {
    "duration": 378,
    "start_time": "2022-09-13T05:21:01.903Z"
   },
   {
    "duration": 347,
    "start_time": "2022-09-13T05:21:21.325Z"
   },
   {
    "duration": 12,
    "start_time": "2022-09-13T05:28:34.002Z"
   },
   {
    "duration": 381,
    "start_time": "2022-09-13T05:28:37.178Z"
   },
   {
    "duration": 16,
    "start_time": "2022-09-13T05:29:46.063Z"
   },
   {
    "duration": 318,
    "start_time": "2022-09-13T05:29:48.263Z"
   },
   {
    "duration": 11,
    "start_time": "2022-09-13T05:31:14.641Z"
   },
   {
    "duration": 12,
    "start_time": "2022-09-13T05:31:16.832Z"
   },
   {
    "duration": 355,
    "start_time": "2022-09-13T05:31:17.873Z"
   },
   {
    "duration": 12,
    "start_time": "2022-09-13T05:32:29.535Z"
   },
   {
    "duration": 341,
    "start_time": "2022-09-13T05:32:30.712Z"
   },
   {
    "duration": 11,
    "start_time": "2022-09-13T05:33:19.653Z"
   },
   {
    "duration": 348,
    "start_time": "2022-09-13T05:33:20.730Z"
   },
   {
    "duration": 11,
    "start_time": "2022-09-13T05:33:56.369Z"
   },
   {
    "duration": 12,
    "start_time": "2022-09-13T05:33:58.145Z"
   },
   {
    "duration": 333,
    "start_time": "2022-09-13T05:33:58.889Z"
   },
   {
    "duration": 90,
    "start_time": "2022-09-13T05:35:56.510Z"
   },
   {
    "duration": 394,
    "start_time": "2022-09-13T05:35:57.058Z"
   },
   {
    "duration": 98,
    "start_time": "2022-09-13T05:36:08.868Z"
   },
   {
    "duration": 11,
    "start_time": "2022-09-13T05:36:18.847Z"
   },
   {
    "duration": 2157,
    "start_time": "2022-09-13T05:36:21.212Z"
   },
   {
    "duration": 11,
    "start_time": "2022-09-13T05:36:57.676Z"
   },
   {
    "duration": 1549,
    "start_time": "2022-09-13T05:36:58.579Z"
   },
   {
    "duration": 314,
    "start_time": "2022-09-13T05:37:13.301Z"
   },
   {
    "duration": 12,
    "start_time": "2022-09-13T05:37:15.508Z"
   },
   {
    "duration": 341,
    "start_time": "2022-09-13T05:37:16.437Z"
   },
   {
    "duration": 334,
    "start_time": "2022-09-13T05:37:29.862Z"
   },
   {
    "duration": 354,
    "start_time": "2022-09-13T05:37:45.809Z"
   },
   {
    "duration": 14,
    "start_time": "2022-09-13T05:40:33.584Z"
   },
   {
    "duration": 3,
    "start_time": "2022-09-13T05:40:46.632Z"
   },
   {
    "duration": 50,
    "start_time": "2022-09-13T05:40:46.637Z"
   },
   {
    "duration": 15,
    "start_time": "2022-09-13T05:40:46.689Z"
   },
   {
    "duration": 8,
    "start_time": "2022-09-13T05:40:46.706Z"
   },
   {
    "duration": 9,
    "start_time": "2022-09-13T05:40:46.715Z"
   },
   {
    "duration": 10,
    "start_time": "2022-09-13T05:40:46.726Z"
   },
   {
    "duration": 17,
    "start_time": "2022-09-13T05:40:46.737Z"
   },
   {
    "duration": 11,
    "start_time": "2022-09-13T05:40:46.755Z"
   },
   {
    "duration": 9,
    "start_time": "2022-09-13T05:40:46.768Z"
   },
   {
    "duration": 40,
    "start_time": "2022-09-13T05:40:46.780Z"
   },
   {
    "duration": 5,
    "start_time": "2022-09-13T05:40:46.823Z"
   },
   {
    "duration": 7,
    "start_time": "2022-09-13T05:40:46.829Z"
   },
   {
    "duration": 4,
    "start_time": "2022-09-13T05:40:46.839Z"
   },
   {
    "duration": 5,
    "start_time": "2022-09-13T05:40:46.845Z"
   },
   {
    "duration": 13,
    "start_time": "2022-09-13T05:40:46.851Z"
   },
   {
    "duration": 3,
    "start_time": "2022-09-13T05:40:46.866Z"
   },
   {
    "duration": 16,
    "start_time": "2022-09-13T05:40:46.870Z"
   },
   {
    "duration": 21,
    "start_time": "2022-09-13T05:40:46.887Z"
   },
   {
    "duration": 8,
    "start_time": "2022-09-13T05:40:46.909Z"
   },
   {
    "duration": 14,
    "start_time": "2022-09-13T05:40:46.919Z"
   },
   {
    "duration": 3,
    "start_time": "2022-09-13T05:40:46.935Z"
   },
   {
    "duration": 21,
    "start_time": "2022-09-13T05:40:46.939Z"
   },
   {
    "duration": 7,
    "start_time": "2022-09-13T05:40:46.961Z"
   },
   {
    "duration": 6,
    "start_time": "2022-09-13T05:40:46.969Z"
   },
   {
    "duration": 84,
    "start_time": "2022-09-13T05:40:47.006Z"
   },
   {
    "duration": 3,
    "start_time": "2022-09-13T05:40:47.105Z"
   },
   {
    "duration": 260,
    "start_time": "2022-09-13T05:40:47.109Z"
   },
   {
    "duration": 234,
    "start_time": "2022-09-13T05:40:47.373Z"
   },
   {
    "duration": 49,
    "start_time": "2022-09-13T05:40:47.608Z"
   },
   {
    "duration": 274,
    "start_time": "2022-09-13T05:40:47.658Z"
   },
   {
    "duration": 285,
    "start_time": "2022-09-13T05:40:47.934Z"
   },
   {
    "duration": 65,
    "start_time": "2022-09-13T05:40:48.221Z"
   },
   {
    "duration": 302,
    "start_time": "2022-09-13T05:40:48.287Z"
   },
   {
    "duration": 6,
    "start_time": "2022-09-13T05:40:48.590Z"
   },
   {
    "duration": 169,
    "start_time": "2022-09-13T05:40:48.605Z"
   },
   {
    "duration": 15,
    "start_time": "2022-09-13T05:40:48.776Z"
   },
   {
    "duration": 221,
    "start_time": "2022-09-13T05:40:48.792Z"
   },
   {
    "duration": 28,
    "start_time": "2022-09-13T05:40:49.014Z"
   },
   {
    "duration": 6,
    "start_time": "2022-09-13T05:40:49.045Z"
   },
   {
    "duration": 11,
    "start_time": "2022-09-13T05:40:49.053Z"
   },
   {
    "duration": 9,
    "start_time": "2022-09-13T05:40:49.066Z"
   },
   {
    "duration": 262,
    "start_time": "2022-09-13T05:40:49.077Z"
   },
   {
    "duration": 110,
    "start_time": "2022-09-13T05:40:49.341Z"
   },
   {
    "duration": 8,
    "start_time": "2022-09-13T05:40:49.453Z"
   },
   {
    "duration": 2435,
    "start_time": "2022-09-13T05:40:49.462Z"
   },
   {
    "duration": 132,
    "start_time": "2022-09-13T05:40:51.898Z"
   },
   {
    "duration": 4,
    "start_time": "2022-09-13T05:40:52.032Z"
   },
   {
    "duration": 16,
    "start_time": "2022-09-13T05:40:52.037Z"
   },
   {
    "duration": 178,
    "start_time": "2022-09-13T05:40:52.054Z"
   },
   {
    "duration": 3,
    "start_time": "2022-09-13T05:40:52.234Z"
   },
   {
    "duration": 476,
    "start_time": "2022-09-13T05:40:52.238Z"
   },
   {
    "duration": 4,
    "start_time": "2022-09-13T05:40:52.716Z"
   },
   {
    "duration": 13,
    "start_time": "2022-09-13T05:40:52.722Z"
   },
   {
    "duration": 397,
    "start_time": "2022-09-13T05:40:52.736Z"
   },
   {
    "duration": 391,
    "start_time": "2022-09-13T05:40:53.135Z"
   },
   {
    "duration": 373,
    "start_time": "2022-09-13T05:40:53.528Z"
   },
   {
    "duration": 12,
    "start_time": "2022-09-13T06:09:54.388Z"
   },
   {
    "duration": 328,
    "start_time": "2022-09-13T06:09:56.411Z"
   },
   {
    "duration": 354,
    "start_time": "2022-09-13T06:09:56.741Z"
   },
   {
    "duration": 619,
    "start_time": "2022-09-13T06:09:57.636Z"
   },
   {
    "duration": 16,
    "start_time": "2022-09-13T06:13:48.370Z"
   },
   {
    "duration": 21,
    "start_time": "2022-09-13T06:26:29.322Z"
   },
   {
    "duration": 5,
    "start_time": "2022-09-13T07:01:23.512Z"
   },
   {
    "duration": 2,
    "start_time": "2022-09-13T07:01:24.175Z"
   },
   {
    "duration": 2,
    "start_time": "2022-09-13T07:01:24.408Z"
   },
   {
    "duration": 2,
    "start_time": "2022-09-13T07:01:25.143Z"
   },
   {
    "duration": 11,
    "start_time": "2022-09-13T07:01:42.176Z"
   },
   {
    "duration": 3,
    "start_time": "2022-09-13T07:01:42.449Z"
   },
   {
    "duration": 14,
    "start_time": "2022-09-13T07:01:42.755Z"
   },
   {
    "duration": 3,
    "start_time": "2022-09-13T07:01:52.943Z"
   },
   {
    "duration": 52,
    "start_time": "2022-09-13T07:01:52.948Z"
   },
   {
    "duration": 16,
    "start_time": "2022-09-13T07:01:53.001Z"
   },
   {
    "duration": 9,
    "start_time": "2022-09-13T07:01:53.019Z"
   },
   {
    "duration": 9,
    "start_time": "2022-09-13T07:01:53.030Z"
   },
   {
    "duration": 7,
    "start_time": "2022-09-13T07:01:53.040Z"
   },
   {
    "duration": 18,
    "start_time": "2022-09-13T07:01:53.049Z"
   },
   {
    "duration": 41,
    "start_time": "2022-09-13T07:01:53.069Z"
   },
   {
    "duration": 8,
    "start_time": "2022-09-13T07:01:53.113Z"
   },
   {
    "duration": 15,
    "start_time": "2022-09-13T07:01:53.123Z"
   },
   {
    "duration": 5,
    "start_time": "2022-09-13T07:01:53.139Z"
   },
   {
    "duration": 5,
    "start_time": "2022-09-13T07:01:53.146Z"
   },
   {
    "duration": 5,
    "start_time": "2022-09-13T07:01:53.153Z"
   },
   {
    "duration": 4,
    "start_time": "2022-09-13T07:01:53.159Z"
   },
   {
    "duration": 44,
    "start_time": "2022-09-13T07:01:53.165Z"
   },
   {
    "duration": 4,
    "start_time": "2022-09-13T07:01:53.210Z"
   },
   {
    "duration": 19,
    "start_time": "2022-09-13T07:01:53.215Z"
   },
   {
    "duration": 14,
    "start_time": "2022-09-13T07:01:53.235Z"
   },
   {
    "duration": 10,
    "start_time": "2022-09-13T07:01:53.250Z"
   },
   {
    "duration": 17,
    "start_time": "2022-09-13T07:01:53.261Z"
   },
   {
    "duration": 3,
    "start_time": "2022-09-13T07:01:53.280Z"
   },
   {
    "duration": 35,
    "start_time": "2022-09-13T07:01:53.284Z"
   },
   {
    "duration": 7,
    "start_time": "2022-09-13T07:01:53.320Z"
   },
   {
    "duration": 7,
    "start_time": "2022-09-13T07:01:53.331Z"
   },
   {
    "duration": 112,
    "start_time": "2022-09-13T07:01:53.339Z"
   },
   {
    "duration": 3,
    "start_time": "2022-09-13T07:01:53.453Z"
   },
   {
    "duration": 238,
    "start_time": "2022-09-13T07:01:53.457Z"
   },
   {
    "duration": 214,
    "start_time": "2022-09-13T07:01:53.697Z"
   },
   {
    "duration": 49,
    "start_time": "2022-09-13T07:01:53.913Z"
   },
   {
    "duration": 279,
    "start_time": "2022-09-13T07:01:53.964Z"
   },
   {
    "duration": 281,
    "start_time": "2022-09-13T07:01:54.244Z"
   },
   {
    "duration": 55,
    "start_time": "2022-09-13T07:01:54.526Z"
   },
   {
    "duration": 362,
    "start_time": "2022-09-13T07:01:54.583Z"
   },
   {
    "duration": 6,
    "start_time": "2022-09-13T07:01:54.946Z"
   },
   {
    "duration": 175,
    "start_time": "2022-09-13T07:01:54.953Z"
   },
   {
    "duration": 15,
    "start_time": "2022-09-13T07:01:55.129Z"
   },
   {
    "duration": 229,
    "start_time": "2022-09-13T07:01:55.146Z"
   },
   {
    "duration": 38,
    "start_time": "2022-09-13T07:01:55.377Z"
   },
   {
    "duration": 4,
    "start_time": "2022-09-13T07:01:55.416Z"
   },
   {
    "duration": 19,
    "start_time": "2022-09-13T07:01:55.422Z"
   },
   {
    "duration": 9,
    "start_time": "2022-09-13T07:01:55.442Z"
   },
   {
    "duration": 238,
    "start_time": "2022-09-13T07:01:55.452Z"
   },
   {
    "duration": 108,
    "start_time": "2022-09-13T07:01:55.691Z"
   },
   {
    "duration": 8,
    "start_time": "2022-09-13T07:01:55.804Z"
   },
   {
    "duration": 2526,
    "start_time": "2022-09-13T07:01:55.814Z"
   },
   {
    "duration": 134,
    "start_time": "2022-09-13T07:01:58.342Z"
   },
   {
    "duration": 4,
    "start_time": "2022-09-13T07:01:58.478Z"
   },
   {
    "duration": 25,
    "start_time": "2022-09-13T07:01:58.483Z"
   },
   {
    "duration": 188,
    "start_time": "2022-09-13T07:01:58.509Z"
   },
   {
    "duration": 7,
    "start_time": "2022-09-13T07:01:58.698Z"
   },
   {
    "duration": 475,
    "start_time": "2022-09-13T07:01:58.706Z"
   },
   {
    "duration": 4,
    "start_time": "2022-09-13T07:01:59.183Z"
   },
   {
    "duration": 19,
    "start_time": "2022-09-13T07:01:59.189Z"
   },
   {
    "duration": 354,
    "start_time": "2022-09-13T07:01:59.209Z"
   },
   {
    "duration": 369,
    "start_time": "2022-09-13T07:01:59.565Z"
   },
   {
    "duration": 354,
    "start_time": "2022-09-13T07:01:59.936Z"
   },
   {
    "duration": 19,
    "start_time": "2022-09-13T07:02:00.292Z"
   },
   {
    "duration": 10,
    "start_time": "2022-09-13T07:02:00.312Z"
   },
   {
    "duration": 24,
    "start_time": "2022-09-13T07:02:00.324Z"
   },
   {
    "duration": 52,
    "start_time": "2022-09-13T07:02:00.349Z"
   },
   {
    "duration": 1188,
    "start_time": "2022-09-13T16:53:58.269Z"
   },
   {
    "duration": 49,
    "start_time": "2022-09-13T16:53:59.458Z"
   },
   {
    "duration": 20,
    "start_time": "2022-09-13T16:53:59.509Z"
   },
   {
    "duration": 6,
    "start_time": "2022-09-13T16:53:59.531Z"
   },
   {
    "duration": 8,
    "start_time": "2022-09-13T16:53:59.538Z"
   },
   {
    "duration": 10,
    "start_time": "2022-09-13T16:53:59.548Z"
   },
   {
    "duration": 17,
    "start_time": "2022-09-13T16:53:59.559Z"
   },
   {
    "duration": 23,
    "start_time": "2022-09-13T16:53:59.578Z"
   },
   {
    "duration": 10,
    "start_time": "2022-09-13T16:53:59.603Z"
   },
   {
    "duration": 16,
    "start_time": "2022-09-13T16:53:59.616Z"
   },
   {
    "duration": 4,
    "start_time": "2022-09-13T16:53:59.634Z"
   },
   {
    "duration": 4,
    "start_time": "2022-09-13T16:53:59.640Z"
   },
   {
    "duration": 5,
    "start_time": "2022-09-13T16:53:59.645Z"
   },
   {
    "duration": 5,
    "start_time": "2022-09-13T16:53:59.652Z"
   },
   {
    "duration": 45,
    "start_time": "2022-09-13T16:53:59.659Z"
   },
   {
    "duration": 4,
    "start_time": "2022-09-13T16:53:59.706Z"
   },
   {
    "duration": 16,
    "start_time": "2022-09-13T16:53:59.712Z"
   },
   {
    "duration": 17,
    "start_time": "2022-09-13T16:53:59.729Z"
   },
   {
    "duration": 7,
    "start_time": "2022-09-13T16:53:59.748Z"
   },
   {
    "duration": 49,
    "start_time": "2022-09-13T16:53:59.756Z"
   },
   {
    "duration": 4,
    "start_time": "2022-09-13T16:53:59.807Z"
   },
   {
    "duration": 24,
    "start_time": "2022-09-13T16:53:59.813Z"
   },
   {
    "duration": 8,
    "start_time": "2022-09-13T16:53:59.839Z"
   },
   {
    "duration": 13,
    "start_time": "2022-09-13T16:53:59.849Z"
   },
   {
    "duration": 116,
    "start_time": "2022-09-13T16:53:59.864Z"
   },
   {
    "duration": 3,
    "start_time": "2022-09-13T16:53:59.995Z"
   },
   {
    "duration": 303,
    "start_time": "2022-09-13T16:54:00.000Z"
   },
   {
    "duration": 259,
    "start_time": "2022-09-13T16:54:00.308Z"
   },
   {
    "duration": 68,
    "start_time": "2022-09-13T16:54:00.569Z"
   },
   {
    "duration": 412,
    "start_time": "2022-09-13T16:54:00.639Z"
   },
   {
    "duration": 320,
    "start_time": "2022-09-13T16:54:01.053Z"
   },
   {
    "duration": 76,
    "start_time": "2022-09-13T16:54:01.375Z"
   },
   {
    "duration": 442,
    "start_time": "2022-09-13T16:54:01.453Z"
   },
   {
    "duration": 6,
    "start_time": "2022-09-13T16:54:01.896Z"
   },
   {
    "duration": 217,
    "start_time": "2022-09-13T16:54:01.904Z"
   },
   {
    "duration": 17,
    "start_time": "2022-09-13T16:54:02.122Z"
   },
   {
    "duration": 282,
    "start_time": "2022-09-13T16:54:02.140Z"
   },
   {
    "duration": 31,
    "start_time": "2022-09-13T16:54:02.423Z"
   },
   {
    "duration": 5,
    "start_time": "2022-09-13T16:54:02.456Z"
   },
   {
    "duration": 39,
    "start_time": "2022-09-13T16:54:02.463Z"
   },
   {
    "duration": 11,
    "start_time": "2022-09-13T16:54:02.504Z"
   },
   {
    "duration": 290,
    "start_time": "2022-09-13T16:54:02.517Z"
   },
   {
    "duration": 152,
    "start_time": "2022-09-13T16:54:02.808Z"
   },
   {
    "duration": 11,
    "start_time": "2022-09-13T16:54:02.961Z"
   },
   {
    "duration": 2831,
    "start_time": "2022-09-13T16:54:02.973Z"
   },
   {
    "duration": 153,
    "start_time": "2022-09-13T16:54:05.806Z"
   },
   {
    "duration": 4,
    "start_time": "2022-09-13T16:54:05.961Z"
   },
   {
    "duration": 33,
    "start_time": "2022-09-13T16:54:05.967Z"
   },
   {
    "duration": 240,
    "start_time": "2022-09-13T16:54:06.002Z"
   },
   {
    "duration": 3,
    "start_time": "2022-09-13T16:54:06.244Z"
   },
   {
    "duration": 753,
    "start_time": "2022-09-13T16:54:06.249Z"
   },
   {
    "duration": 4,
    "start_time": "2022-09-13T16:54:07.004Z"
   },
   {
    "duration": 34,
    "start_time": "2022-09-13T16:54:07.010Z"
   },
   {
    "duration": 419,
    "start_time": "2022-09-13T16:54:07.046Z"
   },
   {
    "duration": 414,
    "start_time": "2022-09-13T16:54:07.467Z"
   },
   {
    "duration": 442,
    "start_time": "2022-09-13T16:54:07.883Z"
   },
   {
    "duration": 12,
    "start_time": "2022-09-13T16:54:08.326Z"
   },
   {
    "duration": 36,
    "start_time": "2022-09-13T16:54:08.339Z"
   },
   {
    "duration": 32,
    "start_time": "2022-09-13T16:54:08.377Z"
   },
   {
    "duration": 54,
    "start_time": "2022-09-13T16:54:08.411Z"
   },
   {
    "duration": 53,
    "start_time": "2022-09-13T17:05:28.313Z"
   },
   {
    "duration": 54,
    "start_time": "2022-09-13T17:06:08.219Z"
   },
   {
    "duration": 1236,
    "start_time": "2022-09-14T05:35:33.768Z"
   },
   {
    "duration": 92,
    "start_time": "2022-09-14T05:35:35.047Z"
   },
   {
    "duration": 19,
    "start_time": "2022-09-14T05:35:46.984Z"
   },
   {
    "duration": 7,
    "start_time": "2022-09-14T05:35:47.200Z"
   },
   {
    "duration": 7,
    "start_time": "2022-09-14T05:35:47.679Z"
   },
   {
    "duration": 6,
    "start_time": "2022-09-14T05:35:48.431Z"
   },
   {
    "duration": 14,
    "start_time": "2022-09-14T05:35:54.943Z"
   },
   {
    "duration": 9,
    "start_time": "2022-09-14T05:35:59.314Z"
   },
   {
    "duration": 9,
    "start_time": "2022-09-14T05:36:00.428Z"
   },
   {
    "duration": 16,
    "start_time": "2022-09-14T05:36:01.298Z"
   },
   {
    "duration": 5,
    "start_time": "2022-09-14T05:36:06.250Z"
   },
   {
    "duration": 3,
    "start_time": "2022-09-14T05:36:08.834Z"
   },
   {
    "duration": 2,
    "start_time": "2022-09-14T05:36:09.122Z"
   },
   {
    "duration": 3,
    "start_time": "2022-09-14T05:36:10.242Z"
   },
   {
    "duration": 12,
    "start_time": "2022-09-14T05:36:15.644Z"
   },
   {
    "duration": 3,
    "start_time": "2022-09-14T05:36:26.860Z"
   },
   {
    "duration": 4,
    "start_time": "2022-09-14T05:37:18.361Z"
   },
   {
    "duration": 53,
    "start_time": "2022-09-14T05:37:18.367Z"
   },
   {
    "duration": 15,
    "start_time": "2022-09-14T05:37:18.422Z"
   },
   {
    "duration": 8,
    "start_time": "2022-09-14T05:37:18.439Z"
   },
   {
    "duration": 7,
    "start_time": "2022-09-14T05:37:18.448Z"
   },
   {
    "duration": 7,
    "start_time": "2022-09-14T05:37:18.457Z"
   },
   {
    "duration": 15,
    "start_time": "2022-09-14T05:37:18.465Z"
   },
   {
    "duration": 8,
    "start_time": "2022-09-14T05:37:18.482Z"
   },
   {
    "duration": 34,
    "start_time": "2022-09-14T05:37:18.491Z"
   },
   {
    "duration": 17,
    "start_time": "2022-09-14T05:37:18.526Z"
   },
   {
    "duration": 4,
    "start_time": "2022-09-14T05:37:18.544Z"
   },
   {
    "duration": 9,
    "start_time": "2022-09-14T05:37:18.549Z"
   },
   {
    "duration": 5,
    "start_time": "2022-09-14T05:37:18.559Z"
   },
   {
    "duration": 5,
    "start_time": "2022-09-14T05:37:18.565Z"
   },
   {
    "duration": 12,
    "start_time": "2022-09-14T05:39:39.873Z"
   },
   {
    "duration": 5,
    "start_time": "2022-09-14T05:39:48.954Z"
   },
   {
    "duration": 14,
    "start_time": "2022-09-14T05:39:49.428Z"
   },
   {
    "duration": 14,
    "start_time": "2022-09-14T05:39:52.435Z"
   },
   {
    "duration": 6,
    "start_time": "2022-09-14T05:39:52.979Z"
   },
   {
    "duration": 20,
    "start_time": "2022-09-14T05:39:53.508Z"
   },
   {
    "duration": 3,
    "start_time": "2022-09-14T05:39:56.528Z"
   },
   {
    "duration": 22,
    "start_time": "2022-09-14T05:39:57.452Z"
   },
   {
    "duration": 7,
    "start_time": "2022-09-14T05:39:59.164Z"
   },
   {
    "duration": 55,
    "start_time": "2022-09-14T05:40:08.261Z"
   },
   {
    "duration": 5,
    "start_time": "2022-09-14T05:40:14.262Z"
   },
   {
    "duration": 89,
    "start_time": "2022-09-14T05:40:14.590Z"
   },
   {
    "duration": 3,
    "start_time": "2022-09-14T05:40:15.629Z"
   },
   {
    "duration": 242,
    "start_time": "2022-09-14T05:40:16.444Z"
   },
   {
    "duration": 209,
    "start_time": "2022-09-14T05:40:28.488Z"
   },
   {
    "duration": 51,
    "start_time": "2022-09-14T05:40:31.688Z"
   },
   {
    "duration": 334,
    "start_time": "2022-09-14T05:40:33.256Z"
   },
   {
    "duration": 262,
    "start_time": "2022-09-14T05:40:33.840Z"
   },
   {
    "duration": 62,
    "start_time": "2022-09-14T05:40:34.104Z"
   },
   {
    "duration": 397,
    "start_time": "2022-09-14T05:40:42.763Z"
   },
   {
    "duration": 6,
    "start_time": "2022-09-14T05:43:17.744Z"
   },
   {
    "duration": 184,
    "start_time": "2022-09-14T05:43:20.977Z"
   },
   {
    "duration": 167,
    "start_time": "2022-09-14T05:43:34.233Z"
   },
   {
    "duration": 15,
    "start_time": "2022-09-14T05:43:37.739Z"
   },
   {
    "duration": 260,
    "start_time": "2022-09-14T05:43:41.466Z"
   },
   {
    "duration": 28,
    "start_time": "2022-09-14T05:43:51.901Z"
   },
   {
    "duration": 4,
    "start_time": "2022-09-14T05:44:23.034Z"
   },
   {
    "duration": 11,
    "start_time": "2022-09-14T05:44:25.745Z"
   },
   {
    "duration": 11,
    "start_time": "2022-09-14T05:44:27.882Z"
   },
   {
    "duration": 10,
    "start_time": "2022-09-14T05:44:52.006Z"
   },
   {
    "duration": 10,
    "start_time": "2022-09-14T05:44:57.270Z"
   },
   {
    "duration": 261,
    "start_time": "2022-09-14T05:45:04.497Z"
   },
   {
    "duration": 208,
    "start_time": "2022-09-14T05:47:14.394Z"
   },
   {
    "duration": 11,
    "start_time": "2022-09-14T05:47:17.089Z"
   },
   {
    "duration": 9,
    "start_time": "2022-09-14T05:48:09.628Z"
   },
   {
    "duration": 9,
    "start_time": "2022-09-14T05:49:08.087Z"
   },
   {
    "duration": 7,
    "start_time": "2022-09-14T05:49:50.055Z"
   },
   {
    "duration": 10,
    "start_time": "2022-09-14T05:50:07.370Z"
   },
   {
    "duration": 8,
    "start_time": "2022-09-14T05:53:19.031Z"
   },
   {
    "duration": 8,
    "start_time": "2022-09-14T05:53:31.232Z"
   },
   {
    "duration": 127,
    "start_time": "2022-09-14T06:01:02.857Z"
   },
   {
    "duration": 11,
    "start_time": "2022-09-14T06:01:04.984Z"
   },
   {
    "duration": 2732,
    "start_time": "2022-09-14T06:02:35.071Z"
   },
   {
    "duration": 127,
    "start_time": "2022-09-14T06:03:18.003Z"
   },
   {
    "duration": 124,
    "start_time": "2022-09-14T06:03:42.607Z"
   },
   {
    "duration": 5,
    "start_time": "2022-09-14T06:07:24.743Z"
   },
   {
    "duration": 16,
    "start_time": "2022-09-14T06:07:25.305Z"
   },
   {
    "duration": 186,
    "start_time": "2022-09-14T06:07:31.097Z"
   },
   {
    "duration": 3,
    "start_time": "2022-09-14T06:07:37.297Z"
   },
   {
    "duration": 618,
    "start_time": "2022-09-14T06:07:38.049Z"
   },
   {
    "duration": 268,
    "start_time": "2022-09-14T06:12:55.778Z"
   },
   {
    "duration": 4,
    "start_time": "2022-09-14T06:14:07.722Z"
   },
   {
    "duration": 113,
    "start_time": "2022-09-14T06:14:45.413Z"
   },
   {
    "duration": 24,
    "start_time": "2022-09-14T06:14:50.834Z"
   },
   {
    "duration": 9,
    "start_time": "2022-09-14T06:15:48.833Z"
   },
   {
    "duration": 23,
    "start_time": "2022-09-14T06:15:55.153Z"
   },
   {
    "duration": 262,
    "start_time": "2022-09-14T06:17:16.036Z"
   },
   {
    "duration": 257,
    "start_time": "2022-09-14T06:18:28.007Z"
   },
   {
    "duration": 4,
    "start_time": "2022-09-14T06:20:05.083Z"
   },
   {
    "duration": 578,
    "start_time": "2022-09-14T06:20:06.875Z"
   },
   {
    "duration": 4,
    "start_time": "2022-09-14T06:36:22.708Z"
   },
   {
    "duration": 12,
    "start_time": "2022-09-14T06:36:23.385Z"
   },
   {
    "duration": 343,
    "start_time": "2022-09-14T06:36:26.947Z"
   },
   {
    "duration": 376,
    "start_time": "2022-09-14T06:36:38.933Z"
   },
   {
    "duration": 365,
    "start_time": "2022-09-14T06:36:45.630Z"
   },
   {
    "duration": 10,
    "start_time": "2022-09-14T06:37:32.755Z"
   },
   {
    "duration": 6,
    "start_time": "2022-09-14T06:37:38.716Z"
   },
   {
    "duration": 16,
    "start_time": "2022-09-14T06:37:51.686Z"
   },
   {
    "duration": 15,
    "start_time": "2022-09-14T06:38:16.082Z"
   },
   {
    "duration": 10,
    "start_time": "2022-09-14T06:40:28.514Z"
   },
   {
    "duration": 3,
    "start_time": "2022-09-14T06:57:38.068Z"
   },
   {
    "duration": 53,
    "start_time": "2022-09-14T06:57:38.073Z"
   },
   {
    "duration": 15,
    "start_time": "2022-09-14T06:57:38.127Z"
   },
   {
    "duration": 8,
    "start_time": "2022-09-14T06:57:38.144Z"
   },
   {
    "duration": 8,
    "start_time": "2022-09-14T06:57:38.154Z"
   },
   {
    "duration": 7,
    "start_time": "2022-09-14T06:57:38.163Z"
   },
   {
    "duration": 13,
    "start_time": "2022-09-14T06:57:38.172Z"
   },
   {
    "duration": 37,
    "start_time": "2022-09-14T06:57:38.187Z"
   },
   {
    "duration": 8,
    "start_time": "2022-09-14T06:57:38.226Z"
   },
   {
    "duration": 16,
    "start_time": "2022-09-14T06:57:38.236Z"
   },
   {
    "duration": 3,
    "start_time": "2022-09-14T06:57:38.254Z"
   },
   {
    "duration": 4,
    "start_time": "2022-09-14T06:57:38.259Z"
   },
   {
    "duration": 4,
    "start_time": "2022-09-14T06:57:38.265Z"
   },
   {
    "duration": 7,
    "start_time": "2022-09-14T06:57:38.270Z"
   },
   {
    "duration": 29,
    "start_time": "2022-09-14T06:57:38.278Z"
   },
   {
    "duration": 13,
    "start_time": "2022-09-14T06:57:38.309Z"
   },
   {
    "duration": 29,
    "start_time": "2022-09-14T06:57:38.323Z"
   },
   {
    "duration": 20,
    "start_time": "2022-09-14T06:57:38.353Z"
   },
   {
    "duration": 8,
    "start_time": "2022-09-14T06:57:38.375Z"
   },
   {
    "duration": 16,
    "start_time": "2022-09-14T06:57:38.384Z"
   },
   {
    "duration": 3,
    "start_time": "2022-09-14T06:57:38.401Z"
   },
   {
    "duration": 28,
    "start_time": "2022-09-14T06:57:38.405Z"
   },
   {
    "duration": 6,
    "start_time": "2022-09-14T06:57:38.434Z"
   },
   {
    "duration": 42,
    "start_time": "2022-09-14T06:57:38.443Z"
   },
   {
    "duration": 4,
    "start_time": "2022-09-14T06:57:38.486Z"
   },
   {
    "duration": 96,
    "start_time": "2022-09-14T06:57:38.491Z"
   },
   {
    "duration": 2,
    "start_time": "2022-09-14T06:57:38.588Z"
   },
   {
    "duration": 238,
    "start_time": "2022-09-14T06:57:38.592Z"
   },
   {
    "duration": 345,
    "start_time": "2022-09-14T06:57:38.831Z"
   },
   {
    "duration": 62,
    "start_time": "2022-09-14T06:57:39.178Z"
   },
   {
    "duration": 276,
    "start_time": "2022-09-14T06:57:39.241Z"
   },
   {
    "duration": 261,
    "start_time": "2022-09-14T06:57:39.518Z"
   },
   {
    "duration": 61,
    "start_time": "2022-09-14T06:57:39.781Z"
   },
   {
    "duration": 305,
    "start_time": "2022-09-14T06:57:39.843Z"
   },
   {
    "duration": 5,
    "start_time": "2022-09-14T06:57:40.150Z"
   },
   {
    "duration": 175,
    "start_time": "2022-09-14T06:57:40.157Z"
   },
   {
    "duration": 14,
    "start_time": "2022-09-14T06:57:40.334Z"
   },
   {
    "duration": 242,
    "start_time": "2022-09-14T06:57:40.350Z"
   },
   {
    "duration": 40,
    "start_time": "2022-09-14T06:57:40.593Z"
   },
   {
    "duration": 4,
    "start_time": "2022-09-14T06:57:40.635Z"
   },
   {
    "duration": 10,
    "start_time": "2022-09-14T06:57:40.640Z"
   },
   {
    "duration": 11,
    "start_time": "2022-09-14T06:57:40.651Z"
   },
   {
    "duration": 262,
    "start_time": "2022-09-14T06:57:40.663Z"
   },
   {
    "duration": 130,
    "start_time": "2022-09-14T06:57:40.926Z"
   },
   {
    "duration": 12,
    "start_time": "2022-09-14T06:57:41.060Z"
   },
   {
    "duration": 2721,
    "start_time": "2022-09-14T06:57:41.074Z"
   },
   {
    "duration": 136,
    "start_time": "2022-09-14T06:57:43.796Z"
   },
   {
    "duration": 3,
    "start_time": "2022-09-14T06:57:43.934Z"
   },
   {
    "duration": 15,
    "start_time": "2022-09-14T06:57:43.939Z"
   },
   {
    "duration": 187,
    "start_time": "2022-09-14T06:57:43.955Z"
   },
   {
    "duration": 2,
    "start_time": "2022-09-14T06:57:44.144Z"
   },
   {
    "duration": 589,
    "start_time": "2022-09-14T06:57:44.148Z"
   },
   {
    "duration": 261,
    "start_time": "2022-09-14T06:57:44.738Z"
   },
   {
    "duration": 4,
    "start_time": "2022-09-14T06:57:45.000Z"
   },
   {
    "duration": 32,
    "start_time": "2022-09-14T06:57:45.006Z"
   },
   {
    "duration": 364,
    "start_time": "2022-09-14T06:57:45.039Z"
   },
   {
    "duration": 362,
    "start_time": "2022-09-14T06:57:45.405Z"
   },
   {
    "duration": 359,
    "start_time": "2022-09-14T06:57:45.769Z"
   },
   {
    "duration": 11,
    "start_time": "2022-09-14T06:57:46.130Z"
   },
   {
    "duration": 281,
    "start_time": "2022-09-14T07:19:42.569Z"
   },
   {
    "duration": 13,
    "start_time": "2022-09-14T07:27:22.444Z"
   },
   {
    "duration": 14,
    "start_time": "2022-09-14T07:28:04.578Z"
   },
   {
    "duration": 12,
    "start_time": "2022-09-14T07:28:14.843Z"
   },
   {
    "duration": 12,
    "start_time": "2022-09-14T07:29:16.916Z"
   },
   {
    "duration": 1099,
    "start_time": "2022-09-14T20:47:47.280Z"
   },
   {
    "duration": 51,
    "start_time": "2022-09-14T20:47:48.380Z"
   },
   {
    "duration": 18,
    "start_time": "2022-09-14T20:47:48.432Z"
   },
   {
    "duration": 6,
    "start_time": "2022-09-14T20:47:48.452Z"
   },
   {
    "duration": 8,
    "start_time": "2022-09-14T20:47:48.459Z"
   },
   {
    "duration": 8,
    "start_time": "2022-09-14T20:47:48.468Z"
   },
   {
    "duration": 37,
    "start_time": "2022-09-14T20:47:48.477Z"
   },
   {
    "duration": 7,
    "start_time": "2022-09-14T20:47:48.515Z"
   },
   {
    "duration": 8,
    "start_time": "2022-09-14T20:47:48.524Z"
   },
   {
    "duration": 12,
    "start_time": "2022-09-14T20:47:48.534Z"
   },
   {
    "duration": 3,
    "start_time": "2022-09-14T20:47:48.548Z"
   },
   {
    "duration": 3,
    "start_time": "2022-09-14T20:47:48.553Z"
   },
   {
    "duration": 6,
    "start_time": "2022-09-14T20:47:48.557Z"
   },
   {
    "duration": 10,
    "start_time": "2022-09-14T20:47:48.565Z"
   },
   {
    "duration": 15,
    "start_time": "2022-09-14T20:47:48.610Z"
   },
   {
    "duration": 3,
    "start_time": "2022-09-14T20:47:48.626Z"
   },
   {
    "duration": 15,
    "start_time": "2022-09-14T20:47:48.630Z"
   },
   {
    "duration": 19,
    "start_time": "2022-09-14T20:47:48.646Z"
   },
   {
    "duration": 6,
    "start_time": "2022-09-14T20:47:48.667Z"
   },
   {
    "duration": 36,
    "start_time": "2022-09-14T20:47:48.674Z"
   },
   {
    "duration": 3,
    "start_time": "2022-09-14T20:47:48.711Z"
   },
   {
    "duration": 22,
    "start_time": "2022-09-14T20:47:48.716Z"
   },
   {
    "duration": 6,
    "start_time": "2022-09-14T20:47:48.740Z"
   },
   {
    "duration": 34,
    "start_time": "2022-09-14T20:47:48.747Z"
   },
   {
    "duration": 5,
    "start_time": "2022-09-14T20:47:48.808Z"
   },
   {
    "duration": 110,
    "start_time": "2022-09-14T20:47:48.814Z"
   },
   {
    "duration": 2,
    "start_time": "2022-09-14T20:47:48.926Z"
   },
   {
    "duration": 263,
    "start_time": "2022-09-14T20:47:48.932Z"
   },
   {
    "duration": 244,
    "start_time": "2022-09-14T20:47:49.196Z"
   },
   {
    "duration": 69,
    "start_time": "2022-09-14T20:47:49.441Z"
   },
   {
    "duration": 311,
    "start_time": "2022-09-14T20:47:49.511Z"
   },
   {
    "duration": 263,
    "start_time": "2022-09-14T20:47:49.824Z"
   },
   {
    "duration": 63,
    "start_time": "2022-09-14T20:47:50.088Z"
   },
   {
    "duration": 411,
    "start_time": "2022-09-14T20:47:50.153Z"
   },
   {
    "duration": 6,
    "start_time": "2022-09-14T20:47:50.565Z"
   },
   {
    "duration": 189,
    "start_time": "2022-09-14T20:47:50.573Z"
   },
   {
    "duration": 14,
    "start_time": "2022-09-14T20:47:50.763Z"
   },
   {
    "duration": 250,
    "start_time": "2022-09-14T20:47:50.778Z"
   },
   {
    "duration": 30,
    "start_time": "2022-09-14T20:47:51.029Z"
   },
   {
    "duration": 4,
    "start_time": "2022-09-14T20:47:51.061Z"
   },
   {
    "duration": 13,
    "start_time": "2022-09-14T20:47:51.066Z"
   },
   {
    "duration": 32,
    "start_time": "2022-09-14T20:47:51.081Z"
   },
   {
    "duration": 268,
    "start_time": "2022-09-14T20:47:51.115Z"
   },
   {
    "duration": 142,
    "start_time": "2022-09-14T20:47:51.385Z"
   },
   {
    "duration": 10,
    "start_time": "2022-09-14T20:47:51.529Z"
   },
   {
    "duration": 2725,
    "start_time": "2022-09-14T20:47:51.541Z"
   },
   {
    "duration": 132,
    "start_time": "2022-09-14T20:47:54.268Z"
   },
   {
    "duration": 7,
    "start_time": "2022-09-14T20:47:54.408Z"
   },
   {
    "duration": 19,
    "start_time": "2022-09-14T20:47:54.417Z"
   },
   {
    "duration": 293,
    "start_time": "2022-09-14T20:47:54.439Z"
   },
   {
    "duration": 3,
    "start_time": "2022-09-14T20:47:54.733Z"
   },
   {
    "duration": 561,
    "start_time": "2022-09-14T20:47:54.738Z"
   },
   {
    "duration": 19,
    "start_time": "2022-09-14T20:47:55.301Z"
   },
   {
    "duration": 269,
    "start_time": "2022-09-14T20:47:55.322Z"
   },
   {
    "duration": 5,
    "start_time": "2022-09-14T20:47:55.592Z"
   },
   {
    "duration": 18,
    "start_time": "2022-09-14T20:47:55.599Z"
   },
   {
    "duration": 348,
    "start_time": "2022-09-14T20:47:55.618Z"
   },
   {
    "duration": 351,
    "start_time": "2022-09-14T20:47:55.968Z"
   },
   {
    "duration": 359,
    "start_time": "2022-09-14T20:47:56.321Z"
   },
   {
    "duration": 10,
    "start_time": "2022-09-14T20:47:56.682Z"
   },
   {
    "duration": 18,
    "start_time": "2022-09-14T20:47:56.693Z"
   },
   {
    "duration": 15,
    "start_time": "2022-09-14T20:47:56.712Z"
   },
   {
    "duration": 15,
    "start_time": "2022-09-14T20:47:56.729Z"
   }
  ],
  "kernelspec": {
   "display_name": "Python 3 (ipykernel)",
   "language": "python",
   "name": "python3"
  },
  "language_info": {
   "codemirror_mode": {
    "name": "ipython",
    "version": 3
   },
   "file_extension": ".py",
   "mimetype": "text/x-python",
   "name": "python",
   "nbconvert_exporter": "python",
   "pygments_lexer": "ipython3",
   "version": "3.9.12"
  },
  "toc": {
   "base_numbering": 1,
   "nav_menu": {},
   "number_sections": true,
   "sideBar": true,
   "skip_h1_title": true,
   "title_cell": "Table of Contents",
   "title_sidebar": "Contents",
   "toc_cell": false,
   "toc_position": {
    "height": "calc(100% - 180px)",
    "left": "10px",
    "top": "150px",
    "width": "203.682px"
   },
   "toc_section_display": true,
   "toc_window_display": false
  }
 },
 "nbformat": 4,
 "nbformat_minor": 2
}
